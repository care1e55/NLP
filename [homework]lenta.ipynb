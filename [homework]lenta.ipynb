{
 "cells": [
  {
   "cell_type": "markdown",
   "metadata": {
    "colab_type": "text",
    "id": "GdVNiitLfQjZ"
   },
   "source": [
    "## Задание\n",
    "\n",
    "Мы будем работать с (частичными) данными lenta.ru отсюда: https://www.kaggle.com/yutkin/corpus-of-russian-news-articles-from-lenta/ Ниже примерный список того, что можно попробовать в ходе решения.\n",
    "\n",
    "1. Проведите предобработку текста: уберите небуквенные символы, проведите токенизацию, лемматизируйте текст. Разбейте данные на train и test для задачи классификации (в качестве метки класса будем использовать поле topic_label).В качестве данных для классификации в пунктах 3 и 5 попробуйте взять\n",
    "    - только заголовки (title)\n",
    "    - только тексты новости (text)\n",
    "    - и то, и другое\n",
    "2. Обучите fastText для классификации текстов по темам (baseline).\n",
    "3. Обучите свою модель w2v (или возьмите любую подходящую предобученную модель). Реализуйте функцию для вычисления вектора текста / заголовка / текста+заголовка как среднего вектора входящих в него слов. \n",
    "     - (Бонус) Модифицируйте функцию вычисления среднего вектора: взвешивайте вектора слов соответствующими весами tf-idf.\n",
    "4. Обучите на полученных средних векторах алгоритм классификации (логистическая регрессия, SVM, KNN, однослойную полносвязную нейросеть). \n",
    "5. Обучите сверточную сеть, на вход можно подавать предобученные эмбеддинги из п. 4 **(для слов, не для предложений)**."
   ]
  },
  {
   "cell_type": "code",
   "execution_count": 1,
   "metadata": {},
   "outputs": [],
   "source": [
    "import re\n",
    "import unicodedata\n",
    "from nltk.tokenize import sent_tokenize\n",
    "from nltk.corpus import stopwords\n",
    "from nltk.stem import WordNetLemmatizer\n",
    "from nltk.tokenize import word_tokenize\n",
    "from pymystem3 import Mystem\n",
    "from functools import lru_cache\n",
    "import pymorphy2\n",
    "from functools import lru_cache\n",
    "from multiprocessing import Pool\n",
    "import numpy as np\n",
    "from sklearn.model_selection import train_test_split\n",
    "from tqdm import tqdm_notebook as tqdm\n",
    "import re\n",
    "import nltk\n",
    "import pandas as pd\n",
    "from random import randint\n",
    "import fasttext\n",
    "from gensim.models import word2vec\n",
    "from nltk.tokenize import WordPunctTokenizer\n",
    "from sklearn.linear_model import LogisticRegression # можно заменить на любимый классификатор\n",
    "from sklearn.svm import SVC\n",
    "from sklearn.neighbors import KNeighborsClassifier\n",
    "from sklearn.feature_extraction.text import CountVectorizer\n",
    "from sklearn.metrics import *\n",
    "import pickle\n",
    "import matplotlib.pyplot as plt"
   ]
  },
  {
   "cell_type": "code",
   "execution_count": null,
   "metadata": {},
   "outputs": [],
   "source": [
    "# ! pip install fastText/."
   ]
  },
  {
   "cell_type": "code",
   "execution_count": 2,
   "metadata": {
    "colab": {
     "base_uri": "https://localhost:8080/",
     "height": 377
    },
    "colab_type": "code",
    "id": "iGkpvuPJHMD7",
    "outputId": "24f1d2e2-e3ec-403e-f36f-f404bf0c657f"
   },
   "outputs": [],
   "source": [
    "# ! wget -O lenta-ru-train.csv https://www.dropbox.com/s/kdupcw1llbdbqwl/lenta-ru-train.csv?dl=0"
   ]
  },
  {
   "cell_type": "code",
   "execution_count": 3,
   "metadata": {
    "colab": {
     "base_uri": "https://localhost:8080/",
     "height": 204
    },
    "colab_type": "code",
    "id": "cIe5cT0PfCVQ",
    "outputId": "9888e851-c532-4a98-dd5e-1ad3d93c2f0c"
   },
   "outputs": [],
   "source": [
    "# lenta = pd.read_csv('lenta-ru-train.csv')\n",
    "# lenta.head()"
   ]
  },
  {
   "cell_type": "code",
   "execution_count": 25,
   "metadata": {
    "colab": {
     "base_uri": "https://localhost:8080/",
     "height": 119
    },
    "colab_type": "code",
    "id": "-mjzi8bHgpzE",
    "outputId": "dd5862aa-8023-4cf4-f92a-c62e43462b3a"
   },
   "outputs": [
    {
     "data": {
      "text/plain": [
       "Экономика          63571\n",
       "Спорт              51679\n",
       "Культура           43071\n",
       "Наука и техника    42384\n",
       "Бизнес              5931\n",
       "Name: topic, dtype: int64"
      ]
     },
     "execution_count": 25,
     "metadata": {},
     "output_type": "execute_result"
    }
   ],
   "source": [
    "lenta.topic.value_counts()"
   ]
  },
  {
   "cell_type": "code",
   "execution_count": 5,
   "metadata": {
    "colab": {
     "base_uri": "https://localhost:8080/",
     "height": 34
    },
    "colab_type": "code",
    "id": "GFcXQnfVjPNm",
    "outputId": "50cb8fc3-0840-424b-ac68-648f8cf7e11e"
   },
   "outputs": [],
   "source": [
    "# len(lenta)"
   ]
  },
  {
   "cell_type": "markdown",
   "metadata": {
    "colab_type": "text",
    "id": "5ZdR20utk_2s"
   },
   "source": [
    "Ниже пример, как можно сделать файл с решением для Kaggle."
   ]
  },
  {
   "cell_type": "code",
   "execution_count": 6,
   "metadata": {
    "colab": {},
    "colab_type": "code",
    "id": "CacdqJCn7clQ"
   },
   "outputs": [],
   "source": [
    "# ! wget -O lenta-ru-test.csv https://www.dropbox.com/s/9av90tgqob1slnj/lenta-ru-test.csv?dl=0"
   ]
  },
  {
   "cell_type": "code",
   "execution_count": 8,
   "metadata": {
    "colab": {
     "base_uri": "https://localhost:8080/",
     "height": 204
    },
    "colab_type": "code",
    "id": "_VeYXYOmk-pR",
    "outputId": "2804748e-68ec-4b30-9afd-2564ea793759"
   },
   "outputs": [],
   "source": [
    "# topics = ['Экономика', 'Спорт', 'Культура', 'Наука и техника', 'Бизнес']\n",
    "# test_data = pd.read_csv('lenta-ru-test.csv')\n",
    "# test_data.head()"
   ]
  },
  {
   "cell_type": "code",
   "execution_count": 7,
   "metadata": {},
   "outputs": [],
   "source": [
    "# lenta['title'][0]"
   ]
  },
  {
   "cell_type": "code",
   "execution_count": 1,
   "metadata": {},
   "outputs": [],
   "source": [
    "# nltk.download('stopwords')\n",
    "# nltk.download('punkt')\n",
    "# nltk.download('snowball_data')\n",
    "# nltk.download('perluniprops')\n",
    "# nltk.download('universal_tagset')\n",
    "# nltk.download('stopwords')\n",
    "# nltk.download('nonbreaking_prefixes')\n",
    "# nltk.download('wordnet')"
   ]
  },
  {
   "cell_type": "code",
   "execution_count": 51,
   "metadata": {},
   "outputs": [],
   "source": [
    "# !pip install pymystem3"
   ]
  },
  {
   "cell_type": "code",
   "execution_count": 52,
   "metadata": {},
   "outputs": [],
   "source": []
  },
  {
   "cell_type": "code",
   "execution_count": 53,
   "metadata": {},
   "outputs": [],
   "source": [
    "sw = stopwords.words('russian')"
   ]
  },
  {
   "cell_type": "code",
   "execution_count": 54,
   "metadata": {},
   "outputs": [],
   "source": [
    "lenta['title'] = lenta['title'].str.replace(r'[^А-я\\s]', '', regex=True).str.lower().str.split()\n",
    "lenta['text'] = lenta['text'].str.replace(r'[^А-я\\s]', '', regex=True).str.lower().str.split()"
   ]
  },
  {
   "cell_type": "code",
   "execution_count": 55,
   "metadata": {},
   "outputs": [
    {
     "data": {
      "text/plain": [
       "0         [глава, росстата, владимир, соколин, заявил, ч...\n",
       "1         [у, российских, кинематографистов, появится, н...\n",
       "2         [медицинский, штаб, миланского, интера, обнаро...\n",
       "3         [премии, книга, года, в, номинациях, вручены, ...\n",
       "4         [сборная, португалии, сыграла, вничью, с, кома...\n",
       "                                ...                        \n",
       "206632    [бывшей, вицепрезиденту, ювелирной, компании, ...\n",
       "206633    [минфин, предлагает, увеличить, размер, штрафа...\n",
       "206634    [индекс, потребительской, уверенности, россиян...\n",
       "206635    [капитан, женской, сборной, россии, по, теннис...\n",
       "206636    [союз, европейских, футбольных, ассоциаций, уе...\n",
       "Name: text, Length: 206637, dtype: object"
      ]
     },
     "execution_count": 55,
     "metadata": {},
     "output_type": "execute_result"
    }
   ],
   "source": [
    "lenta['text']"
   ]
  },
  {
   "cell_type": "code",
   "execution_count": 56,
   "metadata": {},
   "outputs": [
    {
     "name": "stdout",
     "output_type": "stream",
     "text": [
      "nan\n"
     ]
    },
    {
     "data": {
      "text/html": [
       "<div>\n",
       "<style scoped>\n",
       "    .dataframe tbody tr th:only-of-type {\n",
       "        vertical-align: middle;\n",
       "    }\n",
       "\n",
       "    .dataframe tbody tr th {\n",
       "        vertical-align: top;\n",
       "    }\n",
       "\n",
       "    .dataframe thead th {\n",
       "        text-align: right;\n",
       "    }\n",
       "</style>\n",
       "<table border=\"1\" class=\"dataframe\">\n",
       "  <thead>\n",
       "    <tr style=\"text-align: right;\">\n",
       "      <th></th>\n",
       "      <th>title</th>\n",
       "      <th>text</th>\n",
       "      <th>topic</th>\n",
       "      <th>topic_label</th>\n",
       "    </tr>\n",
       "  </thead>\n",
       "  <tbody>\n",
       "    <tr>\n",
       "      <th>151352</th>\n",
       "      <td>[гребенщиков, заработал, тысяч, рублей, в, омс...</td>\n",
       "      <td>NaN</td>\n",
       "      <td>Культура</td>\n",
       "      <td>3</td>\n",
       "    </tr>\n",
       "  </tbody>\n",
       "</table>\n",
       "</div>"
      ],
      "text/plain": [
       "                                                    title text     topic  \\\n",
       "151352  [гребенщиков, заработал, тысяч, рублей, в, омс...  NaN  Культура   \n",
       "\n",
       "        topic_label  \n",
       "151352            3  "
      ]
     },
     "execution_count": 56,
     "metadata": {},
     "output_type": "execute_result"
    }
   ],
   "source": [
    "lenta[lenta['text'].apply(lambda x: print(x) if type(x) is float else 'Nope') != 'Nope']"
   ]
  },
  {
   "cell_type": "code",
   "execution_count": 57,
   "metadata": {},
   "outputs": [],
   "source": [
    "lenta = lenta.dropna()"
   ]
  },
  {
   "cell_type": "code",
   "execution_count": 58,
   "metadata": {},
   "outputs": [],
   "source": [
    "def clean(l):\n",
    "    new_l = [w for w in l if w not in sw]\n",
    "    return new_l"
   ]
  },
  {
   "cell_type": "code",
   "execution_count": 73,
   "metadata": {},
   "outputs": [],
   "source": [
    "lenta['title'] = lenta['title'].apply(clean)\n",
    "lenta['text'] = lenta['text'].apply(clean)"
   ]
  },
  {
   "cell_type": "code",
   "execution_count": 77,
   "metadata": {},
   "outputs": [
    {
     "data": {
      "text/html": [
       "<div>\n",
       "<style scoped>\n",
       "    .dataframe tbody tr th:only-of-type {\n",
       "        vertical-align: middle;\n",
       "    }\n",
       "\n",
       "    .dataframe tbody tr th {\n",
       "        vertical-align: top;\n",
       "    }\n",
       "\n",
       "    .dataframe thead th {\n",
       "        text-align: right;\n",
       "    }\n",
       "</style>\n",
       "<table border=\"1\" class=\"dataframe\">\n",
       "  <thead>\n",
       "    <tr style=\"text-align: right;\">\n",
       "      <th></th>\n",
       "      <th>title</th>\n",
       "      <th>text</th>\n",
       "      <th>topic</th>\n",
       "      <th>topic_label</th>\n",
       "    </tr>\n",
       "  </thead>\n",
       "  <tbody>\n",
       "    <tr>\n",
       "      <th>0</th>\n",
       "      <td>(инфляция, январь, год, составлять, процент)</td>\n",
       "      <td>(глава, росстата, владимир, соколин, заявил, я...</td>\n",
       "      <td>Экономика</td>\n",
       "      <td>0</td>\n",
       "    </tr>\n",
       "    <tr>\n",
       "      <th>1</th>\n",
       "      <td>(никита, михалков, учреждать, день, российский...</td>\n",
       "      <td>(российских, кинематографистов, появится, новы...</td>\n",
       "      <td>Культура</td>\n",
       "      <td>3</td>\n",
       "    </tr>\n",
       "    <tr>\n",
       "      <th>2</th>\n",
       "      <td>(марко, матерацци, вернуться, строй, матч, цска)</td>\n",
       "      <td>(медицинский, штаб, миланского, интера, обнаро...</td>\n",
       "      <td>Спорт</td>\n",
       "      <td>1</td>\n",
       "    </tr>\n",
       "    <tr>\n",
       "      <th>3</th>\n",
       "      <td>(определять, лауреат, премия, книга, год)</td>\n",
       "      <td>(премии, книга, года, номинациях, вручены, мос...</td>\n",
       "      <td>Культура</td>\n",
       "      <td>3</td>\n",
       "    </tr>\n",
       "    <tr>\n",
       "      <th>4</th>\n",
       "      <td>(гол, роналд, штрафной, спасать, португалец, п...</td>\n",
       "      <td>(сборная, португалии, сыграла, вничью, командо...</td>\n",
       "      <td>Спорт</td>\n",
       "      <td>1</td>\n",
       "    </tr>\n",
       "  </tbody>\n",
       "</table>\n",
       "</div>"
      ],
      "text/plain": [
       "                                               title  \\\n",
       "0       (инфляция, январь, год, составлять, процент)   \n",
       "1  (никита, михалков, учреждать, день, российский...   \n",
       "2   (марко, матерацци, вернуться, строй, матч, цска)   \n",
       "3          (определять, лауреат, премия, книга, год)   \n",
       "4  (гол, роналд, штрафной, спасать, португалец, п...   \n",
       "\n",
       "                                                text      topic  topic_label  \n",
       "0  (глава, росстата, владимир, соколин, заявил, я...  Экономика            0  \n",
       "1  (российских, кинематографистов, появится, новы...   Культура            3  \n",
       "2  (медицинский, штаб, миланского, интера, обнаро...      Спорт            1  \n",
       "3  (премии, книга, года, номинациях, вручены, мос...   Культура            3  \n",
       "4  (сборная, португалии, сыграла, вничью, командо...      Спорт            1  "
      ]
     },
     "execution_count": 77,
     "metadata": {},
     "output_type": "execute_result"
    }
   ],
   "source": [
    "lenta.head()"
   ]
  },
  {
   "cell_type": "code",
   "execution_count": 76,
   "metadata": {},
   "outputs": [],
   "source": [
    "lenta['title'] = lenta['title'].apply(tuple)\n",
    "lenta['text'] = lenta['text'].apply(tuple)"
   ]
  },
  {
   "cell_type": "code",
   "execution_count": 78,
   "metadata": {},
   "outputs": [],
   "source": [
    "lemmatizer = Mystem()"
   ]
  },
  {
   "cell_type": "code",
   "execution_count": 79,
   "metadata": {},
   "outputs": [],
   "source": [
    "@lru_cache(maxsize=128)\n",
    "def lemm(l):\n",
    "    new_l = [lemmatizer.lemmatize(word)[0] for word in l]\n",
    "    return new_l"
   ]
  },
  {
   "cell_type": "code",
   "execution_count": 80,
   "metadata": {},
   "outputs": [],
   "source": [
    "lenta['title'] = lenta['title'].apply(lemm)\n",
    "lenta['text'] = lenta['text'].apply(lemm)"
   ]
  },
  {
   "cell_type": "code",
   "execution_count": 81,
   "metadata": {},
   "outputs": [
    {
     "data": {
      "text/html": [
       "<div>\n",
       "<style scoped>\n",
       "    .dataframe tbody tr th:only-of-type {\n",
       "        vertical-align: middle;\n",
       "    }\n",
       "\n",
       "    .dataframe tbody tr th {\n",
       "        vertical-align: top;\n",
       "    }\n",
       "\n",
       "    .dataframe thead th {\n",
       "        text-align: right;\n",
       "    }\n",
       "</style>\n",
       "<table border=\"1\" class=\"dataframe\">\n",
       "  <thead>\n",
       "    <tr style=\"text-align: right;\">\n",
       "      <th></th>\n",
       "      <th>title</th>\n",
       "      <th>text</th>\n",
       "      <th>topic</th>\n",
       "      <th>topic_label</th>\n",
       "    </tr>\n",
       "  </thead>\n",
       "  <tbody>\n",
       "    <tr>\n",
       "      <th>0</th>\n",
       "      <td>[инфляция, январь, год, составлять, процент]</td>\n",
       "      <td>[глава, росстат, владимир, соколин, заявлять, ...</td>\n",
       "      <td>Экономика</td>\n",
       "      <td>0</td>\n",
       "    </tr>\n",
       "    <tr>\n",
       "      <th>1</th>\n",
       "      <td>[никита, михалков, учреждать, день, российский...</td>\n",
       "      <td>[российский, кинематографист, появляться, новы...</td>\n",
       "      <td>Культура</td>\n",
       "      <td>3</td>\n",
       "    </tr>\n",
       "    <tr>\n",
       "      <th>2</th>\n",
       "      <td>[марко, матерацци, вернуться, строй, матч, цска]</td>\n",
       "      <td>[медицинский, штаб, миланский, интер, обнародо...</td>\n",
       "      <td>Спорт</td>\n",
       "      <td>1</td>\n",
       "    </tr>\n",
       "    <tr>\n",
       "      <th>3</th>\n",
       "      <td>[определять, лауреат, премия, книга, год]</td>\n",
       "      <td>[премия, книга, год, номинация, вручать, моско...</td>\n",
       "      <td>Культура</td>\n",
       "      <td>3</td>\n",
       "    </tr>\n",
       "    <tr>\n",
       "      <th>4</th>\n",
       "      <td>[гол, роналд, штрафной, спасать, португалец, п...</td>\n",
       "      <td>[сборная, португалия, сыграть, вничью, команда...</td>\n",
       "      <td>Спорт</td>\n",
       "      <td>1</td>\n",
       "    </tr>\n",
       "  </tbody>\n",
       "</table>\n",
       "</div>"
      ],
      "text/plain": [
       "                                               title  \\\n",
       "0       [инфляция, январь, год, составлять, процент]   \n",
       "1  [никита, михалков, учреждать, день, российский...   \n",
       "2   [марко, матерацци, вернуться, строй, матч, цска]   \n",
       "3          [определять, лауреат, премия, книга, год]   \n",
       "4  [гол, роналд, штрафной, спасать, португалец, п...   \n",
       "\n",
       "                                                text      topic  topic_label  \n",
       "0  [глава, росстат, владимир, соколин, заявлять, ...  Экономика            0  \n",
       "1  [российский, кинематографист, появляться, новы...   Культура            3  \n",
       "2  [медицинский, штаб, миланский, интер, обнародо...      Спорт            1  \n",
       "3  [премия, книга, год, номинация, вручать, моско...   Культура            3  \n",
       "4  [сборная, португалия, сыграть, вничью, команда...      Спорт            1  "
      ]
     },
     "execution_count": 81,
     "metadata": {},
     "output_type": "execute_result"
    }
   ],
   "source": [
    "lenta.head()"
   ]
  },
  {
   "cell_type": "code",
   "execution_count": 82,
   "metadata": {},
   "outputs": [],
   "source": [
    "def cat(l):\n",
    "    return \" \".join(l)"
   ]
  },
  {
   "cell_type": "code",
   "execution_count": 83,
   "metadata": {},
   "outputs": [],
   "source": [
    "lenta['title'] = lenta.title.apply(cat)\n",
    "lenta['text'] = lenta.text.apply(cat)"
   ]
  },
  {
   "cell_type": "code",
   "execution_count": 86,
   "metadata": {},
   "outputs": [],
   "source": [
    "lenta.to_csv('lenta_clean.csv')"
   ]
  },
  {
   "cell_type": "code",
   "execution_count": 87,
   "metadata": {},
   "outputs": [],
   "source": [
    "import pickle"
   ]
  },
  {
   "cell_type": "code",
   "execution_count": 88,
   "metadata": {},
   "outputs": [],
   "source": [
    "lemmfile = open('lemmpickle', 'ab')\n",
    "pickle.dump(lenta, lemmfile)\n",
    "lemmfile.close() "
   ]
  },
  {
   "cell_type": "code",
   "execution_count": 89,
   "metadata": {},
   "outputs": [],
   "source": [
    "lemmfileloaded = open('lemmpickle', 'rb')      \n",
    "lenta_loaded = pickle.load(lemmfileloaded)"
   ]
  },
  {
   "cell_type": "code",
   "execution_count": 90,
   "metadata": {},
   "outputs": [
    {
     "data": {
      "text/html": [
       "<div>\n",
       "<style scoped>\n",
       "    .dataframe tbody tr th:only-of-type {\n",
       "        vertical-align: middle;\n",
       "    }\n",
       "\n",
       "    .dataframe tbody tr th {\n",
       "        vertical-align: top;\n",
       "    }\n",
       "\n",
       "    .dataframe thead th {\n",
       "        text-align: right;\n",
       "    }\n",
       "</style>\n",
       "<table border=\"1\" class=\"dataframe\">\n",
       "  <thead>\n",
       "    <tr style=\"text-align: right;\">\n",
       "      <th></th>\n",
       "      <th>title</th>\n",
       "      <th>text</th>\n",
       "      <th>topic</th>\n",
       "      <th>topic_label</th>\n",
       "    </tr>\n",
       "  </thead>\n",
       "  <tbody>\n",
       "    <tr>\n",
       "      <th>0</th>\n",
       "      <td>инфляция январь год составлять процент</td>\n",
       "      <td>глава росстат владимир соколин заявлять январь...</td>\n",
       "      <td>Экономика</td>\n",
       "      <td>0</td>\n",
       "    </tr>\n",
       "    <tr>\n",
       "      <th>1</th>\n",
       "      <td>никита михалков учреждать день российский кино</td>\n",
       "      <td>российский кинематографист появляться новый пр...</td>\n",
       "      <td>Культура</td>\n",
       "      <td>3</td>\n",
       "    </tr>\n",
       "    <tr>\n",
       "      <th>2</th>\n",
       "      <td>марко матерацци вернуться строй матч цска</td>\n",
       "      <td>медицинский штаб миланский интер обнародоватьс...</td>\n",
       "      <td>Спорт</td>\n",
       "      <td>1</td>\n",
       "    </tr>\n",
       "    <tr>\n",
       "      <th>3</th>\n",
       "      <td>определять лауреат премия книга год</td>\n",
       "      <td>премия книга год номинация вручать московский ...</td>\n",
       "      <td>Культура</td>\n",
       "      <td>3</td>\n",
       "    </tr>\n",
       "    <tr>\n",
       "      <th>4</th>\n",
       "      <td>гол роналд штрафной спасать португалец поражен...</td>\n",
       "      <td>сборная португалия сыграть вничью команда испа...</td>\n",
       "      <td>Спорт</td>\n",
       "      <td>1</td>\n",
       "    </tr>\n",
       "  </tbody>\n",
       "</table>\n",
       "</div>"
      ],
      "text/plain": [
       "                                               title  \\\n",
       "0             инфляция январь год составлять процент   \n",
       "1     никита михалков учреждать день российский кино   \n",
       "2          марко матерацци вернуться строй матч цска   \n",
       "3                определять лауреат премия книга год   \n",
       "4  гол роналд штрафной спасать португалец поражен...   \n",
       "\n",
       "                                                text      topic  topic_label  \n",
       "0  глава росстат владимир соколин заявлять январь...  Экономика            0  \n",
       "1  российский кинематографист появляться новый пр...   Культура            3  \n",
       "2  медицинский штаб миланский интер обнародоватьс...      Спорт            1  \n",
       "3  премия книга год номинация вручать московский ...   Культура            3  \n",
       "4  сборная португалия сыграть вничью команда испа...      Спорт            1  "
      ]
     },
     "execution_count": 90,
     "metadata": {},
     "output_type": "execute_result"
    }
   ],
   "source": [
    "lenta_loaded.head()"
   ]
  },
  {
   "cell_type": "code",
   "execution_count": null,
   "metadata": {},
   "outputs": [],
   "source": []
  },
  {
   "cell_type": "code",
   "execution_count": null,
   "metadata": {},
   "outputs": [],
   "source": []
  },
  {
   "cell_type": "code",
   "execution_count": null,
   "metadata": {},
   "outputs": [],
   "source": []
  },
  {
   "cell_type": "code",
   "execution_count": 2,
   "metadata": {},
   "outputs": [],
   "source": [
    "lenta = pd.read_csv('lenta_clean.csv')"
   ]
  },
  {
   "cell_type": "code",
   "execution_count": 3,
   "metadata": {},
   "outputs": [
    {
     "data": {
      "text/html": [
       "<div>\n",
       "<style scoped>\n",
       "    .dataframe tbody tr th:only-of-type {\n",
       "        vertical-align: middle;\n",
       "    }\n",
       "\n",
       "    .dataframe tbody tr th {\n",
       "        vertical-align: top;\n",
       "    }\n",
       "\n",
       "    .dataframe thead th {\n",
       "        text-align: right;\n",
       "    }\n",
       "</style>\n",
       "<table border=\"1\" class=\"dataframe\">\n",
       "  <thead>\n",
       "    <tr style=\"text-align: right;\">\n",
       "      <th></th>\n",
       "      <th>Unnamed: 0</th>\n",
       "      <th>title</th>\n",
       "      <th>text</th>\n",
       "      <th>topic</th>\n",
       "      <th>topic_label</th>\n",
       "    </tr>\n",
       "  </thead>\n",
       "  <tbody>\n",
       "    <tr>\n",
       "      <th>0</th>\n",
       "      <td>0</td>\n",
       "      <td>инфляция январь год составлять процент</td>\n",
       "      <td>глава росстат владимир соколин заявлять январь...</td>\n",
       "      <td>Экономика</td>\n",
       "      <td>0</td>\n",
       "    </tr>\n",
       "    <tr>\n",
       "      <th>1</th>\n",
       "      <td>1</td>\n",
       "      <td>никита михалков учреждать день российский кино</td>\n",
       "      <td>российский кинематографист появляться новый пр...</td>\n",
       "      <td>Культура</td>\n",
       "      <td>3</td>\n",
       "    </tr>\n",
       "    <tr>\n",
       "      <th>2</th>\n",
       "      <td>2</td>\n",
       "      <td>марко матерацци вернуться строй матч цска</td>\n",
       "      <td>медицинский штаб миланский интер обнародоватьс...</td>\n",
       "      <td>Спорт</td>\n",
       "      <td>1</td>\n",
       "    </tr>\n",
       "    <tr>\n",
       "      <th>3</th>\n",
       "      <td>3</td>\n",
       "      <td>определять лауреат премия книга год</td>\n",
       "      <td>премия книга год номинация вручать московский ...</td>\n",
       "      <td>Культура</td>\n",
       "      <td>3</td>\n",
       "    </tr>\n",
       "    <tr>\n",
       "      <th>4</th>\n",
       "      <td>4</td>\n",
       "      <td>гол роналд штрафной спасать португалец поражен...</td>\n",
       "      <td>сборная португалия сыграть вничью команда испа...</td>\n",
       "      <td>Спорт</td>\n",
       "      <td>1</td>\n",
       "    </tr>\n",
       "  </tbody>\n",
       "</table>\n",
       "</div>"
      ],
      "text/plain": [
       "   Unnamed: 0                                              title  \\\n",
       "0           0             инфляция январь год составлять процент   \n",
       "1           1     никита михалков учреждать день российский кино   \n",
       "2           2          марко матерацци вернуться строй матч цска   \n",
       "3           3                определять лауреат премия книга год   \n",
       "4           4  гол роналд штрафной спасать португалец поражен...   \n",
       "\n",
       "                                                text      topic  topic_label  \n",
       "0  глава росстат владимир соколин заявлять январь...  Экономика            0  \n",
       "1  российский кинематографист появляться новый пр...   Культура            3  \n",
       "2  медицинский штаб миланский интер обнародоватьс...      Спорт            1  \n",
       "3  премия книга год номинация вручать московский ...   Культура            3  \n",
       "4  сборная португалия сыграть вничью команда испа...      Спорт            1  "
      ]
     },
     "execution_count": 3,
     "metadata": {},
     "output_type": "execute_result"
    }
   ],
   "source": [
    "lenta.head()"
   ]
  },
  {
   "cell_type": "code",
   "execution_count": 4,
   "metadata": {},
   "outputs": [],
   "source": [
    "# lenta.title.apply(cat)"
   ]
  },
  {
   "cell_type": "code",
   "execution_count": 5,
   "metadata": {},
   "outputs": [
    {
     "name": "stdout",
     "output_type": "stream",
     "text": [
      "total train examples 138446\n",
      "total test examples 68190\n"
     ]
    }
   ],
   "source": [
    "X = lenta.title.tolist()\n",
    "y = lenta.topic.tolist()\n",
    "\n",
    "X, y = np.array(X), np.array(y)\n",
    "\n",
    "X_train, X_test, y_train, y_test = train_test_split(X,y, test_size=0.33)\n",
    "print (\"total train examples %s\" % len(y_train))\n",
    "print (\"total test examples %s\" % len(y_test))"
   ]
  },
  {
   "cell_type": "code",
   "execution_count": 7,
   "metadata": {},
   "outputs": [],
   "source": [
    "with open('data.train.txt', 'w+') as outfile:\n",
    "    for i in range(len(X_train)):\n",
    "        outfile.write('__label__' + y_train[i] + ' '+ X_train[i] + '\\n')\n",
    "    \n",
    "\n",
    "with open('test.txt', 'w+') as outfile:\n",
    "    for i in range(len(X_test)):\n",
    "        outfile.write('__label__' + y_test[i] + ' ' + X_test[i] + '\\n')"
   ]
  },
  {
   "cell_type": "code",
   "execution_count": 8,
   "metadata": {},
   "outputs": [
    {
     "name": "stdout",
     "output_type": "stream",
     "text": [
      "P@1: 0.9527496700395952\n",
      "R@1: 0.9527496700395952\n",
      "Number of examples: 68190\n"
     ]
    }
   ],
   "source": [
    "classifier = fasttext.train_supervised('data.train.txt')\n",
    "result = classifier.test('test.txt')\n",
    "\n",
    "print('P@1:', result[1])\n",
    "print('R@1:', result[2])\n",
    "print('Number of examples:', result[0])"
   ]
  },
  {
   "cell_type": "code",
   "execution_count": null,
   "metadata": {},
   "outputs": [],
   "source": []
  },
  {
   "cell_type": "code",
   "execution_count": 9,
   "metadata": {},
   "outputs": [],
   "source": [
    "# X = lenta.text.tolist()\n",
    "# y = lenta.topic.tolist()\n",
    "\n",
    "# X, y = np.array(X), np.array(y)\n",
    "\n",
    "# X_train, X_test, y_train, y_test = train_test_split(X,y, test_size=0.33)\n",
    "# print (\"total train examples %s\" % len(y_train))\n",
    "# print (\"total test examples %s\" % len(y_test))"
   ]
  },
  {
   "cell_type": "code",
   "execution_count": 9,
   "metadata": {},
   "outputs": [],
   "source": [
    "# with open('data.train.text.txt', 'w+') as outfile:\n",
    "#     for i in range(len(X_train)):\n",
    "#         outfile.write('__label__' + y_train[i] + ' '+ X_train[i] + '\\n')\n",
    "    \n",
    "\n",
    "# with open('test.text.txt', 'w+') as outfile:\n",
    "#     for i in range(len(X_test)):\n",
    "#         outfile.write('__label__' + y_test[i] + ' ' + X_test[i] + '\\n')"
   ]
  },
  {
   "cell_type": "code",
   "execution_count": null,
   "metadata": {},
   "outputs": [],
   "source": [
    "# classifier = fasttext.train_supervised('data.train.text.txt')\n",
    "# result = classifier.test('test.text.txt')\n",
    "\n",
    "# print('P@1:', result[1])\n",
    "# print('R@1:', result[2])\n",
    "# print('Number of examples:', result[0])"
   ]
  },
  {
   "cell_type": "code",
   "execution_count": null,
   "metadata": {},
   "outputs": [],
   "source": []
  },
  {
   "cell_type": "code",
   "execution_count": null,
   "metadata": {},
   "outputs": [],
   "source": []
  },
  {
   "cell_type": "code",
   "execution_count": 6,
   "metadata": {},
   "outputs": [],
   "source": [
    "lenta['title'] = lenta['title'].str.split()"
   ]
  },
  {
   "cell_type": "code",
   "execution_count": 7,
   "metadata": {},
   "outputs": [
    {
     "data": {
      "text/html": [
       "<div>\n",
       "<style scoped>\n",
       "    .dataframe tbody tr th:only-of-type {\n",
       "        vertical-align: middle;\n",
       "    }\n",
       "\n",
       "    .dataframe tbody tr th {\n",
       "        vertical-align: top;\n",
       "    }\n",
       "\n",
       "    .dataframe thead th {\n",
       "        text-align: right;\n",
       "    }\n",
       "</style>\n",
       "<table border=\"1\" class=\"dataframe\">\n",
       "  <thead>\n",
       "    <tr style=\"text-align: right;\">\n",
       "      <th></th>\n",
       "      <th>Unnamed: 0</th>\n",
       "      <th>title</th>\n",
       "      <th>text</th>\n",
       "      <th>topic</th>\n",
       "      <th>topic_label</th>\n",
       "    </tr>\n",
       "  </thead>\n",
       "  <tbody>\n",
       "    <tr>\n",
       "      <th>0</th>\n",
       "      <td>0</td>\n",
       "      <td>[инфляция, январь, год, составлять, процент]</td>\n",
       "      <td>глава росстат владимир соколин заявлять январь...</td>\n",
       "      <td>Экономика</td>\n",
       "      <td>0</td>\n",
       "    </tr>\n",
       "    <tr>\n",
       "      <th>1</th>\n",
       "      <td>1</td>\n",
       "      <td>[никита, михалков, учреждать, день, российский...</td>\n",
       "      <td>российский кинематографист появляться новый пр...</td>\n",
       "      <td>Культура</td>\n",
       "      <td>3</td>\n",
       "    </tr>\n",
       "    <tr>\n",
       "      <th>2</th>\n",
       "      <td>2</td>\n",
       "      <td>[марко, матерацци, вернуться, строй, матч, цска]</td>\n",
       "      <td>медицинский штаб миланский интер обнародоватьс...</td>\n",
       "      <td>Спорт</td>\n",
       "      <td>1</td>\n",
       "    </tr>\n",
       "    <tr>\n",
       "      <th>3</th>\n",
       "      <td>3</td>\n",
       "      <td>[определять, лауреат, премия, книга, год]</td>\n",
       "      <td>премия книга год номинация вручать московский ...</td>\n",
       "      <td>Культура</td>\n",
       "      <td>3</td>\n",
       "    </tr>\n",
       "    <tr>\n",
       "      <th>4</th>\n",
       "      <td>4</td>\n",
       "      <td>[гол, роналд, штрафной, спасать, португалец, п...</td>\n",
       "      <td>сборная португалия сыграть вничью команда испа...</td>\n",
       "      <td>Спорт</td>\n",
       "      <td>1</td>\n",
       "    </tr>\n",
       "  </tbody>\n",
       "</table>\n",
       "</div>"
      ],
      "text/plain": [
       "   Unnamed: 0                                              title  \\\n",
       "0           0       [инфляция, январь, год, составлять, процент]   \n",
       "1           1  [никита, михалков, учреждать, день, российский...   \n",
       "2           2   [марко, матерацци, вернуться, строй, матч, цска]   \n",
       "3           3          [определять, лауреат, премия, книга, год]   \n",
       "4           4  [гол, роналд, штрафной, спасать, португалец, п...   \n",
       "\n",
       "                                                text      topic  topic_label  \n",
       "0  глава росстат владимир соколин заявлять январь...  Экономика            0  \n",
       "1  российский кинематографист появляться новый пр...   Культура            3  \n",
       "2  медицинский штаб миланский интер обнародоватьс...      Спорт            1  \n",
       "3  премия книга год номинация вручать московский ...   Культура            3  \n",
       "4  сборная португалия сыграть вничью команда испа...      Спорт            1  "
      ]
     },
     "execution_count": 7,
     "metadata": {},
     "output_type": "execute_result"
    }
   ],
   "source": [
    "lenta.head()"
   ]
  },
  {
   "cell_type": "code",
   "execution_count": 8,
   "metadata": {},
   "outputs": [
    {
     "name": "stdout",
     "output_type": "stream",
     "text": [
      "Training model...\n",
      "CPU times: user 6 µs, sys: 0 ns, total: 6 µs\n",
      "Wall time: 11.4 µs\n"
     ]
    }
   ],
   "source": [
    "print(\"Training model...\")\n",
    "\n",
    "%time\n",
    "model_en = word2vec.Word2Vec(lenta['title'].tolist(), workers=4, size=300, min_count=10, window=10, sample=1e-3)"
   ]
  },
  {
   "cell_type": "code",
   "execution_count": 9,
   "metadata": {},
   "outputs": [
    {
     "name": "stdout",
     "output_type": "stream",
     "text": [
      "10282\n"
     ]
    }
   ],
   "source": [
    "print(len(model_en.wv.vocab))"
   ]
  },
  {
   "cell_type": "code",
   "execution_count": 10,
   "metadata": {},
   "outputs": [],
   "source": [
    "tokenizer = WordPunctTokenizer()"
   ]
  },
  {
   "cell_type": "code",
   "execution_count": 11,
   "metadata": {},
   "outputs": [],
   "source": [
    "def sent_to_vec(sent, embeddings=model_en, dim=300):\n",
    "    \"\"\"\n",
    "        sent: строка\n",
    "        embeddings: наше векторное представление\n",
    "        dim: размер любого вектора в нашем представлении\n",
    "        \n",
    "        return: векторное представление\n",
    "    \"\"\"\n",
    "    words = sent\n",
    "    n_known = 0\n",
    "    result = np.array([0] * dim, dtype=float)\n",
    "    \n",
    "    for word in words:\n",
    "        if word in embeddings:\n",
    "            result += embeddings[word]\n",
    "            n_known += 1\n",
    "            \n",
    "    if n_known != 0:\n",
    "        return result/n_known\n",
    "    else:\n",
    "        return result"
   ]
  },
  {
   "cell_type": "code",
   "execution_count": 12,
   "metadata": {},
   "outputs": [
    {
     "name": "stderr",
     "output_type": "stream",
     "text": [
      "/home/care1e55/progz/anaconda3/lib/python3.7/site-packages/ipykernel_launcher.py:14: DeprecationWarning: Call to deprecated `__contains__` (Method will be removed in 4.0.0, use self.wv.__contains__() instead).\n",
      "  \n",
      "/home/care1e55/progz/anaconda3/lib/python3.7/site-packages/ipykernel_launcher.py:15: DeprecationWarning: Call to deprecated `__getitem__` (Method will be removed in 4.0.0, use self.wv.__getitem__() instead).\n",
      "  from ipykernel import kernelapp as app\n"
     ]
    },
    {
     "data": {
      "text/plain": [
       "300"
      ]
     },
     "execution_count": 12,
     "metadata": {},
     "output_type": "execute_result"
    }
   ],
   "source": [
    "sent_to_vec(lenta['title'].tolist()[0], model_en, dim=300).__len__()"
   ]
  },
  {
   "cell_type": "code",
   "execution_count": 13,
   "metadata": {},
   "outputs": [
    {
     "name": "stderr",
     "output_type": "stream",
     "text": [
      "/home/care1e55/progz/anaconda3/lib/python3.7/site-packages/ipykernel_launcher.py:14: DeprecationWarning: Call to deprecated `__contains__` (Method will be removed in 4.0.0, use self.wv.__contains__() instead).\n",
      "  \n",
      "/home/care1e55/progz/anaconda3/lib/python3.7/site-packages/ipykernel_launcher.py:15: DeprecationWarning: Call to deprecated `__getitem__` (Method will be removed in 4.0.0, use self.wv.__getitem__() instead).\n",
      "  from ipykernel import kernelapp as app\n"
     ]
    }
   ],
   "source": [
    "lenta['title'] = lenta.title.apply(sent_to_vec)"
   ]
  },
  {
   "cell_type": "code",
   "execution_count": 15,
   "metadata": {},
   "outputs": [],
   "source": [
    "lemmfile = open('embeddedPickle', 'ab')\n",
    "pickle.dump(lenta, lemmfile)\n",
    "lemmfile.close() "
   ]
  },
  {
   "cell_type": "code",
   "execution_count": null,
   "metadata": {},
   "outputs": [],
   "source": []
  },
  {
   "cell_type": "code",
   "execution_count": 43,
   "metadata": {},
   "outputs": [
    {
     "data": {
      "text/html": [
       "<div>\n",
       "<style scoped>\n",
       "    .dataframe tbody tr th:only-of-type {\n",
       "        vertical-align: middle;\n",
       "    }\n",
       "\n",
       "    .dataframe tbody tr th {\n",
       "        vertical-align: top;\n",
       "    }\n",
       "\n",
       "    .dataframe thead th {\n",
       "        text-align: right;\n",
       "    }\n",
       "</style>\n",
       "<table border=\"1\" class=\"dataframe\">\n",
       "  <thead>\n",
       "    <tr style=\"text-align: right;\">\n",
       "      <th></th>\n",
       "      <th>Unnamed: 0</th>\n",
       "      <th>title</th>\n",
       "      <th>text</th>\n",
       "      <th>topic</th>\n",
       "      <th>topic_label</th>\n",
       "    </tr>\n",
       "  </thead>\n",
       "  <tbody>\n",
       "    <tr>\n",
       "      <th>0</th>\n",
       "      <td>0</td>\n",
       "      <td>[0.3610496371984482, 0.007361000962555408, 0.4...</td>\n",
       "      <td>глава росстат владимир соколин заявлять январь...</td>\n",
       "      <td>Экономика</td>\n",
       "      <td>0</td>\n",
       "    </tr>\n",
       "    <tr>\n",
       "      <th>1</th>\n",
       "      <td>1</td>\n",
       "      <td>[0.12762553182741007, -0.30284316278994083, 0....</td>\n",
       "      <td>российский кинематографист появляться новый пр...</td>\n",
       "      <td>Культура</td>\n",
       "      <td>3</td>\n",
       "    </tr>\n",
       "    <tr>\n",
       "      <th>2</th>\n",
       "      <td>2</td>\n",
       "      <td>[0.49065515398979187, -0.282268467048804, 0.29...</td>\n",
       "      <td>медицинский штаб миланский интер обнародоватьс...</td>\n",
       "      <td>Спорт</td>\n",
       "      <td>1</td>\n",
       "    </tr>\n",
       "    <tr>\n",
       "      <th>3</th>\n",
       "      <td>3</td>\n",
       "      <td>[0.01280461549758911, -0.21359971445053816, -0...</td>\n",
       "      <td>премия книга год номинация вручать московский ...</td>\n",
       "      <td>Культура</td>\n",
       "      <td>3</td>\n",
       "    </tr>\n",
       "    <tr>\n",
       "      <th>4</th>\n",
       "      <td>4</td>\n",
       "      <td>[0.4879233301617205, -0.16394322959240526, 0.2...</td>\n",
       "      <td>сборная португалия сыграть вничью команда испа...</td>\n",
       "      <td>Спорт</td>\n",
       "      <td>1</td>\n",
       "    </tr>\n",
       "  </tbody>\n",
       "</table>\n",
       "</div>"
      ],
      "text/plain": [
       "   Unnamed: 0                                              title  \\\n",
       "0           0  [0.3610496371984482, 0.007361000962555408, 0.4...   \n",
       "1           1  [0.12762553182741007, -0.30284316278994083, 0....   \n",
       "2           2  [0.49065515398979187, -0.282268467048804, 0.29...   \n",
       "3           3  [0.01280461549758911, -0.21359971445053816, -0...   \n",
       "4           4  [0.4879233301617205, -0.16394322959240526, 0.2...   \n",
       "\n",
       "                                                text      topic  topic_label  \n",
       "0  глава росстат владимир соколин заявлять январь...  Экономика            0  \n",
       "1  российский кинематографист появляться новый пр...   Культура            3  \n",
       "2  медицинский штаб миланский интер обнародоватьс...      Спорт            1  \n",
       "3  премия книга год номинация вручать московский ...   Культура            3  \n",
       "4  сборная португалия сыграть вничью команда испа...      Спорт            1  "
      ]
     },
     "execution_count": 43,
     "metadata": {},
     "output_type": "execute_result"
    }
   ],
   "source": [
    "lenta.head()"
   ]
  },
  {
   "cell_type": "code",
   "execution_count": null,
   "metadata": {},
   "outputs": [],
   "source": []
  },
  {
   "cell_type": "code",
   "execution_count": 41,
   "metadata": {},
   "outputs": [
    {
     "name": "stdout",
     "output_type": "stream",
     "text": [
      "total train examples 138446\n",
      "total test examples 68190\n"
     ]
    }
   ],
   "source": [
    "X = lenta.title.tolist()\n",
    "y = lenta.topic_label.tolist()\n",
    "\n",
    "X, y = np.array(X), np.array(y)\n",
    "\n",
    "X_train, X_test, y_train, y_test = train_test_split(X,y, test_size=0.33)\n",
    "print (\"total train examples %s\" % len(y_train))\n",
    "print (\"total test examples %s\" % len(y_test))"
   ]
  },
  {
   "cell_type": "code",
   "execution_count": 42,
   "metadata": {},
   "outputs": [
    {
     "data": {
      "text/plain": [
       "array([[ 0.15602925,  0.18723631, -0.00665248, ...,  0.11559535,\n",
       "        -0.17611851,  0.24776987],\n",
       "       [-0.00956725, -0.08813083,  0.16333235, ..., -0.00676672,\n",
       "        -0.11926061,  0.11858968],\n",
       "       [ 0.13244015, -0.05870396,  0.38968799, ..., -0.21529333,\n",
       "        -0.17672742, -0.05677   ],\n",
       "       ...,\n",
       "       [-0.08830607, -0.18191948,  0.30863698, ..., -0.09078639,\n",
       "         0.17584103, -0.03665824],\n",
       "       [-0.20363022, -0.3779142 ,  0.19975127, ...,  0.00455517,\n",
       "         0.04931154,  0.02038136],\n",
       "       [ 0.03093957,  0.44161596,  0.25417637, ..., -0.19768327,\n",
       "        -0.52871687, -0.19915154]])"
      ]
     },
     "execution_count": 42,
     "metadata": {},
     "output_type": "execute_result"
    }
   ],
   "source": [
    "X_train"
   ]
  },
  {
   "cell_type": "code",
   "execution_count": 20,
   "metadata": {},
   "outputs": [
    {
     "name": "stdout",
     "output_type": "stream",
     "text": [
      "              precision    recall  f1-score   support\n",
      "\n",
      "           0       0.91      0.82      0.87     23484\n",
      "           1       0.93      0.94      0.94     16905\n",
      "           2       0.79      0.82      0.81     13367\n",
      "           3       0.85      0.83      0.84     14392\n",
      "           4       0.01      0.33      0.01        42\n",
      "\n",
      "    accuracy                           0.85     68190\n",
      "   macro avg       0.70      0.75      0.69     68190\n",
      "weighted avg       0.88      0.85      0.87     68190\n",
      "\n"
     ]
    },
    {
     "name": "stderr",
     "output_type": "stream",
     "text": [
      "/home/care1e55/progz/anaconda3/lib/python3.7/site-packages/sklearn/linear_model/_logistic.py:940: ConvergenceWarning: lbfgs failed to converge (status=1):\n",
      "STOP: TOTAL NO. of ITERATIONS REACHED LIMIT.\n",
      "\n",
      "Increase the number of iterations (max_iter) or scale the data as shown in:\n",
      "    https://scikit-learn.org/stable/modules/preprocessing.html\n",
      "Please also refer to the documentation for alternative solver options:\n",
      "    https://scikit-learn.org/stable/modules/linear_model.html#logistic-regression\n",
      "  extra_warning_msg=_LOGISTIC_SOLVER_CONVERGENCE_MSG)\n"
     ]
    }
   ],
   "source": [
    "clf = LogisticRegression(random_state=42)\n",
    "clf.fit(X_train, y_train)\n",
    "pred = clf.predict(X_test)\n",
    "print(classification_report(pred, y_test))"
   ]
  },
  {
   "cell_type": "code",
   "execution_count": 23,
   "metadata": {},
   "outputs": [
    {
     "name": "stdout",
     "output_type": "stream",
     "text": [
      "              precision    recall  f1-score   support\n",
      "\n",
      "           0       0.93      0.83      0.88     23687\n",
      "           1       0.94      0.95      0.95     16816\n",
      "           2       0.82      0.85      0.83     13295\n",
      "           3       0.87      0.85      0.86     14392\n",
      "           4       0.00      0.00      0.00         0\n",
      "\n",
      "    accuracy                           0.87     68190\n",
      "   macro avg       0.71      0.70      0.70     68190\n",
      "weighted avg       0.90      0.87      0.88     68190\n",
      "\n"
     ]
    },
    {
     "name": "stderr",
     "output_type": "stream",
     "text": [
      "/home/care1e55/progz/anaconda3/lib/python3.7/site-packages/sklearn/metrics/_classification.py:1272: UndefinedMetricWarning: Recall and F-score are ill-defined and being set to 0.0 in labels with no true samples. Use `zero_division` parameter to control this behavior.\n",
      "  _warn_prf(average, modifier, msg_start, len(result))\n"
     ]
    }
   ],
   "source": [
    "clf = SVC(random_state=42)\n",
    "clf.fit(X_train, y_train)\n",
    "pred = clf.predict(X_test)\n",
    "print(classification_report(pred, y_test))"
   ]
  },
  {
   "cell_type": "code",
   "execution_count": 21,
   "metadata": {},
   "outputs": [
    {
     "name": "stdout",
     "output_type": "stream",
     "text": [
      "              precision    recall  f1-score   support\n",
      "\n",
      "           0       0.91      0.81      0.86     23584\n",
      "           1       0.92      0.94      0.93     16661\n",
      "           2       0.79      0.82      0.80     13461\n",
      "           3       0.83      0.83      0.83     14043\n",
      "           4       0.08      0.35      0.12       441\n",
      "\n",
      "    accuracy                           0.85     68190\n",
      "   macro avg       0.70      0.75      0.71     68190\n",
      "weighted avg       0.87      0.85      0.85     68190\n",
      "\n"
     ]
    }
   ],
   "source": [
    "clf = KNeighborsClassifier(n_jobs=4)\n",
    "clf.fit(X_train, y_train)\n",
    "pred = clf.predict(X_test)\n",
    "print(classification_report(pred, y_test))"
   ]
  },
  {
   "cell_type": "code",
   "execution_count": null,
   "metadata": {},
   "outputs": [],
   "source": []
  },
  {
   "cell_type": "code",
   "execution_count": 44,
   "metadata": {},
   "outputs": [],
   "source": [
    "from tensorflow.keras.models import Sequential\n",
    "from tensorflow.keras.layers import Dense, LSTM, Dropout, Conv1D, Conv2D, MaxPooling1D, MaxPooling2D, GlobalMaxPooling1D\n",
    "from tensorflow.keras.layers import Embedding\n",
    "from tensorflow.keras.preprocessing import sequence\n",
    "from tensorflow.keras.callbacks import EarlyStopping\n",
    "from tensorflow.keras.callbacks import ReduceLROnPlateau\n",
    "from keras.utils import to_categorical\n",
    "from collections import defaultdict"
   ]
  },
  {
   "cell_type": "code",
   "execution_count": 45,
   "metadata": {},
   "outputs": [],
   "source": [
    "y_train = to_categorical(y_train)\n",
    "y_test = to_categorical(y_test)"
   ]
  },
  {
   "cell_type": "code",
   "execution_count": 116,
   "metadata": {},
   "outputs": [],
   "source": [
    "model = Sequential()\n",
    "model.add(Dense(300, activation='relu'))\n",
    "model.add(Dropout(0.5))\n",
    "model.add(Dense(5, activation='softmax'))\n",
    "\n",
    "model.compile(loss='categorical_crossentropy', optimizer='adam', metrics=['accuracy'])"
   ]
  },
  {
   "cell_type": "code",
   "execution_count": 114,
   "metadata": {},
   "outputs": [],
   "source": [
    "# model.summary()"
   ]
  },
  {
   "cell_type": "code",
   "execution_count": 51,
   "metadata": {},
   "outputs": [],
   "source": [
    "es = EarlyStopping(monitor='val_accuracy', patience=10)\n",
    "steplr = ReduceLROnPlateau(monitor='val_accuracy', factor=0.5, patience=3, verbose=1, mode='auto', min_delta=0.0001, cooldown=0, min_lr=0)"
   ]
  },
  {
   "cell_type": "code",
   "execution_count": 54,
   "metadata": {},
   "outputs": [
    {
     "name": "stdout",
     "output_type": "stream",
     "text": [
      "Train on 117679 samples, validate on 20767 samples\n",
      "Epoch 1/50\n",
      "117679/117679 [==============================] - 3s 25us/sample - loss: 0.4176 - accuracy: 0.8610 - val_loss: 0.4014 - val_accuracy: 0.8652\n",
      "Epoch 2/50\n",
      "117679/117679 [==============================] - 3s 26us/sample - loss: 0.4165 - accuracy: 0.8614 - val_loss: 0.3988 - val_accuracy: 0.8657\n",
      "Epoch 3/50\n",
      "117679/117679 [==============================] - 3s 25us/sample - loss: 0.4153 - accuracy: 0.8615 - val_loss: 0.3954 - val_accuracy: 0.8664\n",
      "Epoch 4/50\n",
      "117679/117679 [==============================] - 3s 24us/sample - loss: 0.4136 - accuracy: 0.8624 - val_loss: 0.3965 - val_accuracy: 0.8666\n",
      "Epoch 5/50\n",
      "117679/117679 [==============================] - 3s 26us/sample - loss: 0.4129 - accuracy: 0.8625 - val_loss: 0.3949 - val_accuracy: 0.8673\n",
      "Epoch 6/50\n",
      "117679/117679 [==============================] - 3s 23us/sample - loss: 0.4128 - accuracy: 0.8629 - val_loss: 0.3950 - val_accuracy: 0.8664\n",
      "Epoch 7/50\n",
      "117679/117679 [==============================] - 3s 24us/sample - loss: 0.4112 - accuracy: 0.8636 - val_loss: 0.3963 - val_accuracy: 0.8671\n",
      "Epoch 8/50\n",
      "117679/117679 [==============================] - 3s 24us/sample - loss: 0.4092 - accuracy: 0.8640 - val_loss: 0.3943 - val_accuracy: 0.8676\n",
      "Epoch 9/50\n",
      "117679/117679 [==============================] - 3s 24us/sample - loss: 0.4080 - accuracy: 0.8638 - val_loss: 0.3951 - val_accuracy: 0.8681\n",
      "Epoch 10/50\n",
      "117679/117679 [==============================] - 3s 24us/sample - loss: 0.4069 - accuracy: 0.8647 - val_loss: 0.3963 - val_accuracy: 0.8668\n",
      "Epoch 11/50\n",
      "117679/117679 [==============================] - 3s 27us/sample - loss: 0.4075 - accuracy: 0.8648 - val_loss: 0.3948 - val_accuracy: 0.8688\n",
      "Epoch 12/50\n",
      "117679/117679 [==============================] - 4s 31us/sample - loss: 0.4066 - accuracy: 0.8647 - val_loss: 0.3914 - val_accuracy: 0.8690\n",
      "Epoch 13/50\n",
      "117679/117679 [==============================] - 3s 26us/sample - loss: 0.4060 - accuracy: 0.8645 - val_loss: 0.3924 - val_accuracy: 0.8684\n",
      "Epoch 14/50\n",
      "117679/117679 [==============================] - 3s 26us/sample - loss: 0.4037 - accuracy: 0.8658 - val_loss: 0.3940 - val_accuracy: 0.8672\n",
      "Epoch 15/50\n",
      "116160/117679 [============================>.] - ETA: 0s - loss: 0.4040 - accuracy: 0.8661\n",
      "Epoch 00015: ReduceLROnPlateau reducing learning rate to 0.0005000000237487257.\n",
      "117679/117679 [==============================] - 3s 25us/sample - loss: 0.4044 - accuracy: 0.8659 - val_loss: 0.3924 - val_accuracy: 0.8687\n",
      "Epoch 16/50\n",
      "117679/117679 [==============================] - 3s 27us/sample - loss: 0.3938 - accuracy: 0.8682 - val_loss: 0.3867 - val_accuracy: 0.8715\n",
      "Epoch 17/50\n",
      "117679/117679 [==============================] - 3s 27us/sample - loss: 0.3929 - accuracy: 0.8696 - val_loss: 0.3869 - val_accuracy: 0.8707\n",
      "Epoch 18/50\n",
      "117679/117679 [==============================] - 3s 29us/sample - loss: 0.3914 - accuracy: 0.8691 - val_loss: 0.3852 - val_accuracy: 0.8705\n",
      "Epoch 19/50\n",
      "116800/117679 [============================>.] - ETA: 0s - loss: 0.3912 - accuracy: 0.8688\n",
      "Epoch 00019: ReduceLROnPlateau reducing learning rate to 0.0002500000118743628.\n",
      "117679/117679 [==============================] - 3s 24us/sample - loss: 0.3913 - accuracy: 0.8688 - val_loss: 0.3851 - val_accuracy: 0.8699\n",
      "Epoch 20/50\n",
      "117679/117679 [==============================] - 3s 26us/sample - loss: 0.3860 - accuracy: 0.8704 - val_loss: 0.3833 - val_accuracy: 0.8716\n",
      "Epoch 21/50\n",
      "117679/117679 [==============================] - 3s 26us/sample - loss: 0.3846 - accuracy: 0.8715 - val_loss: 0.3833 - val_accuracy: 0.8715\n",
      "Epoch 22/50\n",
      "117679/117679 [==============================] - 3s 25us/sample - loss: 0.3829 - accuracy: 0.8714 - val_loss: 0.3830 - val_accuracy: 0.8719\n",
      "Epoch 23/50\n",
      "117679/117679 [==============================] - 3s 27us/sample - loss: 0.3839 - accuracy: 0.8715 - val_loss: 0.3829 - val_accuracy: 0.8717\n",
      "Epoch 24/50\n",
      "117679/117679 [==============================] - 3s 25us/sample - loss: 0.3836 - accuracy: 0.8713 - val_loss: 0.3823 - val_accuracy: 0.8714\n",
      "Epoch 25/50\n",
      "116800/117679 [============================>.] - ETA: 0s - loss: 0.3829 - accuracy: 0.8705\n",
      "Epoch 00025: ReduceLROnPlateau reducing learning rate to 0.0001250000059371814.\n",
      "117679/117679 [==============================] - 3s 23us/sample - loss: 0.3832 - accuracy: 0.8705 - val_loss: 0.3830 - val_accuracy: 0.8714\n",
      "Epoch 26/50\n",
      "117679/117679 [==============================] - 3s 28us/sample - loss: 0.3813 - accuracy: 0.8722 - val_loss: 0.3820 - val_accuracy: 0.8718\n",
      "Epoch 27/50\n",
      "117679/117679 [==============================] - 4s 31us/sample - loss: 0.3794 - accuracy: 0.8735 - val_loss: 0.3816 - val_accuracy: 0.8719\n",
      "Epoch 28/50\n",
      "117679/117679 [==============================] - 3s 27us/sample - loss: 0.3793 - accuracy: 0.8735 - val_loss: 0.3818 - val_accuracy: 0.8728\n",
      "Epoch 29/50\n",
      "117679/117679 [==============================] - 3s 27us/sample - loss: 0.3781 - accuracy: 0.8726 - val_loss: 0.3815 - val_accuracy: 0.8728\n",
      "Epoch 30/50\n",
      "117679/117679 [==============================] - 3s 28us/sample - loss: 0.3792 - accuracy: 0.8742 - val_loss: 0.3819 - val_accuracy: 0.8728\n",
      "Epoch 31/50\n",
      "116288/117679 [============================>.] - ETA: 0s - loss: 0.3775 - accuracy: 0.8734\n",
      "Epoch 00031: ReduceLROnPlateau reducing learning rate to 6.25000029685907e-05.\n",
      "117679/117679 [==============================] - 3s 23us/sample - loss: 0.3776 - accuracy: 0.8734 - val_loss: 0.3817 - val_accuracy: 0.8726\n",
      "Epoch 32/50\n",
      "117679/117679 [==============================] - 3s 28us/sample - loss: 0.3786 - accuracy: 0.8736 - val_loss: 0.3812 - val_accuracy: 0.8722\n",
      "Epoch 33/50\n",
      "117679/117679 [==============================] - 3s 25us/sample - loss: 0.3771 - accuracy: 0.8730 - val_loss: 0.3811 - val_accuracy: 0.8723\n",
      "Epoch 34/50\n",
      "116160/117679 [============================>.] - ETA: 0s - loss: 0.3762 - accuracy: 0.8737\n",
      "Epoch 00034: ReduceLROnPlateau reducing learning rate to 3.125000148429535e-05.\n",
      "117679/117679 [==============================] - 3s 24us/sample - loss: 0.3766 - accuracy: 0.8735 - val_loss: 0.3811 - val_accuracy: 0.8727\n",
      "Epoch 35/50\n",
      "117679/117679 [==============================] - 3s 30us/sample - loss: 0.3763 - accuracy: 0.8744 - val_loss: 0.3807 - val_accuracy: 0.8727\n",
      "Epoch 36/50\n",
      "117679/117679 [==============================] - 3s 23us/sample - loss: 0.3751 - accuracy: 0.8743 - val_loss: 0.3807 - val_accuracy: 0.8730\n",
      "Epoch 37/50\n",
      "117679/117679 [==============================] - 3s 25us/sample - loss: 0.3745 - accuracy: 0.8742 - val_loss: 0.3805 - val_accuracy: 0.8727\n",
      "Epoch 38/50\n",
      "117679/117679 [==============================] - 3s 23us/sample - loss: 0.3757 - accuracy: 0.8743 - val_loss: 0.3807 - val_accuracy: 0.8728\n",
      "Epoch 39/50\n",
      "116928/117679 [============================>.] - ETA: 0s - loss: 0.3759 - accuracy: 0.8742\n",
      "Epoch 00039: ReduceLROnPlateau reducing learning rate to 1.5625000742147677e-05.\n",
      "117679/117679 [==============================] - 3s 24us/sample - loss: 0.3760 - accuracy: 0.8742 - val_loss: 0.3806 - val_accuracy: 0.8730\n",
      "Epoch 40/50\n",
      "117679/117679 [==============================] - 3s 25us/sample - loss: 0.3739 - accuracy: 0.8744 - val_loss: 0.3806 - val_accuracy: 0.8730\n",
      "Epoch 41/50\n",
      "117679/117679 [==============================] - 3s 27us/sample - loss: 0.3746 - accuracy: 0.8742 - val_loss: 0.3805 - val_accuracy: 0.8728\n",
      "Epoch 42/50\n",
      "117376/117679 [============================>.] - ETA: 0s - loss: 0.3749 - accuracy: 0.8738\n",
      "Epoch 00042: ReduceLROnPlateau reducing learning rate to 7.812500371073838e-06.\n",
      "117679/117679 [==============================] - 3s 26us/sample - loss: 0.3748 - accuracy: 0.8739 - val_loss: 0.3805 - val_accuracy: 0.8728\n",
      "Epoch 43/50\n",
      "117679/117679 [==============================] - 3s 29us/sample - loss: 0.3742 - accuracy: 0.8741 - val_loss: 0.3805 - val_accuracy: 0.8731\n",
      "Epoch 44/50\n",
      "117679/117679 [==============================] - 3s 26us/sample - loss: 0.3752 - accuracy: 0.8748 - val_loss: 0.3806 - val_accuracy: 0.8730\n",
      "Epoch 45/50\n",
      "117679/117679 [==============================] - 3s 27us/sample - loss: 0.3759 - accuracy: 0.8739 - val_loss: 0.3805 - val_accuracy: 0.8732\n",
      "Epoch 46/50\n",
      "117632/117679 [============================>.] - ETA: 0s - loss: 0.3735 - accuracy: 0.8746\n",
      "Epoch 00046: ReduceLROnPlateau reducing learning rate to 3.906250185536919e-06.\n",
      "117679/117679 [==============================] - 3s 26us/sample - loss: 0.3734 - accuracy: 0.8746 - val_loss: 0.3805 - val_accuracy: 0.8731\n"
     ]
    },
    {
     "name": "stdout",
     "output_type": "stream",
     "text": [
      "Epoch 47/50\n",
      "117679/117679 [==============================] - 3s 26us/sample - loss: 0.3735 - accuracy: 0.8743 - val_loss: 0.3805 - val_accuracy: 0.8731\n",
      "Epoch 48/50\n",
      "117679/117679 [==============================] - 3s 25us/sample - loss: 0.3736 - accuracy: 0.8742 - val_loss: 0.3805 - val_accuracy: 0.8730\n",
      "Epoch 49/50\n",
      "116288/117679 [============================>.] - ETA: 0s - loss: 0.3747 - accuracy: 0.8746\n",
      "Epoch 00049: ReduceLROnPlateau reducing learning rate to 1.9531250927684596e-06.\n",
      "117679/117679 [==============================] - 3s 26us/sample - loss: 0.3747 - accuracy: 0.8746 - val_loss: 0.3805 - val_accuracy: 0.8729\n",
      "Epoch 50/50\n",
      "117679/117679 [==============================] - 3s 26us/sample - loss: 0.3748 - accuracy: 0.8741 - val_loss: 0.3805 - val_accuracy: 0.8730\n",
      "CPU times: user 3min 53s, sys: 21.1 s, total: 4min 14s\n",
      "Wall time: 2min 32s\n"
     ]
    }
   ],
   "source": [
    "%%time \n",
    "# гоняем сетку три эпохи\n",
    "hist = model.fit(X_train, y_train, callbacks=[es, steplr], validation_split=0.15, epochs=50, batch_size=64)"
   ]
  },
  {
   "cell_type": "code",
   "execution_count": 57,
   "metadata": {},
   "outputs": [
    {
     "data": {
      "text/plain": [
       "<matplotlib.legend.Legend at 0x7f70fc07e400>"
      ]
     },
     "execution_count": 57,
     "metadata": {},
     "output_type": "execute_result"
    },
    {
     "data": {
      "image/png": "[encoded data removed]",
      "text/plain": [
       "<Figure size 432x288 with 1 Axes>"
      ]
     },
     "metadata": {
      "needs_background": "light"
     },
     "output_type": "display_data"
    }
   ],
   "source": [
    "plt.plot(hist.history['loss'])\n",
    "plt.plot(hist.history['val_loss'])\n",
    "plt.legend(['Train loss', 'Validation loss'])"
   ]
  },
  {
   "cell_type": "code",
   "execution_count": null,
   "metadata": {},
   "outputs": [],
   "source": []
  },
  {
   "cell_type": "code",
   "execution_count": null,
   "metadata": {},
   "outputs": [],
   "source": []
  },
  {
   "cell_type": "code",
   "execution_count": 2,
   "metadata": {},
   "outputs": [],
   "source": [
    "lenta = pd.read_csv('lenta_clean.csv')"
   ]
  },
  {
   "cell_type": "code",
   "execution_count": 3,
   "metadata": {},
   "outputs": [
    {
     "data": {
      "text/html": [
       "<div>\n",
       "<style scoped>\n",
       "    .dataframe tbody tr th:only-of-type {\n",
       "        vertical-align: middle;\n",
       "    }\n",
       "\n",
       "    .dataframe tbody tr th {\n",
       "        vertical-align: top;\n",
       "    }\n",
       "\n",
       "    .dataframe thead th {\n",
       "        text-align: right;\n",
       "    }\n",
       "</style>\n",
       "<table border=\"1\" class=\"dataframe\">\n",
       "  <thead>\n",
       "    <tr style=\"text-align: right;\">\n",
       "      <th></th>\n",
       "      <th>Unnamed: 0</th>\n",
       "      <th>title</th>\n",
       "      <th>text</th>\n",
       "      <th>topic</th>\n",
       "      <th>topic_label</th>\n",
       "    </tr>\n",
       "  </thead>\n",
       "  <tbody>\n",
       "    <tr>\n",
       "      <th>0</th>\n",
       "      <td>0</td>\n",
       "      <td>инфляция январь год составлять процент</td>\n",
       "      <td>глава росстат владимир соколин заявлять январь...</td>\n",
       "      <td>Экономика</td>\n",
       "      <td>0</td>\n",
       "    </tr>\n",
       "    <tr>\n",
       "      <th>1</th>\n",
       "      <td>1</td>\n",
       "      <td>никита михалков учреждать день российский кино</td>\n",
       "      <td>российский кинематографист появляться новый пр...</td>\n",
       "      <td>Культура</td>\n",
       "      <td>3</td>\n",
       "    </tr>\n",
       "    <tr>\n",
       "      <th>2</th>\n",
       "      <td>2</td>\n",
       "      <td>марко матерацци вернуться строй матч цска</td>\n",
       "      <td>медицинский штаб миланский интер обнародоватьс...</td>\n",
       "      <td>Спорт</td>\n",
       "      <td>1</td>\n",
       "    </tr>\n",
       "    <tr>\n",
       "      <th>3</th>\n",
       "      <td>3</td>\n",
       "      <td>определять лауреат премия книга год</td>\n",
       "      <td>премия книга год номинация вручать московский ...</td>\n",
       "      <td>Культура</td>\n",
       "      <td>3</td>\n",
       "    </tr>\n",
       "    <tr>\n",
       "      <th>4</th>\n",
       "      <td>4</td>\n",
       "      <td>гол роналд штрафной спасать португалец поражен...</td>\n",
       "      <td>сборная португалия сыграть вничью команда испа...</td>\n",
       "      <td>Спорт</td>\n",
       "      <td>1</td>\n",
       "    </tr>\n",
       "  </tbody>\n",
       "</table>\n",
       "</div>"
      ],
      "text/plain": [
       "   Unnamed: 0                                              title  \\\n",
       "0           0             инфляция январь год составлять процент   \n",
       "1           1     никита михалков учреждать день российский кино   \n",
       "2           2          марко матерацци вернуться строй матч цска   \n",
       "3           3                определять лауреат премия книга год   \n",
       "4           4  гол роналд штрафной спасать португалец поражен...   \n",
       "\n",
       "                                                text      topic  topic_label  \n",
       "0  глава росстат владимир соколин заявлять январь...  Экономика            0  \n",
       "1  российский кинематографист появляться новый пр...   Культура            3  \n",
       "2  медицинский штаб миланский интер обнародоватьс...      Спорт            1  \n",
       "3  премия книга год номинация вручать московский ...   Культура            3  \n",
       "4  сборная португалия сыграть вничью команда испа...      Спорт            1  "
      ]
     },
     "execution_count": 3,
     "metadata": {},
     "output_type": "execute_result"
    }
   ],
   "source": [
    "lenta.head()"
   ]
  },
  {
   "cell_type": "code",
   "execution_count": 4,
   "metadata": {},
   "outputs": [],
   "source": [
    "lenta = lenta.dropna()"
   ]
  },
  {
   "cell_type": "code",
   "execution_count": 5,
   "metadata": {},
   "outputs": [],
   "source": [
    "# lenta['title'] = lenta['title'].str.split()\n",
    "lenta['text'] = lenta['text'].str.split()"
   ]
  },
  {
   "cell_type": "code",
   "execution_count": 6,
   "metadata": {},
   "outputs": [],
   "source": [
    "# print(\"Training model...\")\n",
    "\n",
    "# %time\n",
    "# model_en = word2vec.Word2Vec(lenta['title'].tolist(), workers=4, size=300, min_count=10, window=10, sample=1e-3)"
   ]
  },
  {
   "cell_type": "code",
   "execution_count": 7,
   "metadata": {
    "scrolled": true
   },
   "outputs": [
    {
     "data": {
      "text/html": [
       "<div>\n",
       "<style scoped>\n",
       "    .dataframe tbody tr th:only-of-type {\n",
       "        vertical-align: middle;\n",
       "    }\n",
       "\n",
       "    .dataframe tbody tr th {\n",
       "        vertical-align: top;\n",
       "    }\n",
       "\n",
       "    .dataframe thead th {\n",
       "        text-align: right;\n",
       "    }\n",
       "</style>\n",
       "<table border=\"1\" class=\"dataframe\">\n",
       "  <thead>\n",
       "    <tr style=\"text-align: right;\">\n",
       "      <th></th>\n",
       "      <th>Unnamed: 0</th>\n",
       "      <th>title</th>\n",
       "      <th>text</th>\n",
       "      <th>topic</th>\n",
       "      <th>topic_label</th>\n",
       "    </tr>\n",
       "  </thead>\n",
       "  <tbody>\n",
       "    <tr>\n",
       "      <th>0</th>\n",
       "      <td>0</td>\n",
       "      <td>инфляция январь год составлять процент</td>\n",
       "      <td>[глава, росстат, владимир, соколин, заявлять, ...</td>\n",
       "      <td>Экономика</td>\n",
       "      <td>0</td>\n",
       "    </tr>\n",
       "    <tr>\n",
       "      <th>1</th>\n",
       "      <td>1</td>\n",
       "      <td>никита михалков учреждать день российский кино</td>\n",
       "      <td>[российский, кинематографист, появляться, новы...</td>\n",
       "      <td>Культура</td>\n",
       "      <td>3</td>\n",
       "    </tr>\n",
       "    <tr>\n",
       "      <th>2</th>\n",
       "      <td>2</td>\n",
       "      <td>марко матерацци вернуться строй матч цска</td>\n",
       "      <td>[медицинский, штаб, миланский, интер, обнародо...</td>\n",
       "      <td>Спорт</td>\n",
       "      <td>1</td>\n",
       "    </tr>\n",
       "    <tr>\n",
       "      <th>3</th>\n",
       "      <td>3</td>\n",
       "      <td>определять лауреат премия книга год</td>\n",
       "      <td>[премия, книга, год, номинация, вручать, моско...</td>\n",
       "      <td>Культура</td>\n",
       "      <td>3</td>\n",
       "    </tr>\n",
       "    <tr>\n",
       "      <th>4</th>\n",
       "      <td>4</td>\n",
       "      <td>гол роналд штрафной спасать португалец поражен...</td>\n",
       "      <td>[сборная, португалия, сыграть, вничью, команда...</td>\n",
       "      <td>Спорт</td>\n",
       "      <td>1</td>\n",
       "    </tr>\n",
       "  </tbody>\n",
       "</table>\n",
       "</div>"
      ],
      "text/plain": [
       "   Unnamed: 0                                              title  \\\n",
       "0           0             инфляция январь год составлять процент   \n",
       "1           1     никита михалков учреждать день российский кино   \n",
       "2           2          марко матерацци вернуться строй матч цска   \n",
       "3           3                определять лауреат премия книга год   \n",
       "4           4  гол роналд штрафной спасать португалец поражен...   \n",
       "\n",
       "                                                text      topic  topic_label  \n",
       "0  [глава, росстат, владимир, соколин, заявлять, ...  Экономика            0  \n",
       "1  [российский, кинематографист, появляться, новы...   Культура            3  \n",
       "2  [медицинский, штаб, миланский, интер, обнародо...      Спорт            1  \n",
       "3  [премия, книга, год, номинация, вручать, моско...   Культура            3  \n",
       "4  [сборная, португалия, сыграть, вничью, команда...      Спорт            1  "
      ]
     },
     "execution_count": 7,
     "metadata": {},
     "output_type": "execute_result"
    }
   ],
   "source": [
    "lenta.head()"
   ]
  },
  {
   "cell_type": "code",
   "execution_count": 49,
   "metadata": {},
   "outputs": [],
   "source": [
    "# def words_to_vec(sent, embeddings=model_en, dim=300):\n",
    "    \n",
    "#     words = sent\n",
    "#     n_known = 0\n",
    "    \n",
    "#     result = []\n",
    "    \n",
    "#     for word in words:\n",
    "#         if word in embeddings:\n",
    "#             result.append(embeddings[word])\n",
    "#             n_known += 1\n",
    "            \n",
    "#     if n_known != 0:\n",
    "#         return result\n",
    "#     else:\n",
    "#         return np.array([0] * dim, dtype=float)"
   ]
  },
  {
   "cell_type": "code",
   "execution_count": 11,
   "metadata": {},
   "outputs": [
    {
     "data": {
      "text/plain": [
       "220560"
      ]
     },
     "execution_count": 11,
     "metadata": {},
     "output_type": "execute_result"
    }
   ],
   "source": [
    "words_count = defaultdict(lambda: 0)\n",
    "\n",
    "for text in lenta.text:\n",
    "    for word in text:\n",
    "        words_count[word] +=1\n",
    "        \n",
    "len(words_count)"
   ]
  },
  {
   "cell_type": "code",
   "execution_count": 12,
   "metadata": {},
   "outputs": [
    {
     "data": {
      "text/html": [
       "<div>\n",
       "<style scoped>\n",
       "    .dataframe tbody tr th:only-of-type {\n",
       "        vertical-align: middle;\n",
       "    }\n",
       "\n",
       "    .dataframe tbody tr th {\n",
       "        vertical-align: top;\n",
       "    }\n",
       "\n",
       "    .dataframe thead th {\n",
       "        text-align: right;\n",
       "    }\n",
       "</style>\n",
       "<table border=\"1\" class=\"dataframe\">\n",
       "  <thead>\n",
       "    <tr style=\"text-align: right;\">\n",
       "      <th></th>\n",
       "      <th>Unnamed: 0</th>\n",
       "      <th>title</th>\n",
       "      <th>text</th>\n",
       "      <th>topic</th>\n",
       "      <th>topic_label</th>\n",
       "      <th>freq_text</th>\n",
       "    </tr>\n",
       "  </thead>\n",
       "  <tbody>\n",
       "    <tr>\n",
       "      <th>0</th>\n",
       "      <td>0</td>\n",
       "      <td>инфляция январь год составлять процент</td>\n",
       "      <td>[глава, росстат, владимир, соколин, заявлять, ...</td>\n",
       "      <td>Экономика</td>\n",
       "      <td>0</td>\n",
       "      <td>[3756, 21019, 6447, 8504, 18642, 6801, 2316, 7...</td>\n",
       "    </tr>\n",
       "    <tr>\n",
       "      <th>1</th>\n",
       "      <td>1</td>\n",
       "      <td>никита михалков учреждать день российский кино</td>\n",
       "      <td>[российский, кинематографист, появляться, новы...</td>\n",
       "      <td>Культура</td>\n",
       "      <td>3</td>\n",
       "      <td>[18103, 22699, 105, 22189, 10825, 22090, 16611...</td>\n",
       "    </tr>\n",
       "    <tr>\n",
       "      <th>2</th>\n",
       "      <td>2</td>\n",
       "      <td>марко матерацци вернуться строй матч цска</td>\n",
       "      <td>[медицинский, штаб, миланский, интер, обнародо...</td>\n",
       "      <td>Спорт</td>\n",
       "      <td>1</td>\n",
       "      <td>[21499, 10674, 20382, 2840, 10588, 22189, 6225...</td>\n",
       "    </tr>\n",
       "    <tr>\n",
       "      <th>3</th>\n",
       "      <td>3</td>\n",
       "      <td>определять лауреат премия книга год</td>\n",
       "      <td>[премия, книга, год, номинация, вручать, моско...</td>\n",
       "      <td>Культура</td>\n",
       "      <td>3</td>\n",
       "      <td>[21388, 7888, 2316, 18149, 18252, 1703, 21390,...</td>\n",
       "    </tr>\n",
       "    <tr>\n",
       "      <th>4</th>\n",
       "      <td>4</td>\n",
       "      <td>гол роналд штрафной спасать португалец поражен...</td>\n",
       "      <td>[сборная, португалия, сыграть, вничью, команда...</td>\n",
       "      <td>Спорт</td>\n",
       "      <td>1</td>\n",
       "      <td>[5714, 21204, 10491, 607, 20882, 14063, 3984, ...</td>\n",
       "    </tr>\n",
       "  </tbody>\n",
       "</table>\n",
       "</div>"
      ],
      "text/plain": [
       "   Unnamed: 0                                              title  \\\n",
       "0           0             инфляция январь год составлять процент   \n",
       "1           1     никита михалков учреждать день российский кино   \n",
       "2           2          марко матерацци вернуться строй матч цска   \n",
       "3           3                определять лауреат премия книга год   \n",
       "4           4  гол роналд штрафной спасать португалец поражен...   \n",
       "\n",
       "                                                text      topic  topic_label  \\\n",
       "0  [глава, росстат, владимир, соколин, заявлять, ...  Экономика            0   \n",
       "1  [российский, кинематографист, появляться, новы...   Культура            3   \n",
       "2  [медицинский, штаб, миланский, интер, обнародо...      Спорт            1   \n",
       "3  [премия, книга, год, номинация, вручать, моско...   Культура            3   \n",
       "4  [сборная, португалия, сыграть, вничью, команда...      Спорт            1   \n",
       "\n",
       "                                           freq_text  \n",
       "0  [3756, 21019, 6447, 8504, 18642, 6801, 2316, 7...  \n",
       "1  [18103, 22699, 105, 22189, 10825, 22090, 16611...  \n",
       "2  [21499, 10674, 20382, 2840, 10588, 22189, 6225...  \n",
       "3  [21388, 7888, 2316, 18149, 18252, 1703, 21390,...  \n",
       "4  [5714, 21204, 10491, 607, 20882, 14063, 3984, ...  "
      ]
     },
     "execution_count": 12,
     "metadata": {},
     "output_type": "execute_result"
    }
   ],
   "source": [
    "top_words = 24999    # ограниичимся словарём из 25000 самых частых слов\n",
    "\n",
    "sorted_words = sorted(words_count.items(), key=lambda w:w[1], reverse=True)\n",
    "freq_words = {item[0] for item in sorted_words[:top_words]}\n",
    "\n",
    "encoder = dict(zip(freq_words, list(range(1,len(freq_words) + 1))))\n",
    "\n",
    "# функция-фильтр\n",
    "def freq_filter(text):\n",
    "    return np.array([encoder[word] for word in text if word in freq_words])\n",
    "\n",
    "lenta['freq_text'] = lenta.text.apply(freq_filter)\n",
    "lenta.head()"
   ]
  },
  {
   "cell_type": "code",
   "execution_count": 124,
   "metadata": {},
   "outputs": [],
   "source": [
    "# words_to_vec(lenta['title'].tolist()[0], model_en, dim=300)"
   ]
  },
  {
   "cell_type": "code",
   "execution_count": 126,
   "metadata": {},
   "outputs": [],
   "source": [
    "# lenta['title'] = lenta.title.apply(words_to_vec)"
   ]
  },
  {
   "cell_type": "code",
   "execution_count": 28,
   "metadata": {},
   "outputs": [],
   "source": [
    "# X_train[0]"
   ]
  },
  {
   "cell_type": "code",
   "execution_count": null,
   "metadata": {},
   "outputs": [],
   "source": []
  },
  {
   "cell_type": "code",
   "execution_count": 128,
   "metadata": {},
   "outputs": [],
   "source": [
    "# X = lenta.title.tolist()\n",
    "# y = lenta.topic_label.tolist()\n",
    "\n",
    "# X, y = np.array(X), np.array(y)\n",
    "\n",
    "# X_train, X_test, y_train, y_test = train_test_split(X,y, test_size=0.33)\n",
    "# print (\"total train examples %s\" % len(y_train))\n",
    "# print (\"total test examples %s\" % len(y_test))"
   ]
  },
  {
   "cell_type": "code",
   "execution_count": 13,
   "metadata": {},
   "outputs": [
    {
     "name": "stdout",
     "output_type": "stream",
     "text": [
      "total train examples 138358\n",
      "total test examples 68147\n"
     ]
    }
   ],
   "source": [
    "X = lenta.freq_text.tolist()\n",
    "y = lenta.topic_label.tolist()\n",
    "\n",
    "X, y = np.array(X), np.array(y)\n",
    "\n",
    "X_train, X_test, y_train, y_test = train_test_split(X,y, test_size=0.33)\n",
    "print (\"total train examples %s\" % len(y_train))\n",
    "print (\"total test examples %s\" % len(y_test))"
   ]
  },
  {
   "cell_type": "code",
   "execution_count": 14,
   "metadata": {},
   "outputs": [],
   "source": [
    "max_twitter_length = 20         # обрежем все посты до 20 слов\n",
    "\n",
    "X_train = sequence.pad_sequences(X_train, maxlen=max_twitter_length)\n",
    "X_test = sequence.pad_sequences(X_test, maxlen=max_twitter_length)"
   ]
  },
  {
   "cell_type": "code",
   "execution_count": 15,
   "metadata": {},
   "outputs": [],
   "source": [
    "y_train = to_categorical(y_train)\n",
    "y_test = to_categorical(y_test)"
   ]
  },
  {
   "cell_type": "code",
   "execution_count": 16,
   "metadata": {},
   "outputs": [],
   "source": [
    "es = EarlyStopping(monitor='val_accuracy', patience=10)\n",
    "steplr = ReduceLROnPlateau(monitor='val_accuracy', factor=0.5, patience=3, verbose=1, mode='auto', min_delta=0.0001, cooldown=0, min_lr=0)"
   ]
  },
  {
   "cell_type": "code",
   "execution_count": 30,
   "metadata": {},
   "outputs": [],
   "source": [
    "model = Sequential()\n",
    "model.add(Embedding(top_words + 1, 300, input_length=max_twitter_length))\n",
    "model.add(Dropout(0.5))\n",
    "model.add(LSTM(128))\n",
    "# model.add(Dropout(0.5))\n",
    "model.add(Dense(5, activation='softmax'))\n",
    "\n",
    "model.compile(loss='categorical_crossentropy', optimizer='adam', metrics=['accuracy'])"
   ]
  },
  {
   "cell_type": "code",
   "execution_count": 31,
   "metadata": {},
   "outputs": [
    {
     "name": "stdout",
     "output_type": "stream",
     "text": [
      "Model: \"sequential_4\"\n",
      "_________________________________________________________________\n",
      "Layer (type)                 Output Shape              Param #   \n",
      "=================================================================\n",
      "embedding_4 (Embedding)      (None, 20, 300)           7500000   \n",
      "_________________________________________________________________\n",
      "dropout_7 (Dropout)          (None, 20, 300)           0         \n",
      "_________________________________________________________________\n",
      "lstm_2 (LSTM)                (None, 128)               219648    \n",
      "_________________________________________________________________\n",
      "dense_4 (Dense)              (None, 5)                 645       \n",
      "=================================================================\n",
      "Total params: 7,720,293\n",
      "Trainable params: 7,720,293\n",
      "Non-trainable params: 0\n",
      "_________________________________________________________________\n"
     ]
    }
   ],
   "source": [
    "model.summary()"
   ]
  },
  {
   "cell_type": "code",
   "execution_count": 32,
   "metadata": {},
   "outputs": [
    {
     "name": "stdout",
     "output_type": "stream",
     "text": [
      "Train on 117604 samples, validate on 20754 samples\n",
      "Epoch 1/5\n",
      "117604/117604 [==============================] - 79s 668us/sample - loss: 0.3402 - accuracy: 0.8909 - val_loss: 0.2770 - val_accuracy: 0.9153\n",
      "Epoch 2/5\n",
      "117604/117604 [==============================] - 79s 668us/sample - loss: 0.2125 - accuracy: 0.9330 - val_loss: 0.2724 - val_accuracy: 0.9158\n",
      "Epoch 3/5\n",
      "117604/117604 [==============================] - 79s 669us/sample - loss: 0.1642 - accuracy: 0.9473 - val_loss: 0.2946 - val_accuracy: 0.9122\n",
      "Epoch 4/5\n",
      "117604/117604 [==============================] - 80s 681us/sample - loss: 0.1237 - accuracy: 0.9594 - val_loss: 0.3201 - val_accuracy: 0.9130\n",
      "Epoch 5/5\n",
      "117568/117604 [============================>.] - ETA: 0s - loss: 0.0926 - accuracy: 0.9697\n",
      "Epoch 00005: ReduceLROnPlateau reducing learning rate to 0.0005000000237487257.\n",
      "117604/117604 [==============================] - 81s 689us/sample - loss: 0.0926 - accuracy: 0.9697 - val_loss: 0.3618 - val_accuracy: 0.9088\n",
      "CPU times: user 29min 32s, sys: 1min 15s, total: 30min 47s\n",
      "Wall time: 6min 36s\n"
     ]
    }
   ],
   "source": [
    "%%time \n",
    "hist = model.fit(X_train, y_train, callbacks=[es, steplr], validation_split=0.15, epochs=5, batch_size=64)"
   ]
  },
  {
   "cell_type": "code",
   "execution_count": 34,
   "metadata": {},
   "outputs": [
    {
     "data": {
      "text/plain": [
       "<matplotlib.legend.Legend at 0x7f6da01f9cc0>"
      ]
     },
     "execution_count": 34,
     "metadata": {},
     "output_type": "execute_result"
    },
    {
     "data": {
      "image/png": "[encoded data removed]",
      "text/plain": [
       "<Figure size 432x288 with 1 Axes>"
      ]
     },
     "metadata": {
      "needs_background": "light"
     },
     "output_type": "display_data"
    }
   ],
   "source": [
    "plt.plot(hist.history['loss'])\n",
    "plt.plot(hist.history['val_loss'])\n",
    "plt.legend(['Train loss', 'Validation loss'])"
   ]
  },
  {
   "cell_type": "code",
   "execution_count": 47,
   "metadata": {},
   "outputs": [],
   "source": [
    "model = Sequential()\n",
    "model.add(Embedding(top_words + 1, 300, input_length=max_twitter_length))\n",
    "model.add(Conv1D(64, 2, activation='relu'))\n",
    "model.add(GlobalMaxPooling1D())\n",
    "# model.add(Dense(10, activation='relu'))\n",
    "model.add(Dense(5, activation='softmax'))\n",
    "\n",
    "model.compile(loss='categorical_crossentropy', optimizer='adam', metrics=['accuracy'])"
   ]
  },
  {
   "cell_type": "code",
   "execution_count": 48,
   "metadata": {},
   "outputs": [
    {
     "name": "stdout",
     "output_type": "stream",
     "text": [
      "Train on 117604 samples, validate on 20754 samples\n",
      "Epoch 1/5\n",
      "117604/117604 [==============================] - 81s 688us/sample - loss: 0.3583 - accuracy: 0.8910 - val_loss: 0.2677 - val_accuracy: 0.9153\n",
      "Epoch 2/5\n",
      "117604/117604 [==============================] - 80s 676us/sample - loss: 0.1781 - accuracy: 0.9437 - val_loss: 0.2764 - val_accuracy: 0.9164\n",
      "Epoch 3/5\n",
      "117604/117604 [==============================] - 80s 677us/sample - loss: 0.0920 - accuracy: 0.9721 - val_loss: 0.3238 - val_accuracy: 0.9146\n",
      "Epoch 4/5\n",
      "117604/117604 [==============================] - 81s 689us/sample - loss: 0.0424 - accuracy: 0.9884 - val_loss: 0.3872 - val_accuracy: 0.9093\n",
      "Epoch 5/5\n",
      "117568/117604 [============================>.] - ETA: 0s - loss: 0.0246 - accuracy: 0.9943\n",
      "Epoch 00005: ReduceLROnPlateau reducing learning rate to 0.0005000000237487257.\n",
      "117604/117604 [==============================] - 79s 674us/sample - loss: 0.0246 - accuracy: 0.9943 - val_loss: 0.4430 - val_accuracy: 0.9096\n",
      "CPU times: user 29min 12s, sys: 1min 23s, total: 30min 36s\n",
      "Wall time: 6min 40s\n"
     ]
    }
   ],
   "source": [
    "%%time \n",
    "hist = model.fit(X_train, y_train, callbacks=[es, steplr], validation_split=0.15, epochs=5, batch_size=64)"
   ]
  },
  {
   "cell_type": "code",
   "execution_count": 50,
   "metadata": {},
   "outputs": [
    {
     "data": {
      "text/plain": [
       "<matplotlib.legend.Legend at 0x7f6d98532eb8>"
      ]
     },
     "execution_count": 50,
     "metadata": {},
     "output_type": "execute_result"
    },
    {
     "data": {
      "image/png": "[encoded data removed]",
      "text/plain": [
       "<Figure size 432x288 with 1 Axes>"
      ]
     },
     "metadata": {
      "needs_background": "light"
     },
     "output_type": "display_data"
    }
   ],
   "source": [
    "plt.plot(hist.history['loss'])\n",
    "plt.plot(hist.history['val_loss'])\n",
    "plt.legend(['Train loss', 'Validation loss'])"
   ]
  },
  {
   "cell_type": "code",
   "execution_count": null,
   "metadata": {},
   "outputs": [],
   "source": []
  },
  {
   "cell_type": "code",
   "execution_count": null,
   "metadata": {},
   "outputs": [],
   "source": []
  },
  {
   "cell_type": "code",
   "execution_count": null,
   "metadata": {},
   "outputs": [],
   "source": []
  },
  {
   "cell_type": "code",
   "execution_count": null,
   "metadata": {},
   "outputs": [],
   "source": []
  },
  {
   "cell_type": "code",
   "execution_count": null,
   "metadata": {},
   "outputs": [],
   "source": []
  },
  {
   "cell_type": "code",
   "execution_count": null,
   "metadata": {},
   "outputs": [],
   "source": []
  },
  {
   "cell_type": "code",
   "execution_count": null,
   "metadata": {},
   "outputs": [],
   "source": []
  },
  {
   "cell_type": "code",
   "execution_count": null,
   "metadata": {},
   "outputs": [],
   "source": []
  },
  {
   "cell_type": "code",
   "execution_count": null,
   "metadata": {},
   "outputs": [],
   "source": []
  },
  {
   "cell_type": "code",
   "execution_count": null,
   "metadata": {},
   "outputs": [],
   "source": []
  },
  {
   "cell_type": "code",
   "execution_count": null,
   "metadata": {},
   "outputs": [],
   "source": []
  },
  {
   "cell_type": "code",
   "execution_count": null,
   "metadata": {},
   "outputs": [],
   "source": []
  },
  {
   "cell_type": "code",
   "execution_count": null,
   "metadata": {},
   "outputs": [],
   "source": []
  },
  {
   "cell_type": "code",
   "execution_count": null,
   "metadata": {},
   "outputs": [],
   "source": []
  },
  {
   "cell_type": "code",
   "execution_count": null,
   "metadata": {},
   "outputs": [],
   "source": []
  },
  {
   "cell_type": "code",
   "execution_count": null,
   "metadata": {},
   "outputs": [],
   "source": []
  },
  {
   "cell_type": "code",
   "execution_count": 7,
   "metadata": {
    "colab": {
     "base_uri": "https://localhost:8080/",
     "height": 204
    },
    "colab_type": "code",
    "id": "P2VNn0grldmS",
    "outputId": "badba887-aec3-4b89-b36d-23aff7363563"
   },
   "outputs": [
    {
     "data": {
      "text/html": [
       "<div>\n",
       "<style scoped>\n",
       "    .dataframe tbody tr th:only-of-type {\n",
       "        vertical-align: middle;\n",
       "    }\n",
       "\n",
       "    .dataframe tbody tr th {\n",
       "        vertical-align: top;\n",
       "    }\n",
       "\n",
       "    .dataframe thead th {\n",
       "        text-align: right;\n",
       "    }\n",
       "</style>\n",
       "<table border=\"1\" class=\"dataframe\">\n",
       "  <thead>\n",
       "    <tr style=\"text-align: right;\">\n",
       "      <th></th>\n",
       "      <th>title</th>\n",
       "      <th>text</th>\n",
       "      <th>label</th>\n",
       "    </tr>\n",
       "  </thead>\n",
       "  <tbody>\n",
       "    <tr>\n",
       "      <th>0</th>\n",
       "      <td>Сборная России выиграла чемпионат мира по футб...</td>\n",
       "      <td>В южноафриканском Кейптауне победой сборной Ро...</td>\n",
       "      <td>Экономика</td>\n",
       "    </tr>\n",
       "    <tr>\n",
       "      <th>1</th>\n",
       "      <td>Анна Курникова снова проиграла в первом раунде</td>\n",
       "      <td>Анна Курникова, проиграв испанке Кончите Марти...</td>\n",
       "      <td>Спорт</td>\n",
       "    </tr>\n",
       "    <tr>\n",
       "      <th>2</th>\n",
       "      <td>Новым главным тренером \"Спартака\" стал Станисл...</td>\n",
       "      <td>Новым главным тренером московского футбольного...</td>\n",
       "      <td>Спорт</td>\n",
       "    </tr>\n",
       "    <tr>\n",
       "      <th>3</th>\n",
       "      <td>Майкл Дуглас совершил неожиданный визит на Кубу</td>\n",
       "      <td>Известный голливудский актер Майкл Дуглас сове...</td>\n",
       "      <td>Экономика</td>\n",
       "    </tr>\n",
       "    <tr>\n",
       "      <th>4</th>\n",
       "      <td>Кадыров снялся в короткометражке «Волшебный гр...</td>\n",
       "      <td>Глава Чеченской Республики Рамзан Кадыров снял...</td>\n",
       "      <td>Культура</td>\n",
       "    </tr>\n",
       "  </tbody>\n",
       "</table>\n",
       "</div>"
      ],
      "text/plain": [
       "                                               title  \\\n",
       "0  Сборная России выиграла чемпионат мира по футб...   \n",
       "1     Анна Курникова снова проиграла в первом раунде   \n",
       "2  Новым главным тренером \"Спартака\" стал Станисл...   \n",
       "3    Майкл Дуглас совершил неожиданный визит на Кубу   \n",
       "4  Кадыров снялся в короткометражке «Волшебный гр...   \n",
       "\n",
       "                                                text      label  \n",
       "0  В южноафриканском Кейптауне победой сборной Ро...  Экономика  \n",
       "1  Анна Курникова, проиграв испанке Кончите Марти...      Спорт  \n",
       "2  Новым главным тренером московского футбольного...      Спорт  \n",
       "3  Известный голливудский актер Майкл Дуглас сове...  Экономика  \n",
       "4  Глава Чеченской Республики Рамзан Кадыров снял...   Культура  "
      ]
     },
     "execution_count": 7,
     "metadata": {},
     "output_type": "execute_result"
    }
   ],
   "source": [
    "test_data['label'] = [topics[randint(0,4)] for i in range(len(test_data)) ]\n",
    "test_data.head()"
   ]
  },
  {
   "cell_type": "code",
   "execution_count": 8,
   "metadata": {
    "colab": {
     "base_uri": "https://localhost:8080/",
     "height": 71
    },
    "colab_type": "code",
    "id": "b9d3CZdulsIS",
    "outputId": "e7e3a590-5f75-4963-b830-ebeeed69946b"
   },
   "outputs": [],
   "source": [
    "test_data['label'].to_csv('submission.csv', header = None)"
   ]
  },
  {
   "cell_type": "code",
   "execution_count": null,
   "metadata": {},
   "outputs": [],
   "source": []
  }
 ],
 "metadata": {
  "colab": {
   "name": "NLP_Kaggle.ipynb",
   "provenance": []
  },
  "kernelspec": {
   "display_name": "Python 3",
   "language": "python",
   "name": "python3"
  },
  "language_info": {
   "codemirror_mode": {
    "name": "ipython",
    "version": 3
   },
   "file_extension": ".py",
   "mimetype": "text/x-python",
   "name": "python",
   "nbconvert_exporter": "python",
   "pygments_lexer": "ipython3",
   "version": "3.7.3"
  }
 },
 "nbformat": 4,
 "nbformat_minor": 1
}
