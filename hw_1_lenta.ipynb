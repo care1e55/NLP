{
 "cells": [
  {
   "cell_type": "markdown",
   "metadata": {
    "colab_type": "text",
    "id": "GdVNiitLfQjZ"
   },
   "source": [
    "## Задание\n",
    "\n",
    "Мы будем работать с (частичными) данными lenta.ru отсюда: https://www.kaggle.com/yutkin/corpus-of-russian-news-articles-from-lenta/ Ниже примерный список того, что можно попробовать в ходе решения.\n",
    "\n",
    "1. Проведите предобработку текста: уберите небуквенные символы, проведите токенизацию, лемматизируйте текст. Разбейте данные на train и test для задачи классификации (в качестве метки класса будем использовать поле topic_label).В качестве данных для классификации в пунктах 3 и 5 попробуйте взять\n",
    "    - только заголовки (title)\n",
    "    - только тексты новости (text)\n",
    "    - и то, и другое\n",
    "2. Обучите fastText для классификации текстов по темам (baseline).\n",
    "3. Обучите свою модель w2v (или возьмите любую подходящую предобученную модель). Реализуйте функцию для вычисления вектора текста / заголовка / текста+заголовка как среднего вектора входящих в него слов. \n",
    "     - (Бонус) Модифицируйте функцию вычисления среднего вектора: взвешивайте вектора слов соответствующими весами tf-idf.\n",
    "4. Обучите на полученных средних векторах алгоритм классификации (логистическая регрессия, SVM, KNN, однослойную полносвязную нейросеть). \n",
    "5. Обучите сверточную сеть, на вход можно подавать предобученные эмбеддинги из п. 4 **(для слов, не для предложений)**."
   ]
  },
  {
   "cell_type": "code",
   "execution_count": 1,
   "metadata": {
    "colab": {
     "base_uri": "https://localhost:8080/",
     "height": 377
    },
    "colab_type": "code",
    "id": "iGkpvuPJHMD7",
    "outputId": "24f1d2e2-e3ec-403e-f36f-f404bf0c657f"
   },
   "outputs": [
    {
     "name": "stdout",
     "output_type": "stream",
     "text": [
      "--2020-04-16 20:45:08--  https://www.dropbox.com/s/kdupcw1llbdbqwl/lenta-ru-train.csv?dl=0\n",
      "Resolving www.dropbox.com (www.dropbox.com)... 2620:100:6026:1::a27d:4601, 162.125.70.1\n",
      "Connecting to www.dropbox.com (www.dropbox.com)|2620:100:6026:1::a27d:4601|:443... failed: Network is unreachable.\n",
      "Connecting to www.dropbox.com (www.dropbox.com)|162.125.70.1|:443... connected.\n",
      "HTTP request sent, awaiting response... 301 Moved Permanently\n",
      "Location: /s/raw/kdupcw1llbdbqwl/lenta-ru-train.csv [following]\n",
      "--2020-04-16 20:45:08--  https://www.dropbox.com/s/raw/kdupcw1llbdbqwl/lenta-ru-train.csv\n",
      "Reusing existing connection to www.dropbox.com:443.\n",
      "HTTP request sent, awaiting response... 302 Found\n",
      "Location: https://uce6ed18f9e8398cebcb8c300156.dl.dropboxusercontent.com/cd/0/inline/A19CcALyr0NY0zr5SCry1vT7OozwhnrMygGFDzmsMNqfLxaxHFedmxSmXbHJAEwz5ARGcD46aTzxYDWuClfPYMWjPnOAB6_xHATZeIt2K_Ce6xAkiTBEFuW-saZ6rSL8Sao/file# [following]\n",
      "--2020-04-16 20:45:08--  https://uce6ed18f9e8398cebcb8c300156.dl.dropboxusercontent.com/cd/0/inline/A19CcALyr0NY0zr5SCry1vT7OozwhnrMygGFDzmsMNqfLxaxHFedmxSmXbHJAEwz5ARGcD46aTzxYDWuClfPYMWjPnOAB6_xHATZeIt2K_Ce6xAkiTBEFuW-saZ6rSL8Sao/file\n",
      "Resolving uce6ed18f9e8398cebcb8c300156.dl.dropboxusercontent.com (uce6ed18f9e8398cebcb8c300156.dl.dropboxusercontent.com)... 2620:100:6026:6::a27d:4606, 162.125.70.6\n",
      "Connecting to uce6ed18f9e8398cebcb8c300156.dl.dropboxusercontent.com (uce6ed18f9e8398cebcb8c300156.dl.dropboxusercontent.com)|2620:100:6026:6::a27d:4606|:443... failed: Network is unreachable.\n",
      "Connecting to uce6ed18f9e8398cebcb8c300156.dl.dropboxusercontent.com (uce6ed18f9e8398cebcb8c300156.dl.dropboxusercontent.com)|162.125.70.6|:443... connected.\n",
      "HTTP request sent, awaiting response... 200 OK\n",
      "Length: 517902316 (494M) [text/plain]\n",
      "Saving to: ‘lenta-ru-train.csv’\n",
      "\n",
      "lenta-ru-train.csv  100%[===================>] 493,91M  24,4MB/s    in 21s     \n",
      "\n",
      "2020-04-16 20:45:30 (24,0 MB/s) - ‘lenta-ru-train.csv’ saved [517902316/517902316]\n",
      "\n"
     ]
    }
   ],
   "source": [
    "! wget -O lenta-ru-train.csv https://www.dropbox.com/s/kdupcw1llbdbqwl/lenta-ru-train.csv?dl=0"
   ]
  },
  {
   "cell_type": "code",
   "execution_count": 45,
   "metadata": {
    "colab": {
     "base_uri": "https://localhost:8080/",
     "height": 204
    },
    "colab_type": "code",
    "id": "cIe5cT0PfCVQ",
    "outputId": "9888e851-c532-4a98-dd5e-1ad3d93c2f0c"
   },
   "outputs": [
    {
     "data": {
      "text/html": [
       "<div>\n",
       "<style scoped>\n",
       "    .dataframe tbody tr th:only-of-type {\n",
       "        vertical-align: middle;\n",
       "    }\n",
       "\n",
       "    .dataframe tbody tr th {\n",
       "        vertical-align: top;\n",
       "    }\n",
       "\n",
       "    .dataframe thead th {\n",
       "        text-align: right;\n",
       "    }\n",
       "</style>\n",
       "<table border=\"1\" class=\"dataframe\">\n",
       "  <thead>\n",
       "    <tr style=\"text-align: right;\">\n",
       "      <th></th>\n",
       "      <th>title</th>\n",
       "      <th>text</th>\n",
       "      <th>topic</th>\n",
       "      <th>topic_label</th>\n",
       "    </tr>\n",
       "  </thead>\n",
       "  <tbody>\n",
       "    <tr>\n",
       "      <th>0</th>\n",
       "      <td>Инфляция в январе 2006 года составит 2,6 процента</td>\n",
       "      <td>Глава Росстата Владимир Соколин заявил, что в ...</td>\n",
       "      <td>Экономика</td>\n",
       "      <td>0</td>\n",
       "    </tr>\n",
       "    <tr>\n",
       "      <th>1</th>\n",
       "      <td>Никита Михалков учредил День российского кино</td>\n",
       "      <td>У российских кинематографистов  появится новый...</td>\n",
       "      <td>Культура</td>\n",
       "      <td>3</td>\n",
       "    </tr>\n",
       "    <tr>\n",
       "      <th>2</th>\n",
       "      <td>Марко Матерацци вернется в строй к матчу с ЦСКА</td>\n",
       "      <td>Медицинский штаб миланского \"Интера\" обнародов...</td>\n",
       "      <td>Спорт</td>\n",
       "      <td>1</td>\n",
       "    </tr>\n",
       "    <tr>\n",
       "      <th>3</th>\n",
       "      <td>Определены лауреаты премии \"Книга года\"</td>\n",
       "      <td>Премии \"Книга года\" в 13 номинациях вручены на...</td>\n",
       "      <td>Культура</td>\n",
       "      <td>3</td>\n",
       "    </tr>\n",
       "    <tr>\n",
       "      <th>4</th>\n",
       "      <td>Гол Роналду со штрафного спас португальцев от ...</td>\n",
       "      <td>Сборная Португалии сыграла вничью с командой И...</td>\n",
       "      <td>Спорт</td>\n",
       "      <td>1</td>\n",
       "    </tr>\n",
       "  </tbody>\n",
       "</table>\n",
       "</div>"
      ],
      "text/plain": [
       "                                               title  \\\n",
       "0  Инфляция в январе 2006 года составит 2,6 процента   \n",
       "1      Никита Михалков учредил День российского кино   \n",
       "2    Марко Матерацци вернется в строй к матчу с ЦСКА   \n",
       "3            Определены лауреаты премии \"Книга года\"   \n",
       "4  Гол Роналду со штрафного спас португальцев от ...   \n",
       "\n",
       "                                                text      topic  topic_label  \n",
       "0  Глава Росстата Владимир Соколин заявил, что в ...  Экономика            0  \n",
       "1  У российских кинематографистов  появится новый...   Культура            3  \n",
       "2  Медицинский штаб миланского \"Интера\" обнародов...      Спорт            1  \n",
       "3  Премии \"Книга года\" в 13 номинациях вручены на...   Культура            3  \n",
       "4  Сборная Португалии сыграла вничью с командой И...      Спорт            1  "
      ]
     },
     "execution_count": 45,
     "metadata": {},
     "output_type": "execute_result"
    }
   ],
   "source": [
    "import pandas as pd\n",
    "\n",
    "lenta = pd.read_csv('lenta-ru-train.csv')\n",
    "lenta.head()"
   ]
  },
  {
   "cell_type": "code",
   "execution_count": 46,
   "metadata": {
    "colab": {
     "base_uri": "https://localhost:8080/",
     "height": 119
    },
    "colab_type": "code",
    "id": "-mjzi8bHgpzE",
    "outputId": "dd5862aa-8023-4cf4-f92a-c62e43462b3a"
   },
   "outputs": [
    {
     "data": {
      "text/plain": [
       "Экономика          63571\n",
       "Спорт              51679\n",
       "Культура           43072\n",
       "Наука и техника    42384\n",
       "Бизнес              5931\n",
       "Name: topic, dtype: int64"
      ]
     },
     "execution_count": 46,
     "metadata": {},
     "output_type": "execute_result"
    }
   ],
   "source": [
    "lenta.topic.value_counts()"
   ]
  },
  {
   "cell_type": "code",
   "execution_count": 47,
   "metadata": {
    "colab": {
     "base_uri": "https://localhost:8080/",
     "height": 34
    },
    "colab_type": "code",
    "id": "GFcXQnfVjPNm",
    "outputId": "50cb8fc3-0840-424b-ac68-648f8cf7e11e"
   },
   "outputs": [
    {
     "data": {
      "text/plain": [
       "206637"
      ]
     },
     "execution_count": 47,
     "metadata": {},
     "output_type": "execute_result"
    }
   ],
   "source": [
    "len(lenta)"
   ]
  },
  {
   "cell_type": "markdown",
   "metadata": {
    "colab_type": "text",
    "id": "5ZdR20utk_2s"
   },
   "source": [
    "Ниже пример, как можно сделать файл с решением для Kaggle."
   ]
  },
  {
   "cell_type": "code",
   "execution_count": 4,
   "metadata": {
    "colab": {},
    "colab_type": "code",
    "id": "CacdqJCn7clQ"
   },
   "outputs": [
    {
     "name": "stdout",
     "output_type": "stream",
     "text": [
      "--2020-04-17 21:11:52--  https://www.dropbox.com/s/9av90tgqob1slnj/lenta-ru-test.csv?dl=0\n",
      "Resolving www.dropbox.com (www.dropbox.com)... 2620:100:6026:1::a27d:4601, 162.125.70.1\n",
      "Connecting to www.dropbox.com (www.dropbox.com)|2620:100:6026:1::a27d:4601|:443... failed: Network is unreachable.\n",
      "Connecting to www.dropbox.com (www.dropbox.com)|162.125.70.1|:443... connected.\n",
      "HTTP request sent, awaiting response... 301 Moved Permanently\n",
      "Location: /s/raw/9av90tgqob1slnj/lenta-ru-test.csv [following]\n",
      "--2020-04-17 21:11:52--  https://www.dropbox.com/s/raw/9av90tgqob1slnj/lenta-ru-test.csv\n",
      "Reusing existing connection to www.dropbox.com:443.\n",
      "HTTP request sent, awaiting response... 302 Found\n",
      "Location: https://ucaa82188e4d98928094f4a60e9d.dl.dropboxusercontent.com/cd/0/inline/A2CQ_IxeHDlZnv6KWIIGMMBbur627hfdbsHN-vFTX6_aOhPGSOlboh7e5qzwNEbFMpOmcIlb_9zqpvNs-gHrVhCTxZywfJzk-cFunkiNFc2MCmfwqmS7kcXFynijMxE5qXY/file# [following]\n",
      "--2020-04-17 21:11:53--  https://ucaa82188e4d98928094f4a60e9d.dl.dropboxusercontent.com/cd/0/inline/A2CQ_IxeHDlZnv6KWIIGMMBbur627hfdbsHN-vFTX6_aOhPGSOlboh7e5qzwNEbFMpOmcIlb_9zqpvNs-gHrVhCTxZywfJzk-cFunkiNFc2MCmfwqmS7kcXFynijMxE5qXY/file\n",
      "Resolving ucaa82188e4d98928094f4a60e9d.dl.dropboxusercontent.com (ucaa82188e4d98928094f4a60e9d.dl.dropboxusercontent.com)... 2620:100:6026:6::a27d:4606, 162.125.70.6\n",
      "Connecting to ucaa82188e4d98928094f4a60e9d.dl.dropboxusercontent.com (ucaa82188e4d98928094f4a60e9d.dl.dropboxusercontent.com)|2620:100:6026:6::a27d:4606|:443... failed: Network is unreachable.\n",
      "Connecting to ucaa82188e4d98928094f4a60e9d.dl.dropboxusercontent.com (ucaa82188e4d98928094f4a60e9d.dl.dropboxusercontent.com)|162.125.70.6|:443... connected.\n",
      "HTTP request sent, awaiting response... 200 OK\n",
      "Length: 128679619 (123M) [text/plain]\n",
      "Saving to: ‘lenta-ru-test.csv’\n",
      "\n",
      "lenta-ru-test.csv   100%[===================>] 122,72M  22,2MB/s    in 5,6s    \n",
      "\n",
      "2020-04-17 21:11:59 (22,0 MB/s) - ‘lenta-ru-test.csv’ saved [128679619/128679619]\n",
      "\n"
     ]
    }
   ],
   "source": [
    "! wget -O lenta-ru-test.csv https://www.dropbox.com/s/9av90tgqob1slnj/lenta-ru-test.csv?dl=0"
   ]
  },
  {
   "cell_type": "code",
   "execution_count": 48,
   "metadata": {
    "colab": {
     "base_uri": "https://localhost:8080/",
     "height": 204
    },
    "colab_type": "code",
    "id": "_VeYXYOmk-pR",
    "outputId": "2804748e-68ec-4b30-9afd-2564ea793759"
   },
   "outputs": [
    {
     "data": {
      "text/html": [
       "<div>\n",
       "<style scoped>\n",
       "    .dataframe tbody tr th:only-of-type {\n",
       "        vertical-align: middle;\n",
       "    }\n",
       "\n",
       "    .dataframe tbody tr th {\n",
       "        vertical-align: top;\n",
       "    }\n",
       "\n",
       "    .dataframe thead th {\n",
       "        text-align: right;\n",
       "    }\n",
       "</style>\n",
       "<table border=\"1\" class=\"dataframe\">\n",
       "  <thead>\n",
       "    <tr style=\"text-align: right;\">\n",
       "      <th></th>\n",
       "      <th>title</th>\n",
       "      <th>text</th>\n",
       "    </tr>\n",
       "  </thead>\n",
       "  <tbody>\n",
       "    <tr>\n",
       "      <th>0</th>\n",
       "      <td>Сборная России выиграла чемпионат мира по футб...</td>\n",
       "      <td>В южноафриканском Кейптауне победой сборной Ро...</td>\n",
       "    </tr>\n",
       "    <tr>\n",
       "      <th>1</th>\n",
       "      <td>Анна Курникова снова проиграла в первом раунде</td>\n",
       "      <td>Анна Курникова, проиграв испанке Кончите Марти...</td>\n",
       "    </tr>\n",
       "    <tr>\n",
       "      <th>2</th>\n",
       "      <td>Новым главным тренером \"Спартака\" стал Станисл...</td>\n",
       "      <td>Новым главным тренером московского футбольного...</td>\n",
       "    </tr>\n",
       "    <tr>\n",
       "      <th>3</th>\n",
       "      <td>Майкл Дуглас совершил неожиданный визит на Кубу</td>\n",
       "      <td>Известный голливудский актер Майкл Дуглас сове...</td>\n",
       "    </tr>\n",
       "    <tr>\n",
       "      <th>4</th>\n",
       "      <td>Кадыров снялся в короткометражке «Волшебный гр...</td>\n",
       "      <td>Глава Чеченской Республики Рамзан Кадыров снял...</td>\n",
       "    </tr>\n",
       "  </tbody>\n",
       "</table>\n",
       "</div>"
      ],
      "text/plain": [
       "                                               title  \\\n",
       "0  Сборная России выиграла чемпионат мира по футб...   \n",
       "1     Анна Курникова снова проиграла в первом раунде   \n",
       "2  Новым главным тренером \"Спартака\" стал Станисл...   \n",
       "3    Майкл Дуглас совершил неожиданный визит на Кубу   \n",
       "4  Кадыров снялся в короткометражке «Волшебный гр...   \n",
       "\n",
       "                                                text  \n",
       "0  В южноафриканском Кейптауне победой сборной Ро...  \n",
       "1  Анна Курникова, проиграв испанке Кончите Марти...  \n",
       "2  Новым главным тренером московского футбольного...  \n",
       "3  Известный голливудский актер Майкл Дуглас сове...  \n",
       "4  Глава Чеченской Республики Рамзан Кадыров снял...  "
      ]
     },
     "execution_count": 48,
     "metadata": {},
     "output_type": "execute_result"
    }
   ],
   "source": [
    "from random import randint\n",
    "\n",
    "topics = ['Экономика', 'Спорт', 'Культура', 'Наука и техника', 'Бизнес']\n",
    "test_data = pd.read_csv('lenta-ru-test.csv')\n",
    "test_data.head()"
   ]
  },
  {
   "cell_type": "code",
   "execution_count": 49,
   "metadata": {},
   "outputs": [
    {
     "data": {
      "text/plain": [
       "'Инфляция в\\xa0январе 2006\\xa0года составит 2,6\\xa0процента'"
      ]
     },
     "execution_count": 49,
     "metadata": {},
     "output_type": "execute_result"
    }
   ],
   "source": [
    "lenta['title'][0]"
   ]
  },
  {
   "cell_type": "code",
   "execution_count": 50,
   "metadata": {},
   "outputs": [
    {
     "name": "stderr",
     "output_type": "stream",
     "text": [
      "[nltk_data] Downloading package stopwords to\n",
      "[nltk_data]     /home/care1e55/nltk_data...\n",
      "[nltk_data]   Package stopwords is already up-to-date!\n",
      "[nltk_data] Downloading package punkt to /home/care1e55/nltk_data...\n",
      "[nltk_data]   Package punkt is already up-to-date!\n",
      "[nltk_data] Downloading package snowball_data to\n",
      "[nltk_data]     /home/care1e55/nltk_data...\n",
      "[nltk_data]   Package snowball_data is already up-to-date!\n",
      "[nltk_data] Downloading package perluniprops to\n",
      "[nltk_data]     /home/care1e55/nltk_data...\n",
      "[nltk_data]   Package perluniprops is already up-to-date!\n",
      "[nltk_data] Downloading package universal_tagset to\n",
      "[nltk_data]     /home/care1e55/nltk_data...\n",
      "[nltk_data]   Package universal_tagset is already up-to-date!\n",
      "[nltk_data] Downloading package stopwords to\n",
      "[nltk_data]     /home/care1e55/nltk_data...\n",
      "[nltk_data]   Package stopwords is already up-to-date!\n",
      "[nltk_data] Downloading package nonbreaking_prefixes to\n",
      "[nltk_data]     /home/care1e55/nltk_data...\n",
      "[nltk_data]   Package nonbreaking_prefixes is already up-to-date!\n",
      "[nltk_data] Downloading package wordnet to /home/care1e55/nltk_data...\n",
      "[nltk_data]   Package wordnet is already up-to-date!\n"
     ]
    },
    {
     "data": {
      "text/plain": [
       "True"
      ]
     },
     "execution_count": 50,
     "metadata": {},
     "output_type": "execute_result"
    }
   ],
   "source": [
    "import nltk\n",
    "nltk.download('stopwords')\n",
    "nltk.download('punkt')\n",
    "nltk.download('snowball_data')\n",
    "nltk.download('perluniprops')\n",
    "nltk.download('universal_tagset')\n",
    "nltk.download('stopwords')\n",
    "nltk.download('nonbreaking_prefixes')\n",
    "nltk.download('wordnet')"
   ]
  },
  {
   "cell_type": "code",
   "execution_count": 51,
   "metadata": {},
   "outputs": [],
   "source": [
    "# !pip install pymystem3"
   ]
  },
  {
   "cell_type": "code",
   "execution_count": 52,
   "metadata": {},
   "outputs": [],
   "source": [
    "import re\n",
    "import unicodedata\n",
    "from nltk.tokenize import sent_tokenize\n",
    "from nltk.corpus import stopwords\n",
    "from nltk.stem import WordNetLemmatizer\n",
    "from nltk.tokenize import word_tokenize\n",
    "from pymystem3 import Mystem\n",
    "from functools import lru_cache"
   ]
  },
  {
   "cell_type": "code",
   "execution_count": 53,
   "metadata": {},
   "outputs": [],
   "source": [
    "sw = stopwords.words('russian')"
   ]
  },
  {
   "cell_type": "code",
   "execution_count": 54,
   "metadata": {},
   "outputs": [],
   "source": [
    "lenta['title'] = lenta['title'].str.replace(r'[^А-я\\s]', '', regex=True).str.lower().str.split()\n",
    "lenta['text'] = lenta['text'].str.replace(r'[^А-я\\s]', '', regex=True).str.lower().str.split()"
   ]
  },
  {
   "cell_type": "code",
   "execution_count": 55,
   "metadata": {},
   "outputs": [
    {
     "data": {
      "text/plain": [
       "0         [глава, росстата, владимир, соколин, заявил, ч...\n",
       "1         [у, российских, кинематографистов, появится, н...\n",
       "2         [медицинский, штаб, миланского, интера, обнаро...\n",
       "3         [премии, книга, года, в, номинациях, вручены, ...\n",
       "4         [сборная, португалии, сыграла, вничью, с, кома...\n",
       "                                ...                        \n",
       "206632    [бывшей, вицепрезиденту, ювелирной, компании, ...\n",
       "206633    [минфин, предлагает, увеличить, размер, штрафа...\n",
       "206634    [индекс, потребительской, уверенности, россиян...\n",
       "206635    [капитан, женской, сборной, россии, по, теннис...\n",
       "206636    [союз, европейских, футбольных, ассоциаций, уе...\n",
       "Name: text, Length: 206637, dtype: object"
      ]
     },
     "execution_count": 55,
     "metadata": {},
     "output_type": "execute_result"
    }
   ],
   "source": [
    "lenta['text']"
   ]
  },
  {
   "cell_type": "code",
   "execution_count": 56,
   "metadata": {},
   "outputs": [
    {
     "name": "stdout",
     "output_type": "stream",
     "text": [
      "nan\n"
     ]
    },
    {
     "data": {
      "text/html": [
       "<div>\n",
       "<style scoped>\n",
       "    .dataframe tbody tr th:only-of-type {\n",
       "        vertical-align: middle;\n",
       "    }\n",
       "\n",
       "    .dataframe tbody tr th {\n",
       "        vertical-align: top;\n",
       "    }\n",
       "\n",
       "    .dataframe thead th {\n",
       "        text-align: right;\n",
       "    }\n",
       "</style>\n",
       "<table border=\"1\" class=\"dataframe\">\n",
       "  <thead>\n",
       "    <tr style=\"text-align: right;\">\n",
       "      <th></th>\n",
       "      <th>title</th>\n",
       "      <th>text</th>\n",
       "      <th>topic</th>\n",
       "      <th>topic_label</th>\n",
       "    </tr>\n",
       "  </thead>\n",
       "  <tbody>\n",
       "    <tr>\n",
       "      <th>151352</th>\n",
       "      <td>[гребенщиков, заработал, тысяч, рублей, в, омс...</td>\n",
       "      <td>NaN</td>\n",
       "      <td>Культура</td>\n",
       "      <td>3</td>\n",
       "    </tr>\n",
       "  </tbody>\n",
       "</table>\n",
       "</div>"
      ],
      "text/plain": [
       "                                                    title text     topic  \\\n",
       "151352  [гребенщиков, заработал, тысяч, рублей, в, омс...  NaN  Культура   \n",
       "\n",
       "        topic_label  \n",
       "151352            3  "
      ]
     },
     "execution_count": 56,
     "metadata": {},
     "output_type": "execute_result"
    }
   ],
   "source": [
    "lenta[lenta['text'].apply(lambda x: print(x) if type(x) is float else 'Nope') != 'Nope']"
   ]
  },
  {
   "cell_type": "code",
   "execution_count": 57,
   "metadata": {},
   "outputs": [],
   "source": [
    "lenta = lenta.dropna()"
   ]
  },
  {
   "cell_type": "code",
   "execution_count": 58,
   "metadata": {},
   "outputs": [],
   "source": [
    "def clean(l):\n",
    "    new_l = [w for w in l if w not in sw]\n",
    "    return new_l"
   ]
  },
  {
   "cell_type": "code",
   "execution_count": 73,
   "metadata": {},
   "outputs": [],
   "source": [
    "lenta['title'] = lenta['title'].apply(clean)\n",
    "lenta['text'] = lenta['text'].apply(clean)"
   ]
  },
  {
   "cell_type": "code",
   "execution_count": 77,
   "metadata": {},
   "outputs": [
    {
     "data": {
      "text/html": [
       "<div>\n",
       "<style scoped>\n",
       "    .dataframe tbody tr th:only-of-type {\n",
       "        vertical-align: middle;\n",
       "    }\n",
       "\n",
       "    .dataframe tbody tr th {\n",
       "        vertical-align: top;\n",
       "    }\n",
       "\n",
       "    .dataframe thead th {\n",
       "        text-align: right;\n",
       "    }\n",
       "</style>\n",
       "<table border=\"1\" class=\"dataframe\">\n",
       "  <thead>\n",
       "    <tr style=\"text-align: right;\">\n",
       "      <th></th>\n",
       "      <th>title</th>\n",
       "      <th>text</th>\n",
       "      <th>topic</th>\n",
       "      <th>topic_label</th>\n",
       "    </tr>\n",
       "  </thead>\n",
       "  <tbody>\n",
       "    <tr>\n",
       "      <th>0</th>\n",
       "      <td>(инфляция, январь, год, составлять, процент)</td>\n",
       "      <td>(глава, росстата, владимир, соколин, заявил, я...</td>\n",
       "      <td>Экономика</td>\n",
       "      <td>0</td>\n",
       "    </tr>\n",
       "    <tr>\n",
       "      <th>1</th>\n",
       "      <td>(никита, михалков, учреждать, день, российский...</td>\n",
       "      <td>(российских, кинематографистов, появится, новы...</td>\n",
       "      <td>Культура</td>\n",
       "      <td>3</td>\n",
       "    </tr>\n",
       "    <tr>\n",
       "      <th>2</th>\n",
       "      <td>(марко, матерацци, вернуться, строй, матч, цска)</td>\n",
       "      <td>(медицинский, штаб, миланского, интера, обнаро...</td>\n",
       "      <td>Спорт</td>\n",
       "      <td>1</td>\n",
       "    </tr>\n",
       "    <tr>\n",
       "      <th>3</th>\n",
       "      <td>(определять, лауреат, премия, книга, год)</td>\n",
       "      <td>(премии, книга, года, номинациях, вручены, мос...</td>\n",
       "      <td>Культура</td>\n",
       "      <td>3</td>\n",
       "    </tr>\n",
       "    <tr>\n",
       "      <th>4</th>\n",
       "      <td>(гол, роналд, штрафной, спасать, португалец, п...</td>\n",
       "      <td>(сборная, португалии, сыграла, вничью, командо...</td>\n",
       "      <td>Спорт</td>\n",
       "      <td>1</td>\n",
       "    </tr>\n",
       "  </tbody>\n",
       "</table>\n",
       "</div>"
      ],
      "text/plain": [
       "                                               title  \\\n",
       "0       (инфляция, январь, год, составлять, процент)   \n",
       "1  (никита, михалков, учреждать, день, российский...   \n",
       "2   (марко, матерацци, вернуться, строй, матч, цска)   \n",
       "3          (определять, лауреат, премия, книга, год)   \n",
       "4  (гол, роналд, штрафной, спасать, португалец, п...   \n",
       "\n",
       "                                                text      topic  topic_label  \n",
       "0  (глава, росстата, владимир, соколин, заявил, я...  Экономика            0  \n",
       "1  (российских, кинематографистов, появится, новы...   Культура            3  \n",
       "2  (медицинский, штаб, миланского, интера, обнаро...      Спорт            1  \n",
       "3  (премии, книга, года, номинациях, вручены, мос...   Культура            3  \n",
       "4  (сборная, португалии, сыграла, вничью, командо...      Спорт            1  "
      ]
     },
     "execution_count": 77,
     "metadata": {},
     "output_type": "execute_result"
    }
   ],
   "source": [
    "lenta.head()"
   ]
  },
  {
   "cell_type": "code",
   "execution_count": 76,
   "metadata": {},
   "outputs": [],
   "source": [
    "lenta['title'] = lenta['title'].apply(tuple)\n",
    "lenta['text'] = lenta['text'].apply(tuple)"
   ]
  },
  {
   "cell_type": "code",
   "execution_count": 78,
   "metadata": {},
   "outputs": [],
   "source": [
    "lemmatizer = Mystem()"
   ]
  },
  {
   "cell_type": "code",
   "execution_count": 79,
   "metadata": {},
   "outputs": [],
   "source": [
    "@lru_cache(maxsize=128)\n",
    "def lemm(l):\n",
    "    new_l = [lemmatizer.lemmatize(word)[0] for word in l]\n",
    "    return new_l"
   ]
  },
  {
   "cell_type": "code",
   "execution_count": null,
   "metadata": {},
   "outputs": [],
   "source": [
    "lenta['title'] = lenta['title'].apply(lemm)\n",
    "lenta['text'] = lenta['text'].apply(lemm)"
   ]
  },
  {
   "cell_type": "code",
   "execution_count": null,
   "metadata": {},
   "outputs": [],
   "source": [
    "lenta.head()"
   ]
  },
  {
   "cell_type": "code",
   "execution_count": null,
   "metadata": {},
   "outputs": [],
   "source": [
    "def cat(l):\n",
    "    return \" \".join(l)"
   ]
  },
  {
   "cell_type": "code",
   "execution_count": null,
   "metadata": {},
   "outputs": [],
   "source": [
    "lenta['title'] = lenta.title.apply(cat)\n",
    "lenta['text'] = lenta.text.apply(cat)"
   ]
  },
  {
   "cell_type": "code",
   "execution_count": null,
   "metadata": {},
   "outputs": [],
   "source": [
    "lenta.to_csv('lenta_clean.csv')"
   ]
  },
  {
   "cell_type": "code",
   "execution_count": null,
   "metadata": {},
   "outputs": [],
   "source": [
    "import pickle"
   ]
  },
  {
   "cell_type": "code",
   "execution_count": null,
   "metadata": {},
   "outputs": [],
   "source": [
    "lemmfile = open('lemmpickle', 'ab')\n",
    "pickle.dump(lenta, lemmfile)\n",
    "lemmfile.close() "
   ]
  },
  {
   "cell_type": "code",
   "execution_count": null,
   "metadata": {},
   "outputs": [],
   "source": [
    "lemmfileloaded = open('lemmpickle', 'rb')      \n",
    "lenta_loaded = pickle.load(lemmfileloaded)"
   ]
  },
  {
   "cell_type": "code",
   "execution_count": null,
   "metadata": {},
   "outputs": [],
   "source": [
    "lenta_loaded.head()"
   ]
  },
  {
   "cell_type": "code",
   "execution_count": null,
   "metadata": {},
   "outputs": [],
   "source": []
  },
  {
   "cell_type": "code",
   "execution_count": 7,
   "metadata": {},
   "outputs": [],
   "source": [
    "lenta = pd.read_csv('lenta_clean.csv')"
   ]
  },
  {
   "cell_type": "code",
   "execution_count": null,
   "metadata": {},
   "outputs": [],
   "source": [
    "# ! pip install fastText/."
   ]
  },
  {
   "cell_type": "code",
   "execution_count": 21,
   "metadata": {},
   "outputs": [],
   "source": [
    "import pymorphy2\n",
    "from functools import lru_cache\n",
    "from multiprocessing import Pool\n",
    "import numpy as np\n",
    "from sklearn.model_selection import train_test_split\n",
    "from tqdm import tqdm_notebook as tqdm\n",
    "import re"
   ]
  },
  {
   "cell_type": "code",
   "execution_count": 37,
   "metadata": {},
   "outputs": [],
   "source": [
    "from fasttext import train_supervised"
   ]
  },
  {
   "cell_type": "code",
   "execution_count": 38,
   "metadata": {},
   "outputs": [],
   "source": [
    "import fasttext"
   ]
  },
  {
   "cell_type": "code",
   "execution_count": 24,
   "metadata": {},
   "outputs": [],
   "source": []
  },
  {
   "cell_type": "code",
   "execution_count": 23,
   "metadata": {},
   "outputs": [
    {
     "data": {
      "text/plain": [
       "['инфляция', 'январь', 'год', 'составлять', 'процент']"
      ]
     },
     "execution_count": 23,
     "metadata": {},
     "output_type": "execute_result"
    }
   ],
   "source": [
    "lenta.title[0]"
   ]
  },
  {
   "cell_type": "code",
   "execution_count": 25,
   "metadata": {},
   "outputs": [
    {
     "data": {
      "text/plain": [
       "0                    инфляция январь год составлять процент\n",
       "1            никита михалков учреждать день российский кино\n",
       "2                 марко матерацци вернуться строй матч цска\n",
       "3                       определять лауреат премия книга год\n",
       "4         гол роналд штрафной спасать португалец поражен...\n",
       "                                ...                        \n",
       "206632    бывший вицепрезидент обвинять миллионный кража...\n",
       "206633    минфин предлагать увеличивать штраф незаконный...\n",
       "206634    потребительский уверенность россиянин вернутьс...\n",
       "206635                    тарпищев давать американский виза\n",
       "206636    уефа пригрозить россия исключение число участн...\n",
       "Name: title, Length: 206636, dtype: object"
      ]
     },
     "execution_count": 25,
     "metadata": {},
     "output_type": "execute_result"
    }
   ],
   "source": [
    "lenta.title.apply(cat)"
   ]
  },
  {
   "cell_type": "code",
   "execution_count": 26,
   "metadata": {},
   "outputs": [
    {
     "name": "stdout",
     "output_type": "stream",
     "text": [
      "total train examples 138446\n",
      "total test examples 68190\n"
     ]
    }
   ],
   "source": [
    "X = lenta.title.apply(cat).tolist()\n",
    "y = lenta.topic.tolist()\n",
    "\n",
    "X, y = np.array(X), np.array(y)\n",
    "\n",
    "X_train, X_test, y_train, y_test = train_test_split(X,y, test_size=0.33)\n",
    "print (\"total train examples %s\" % len(y_train))\n",
    "print (\"total test examples %s\" % len(y_test))"
   ]
  },
  {
   "cell_type": "code",
   "execution_count": 27,
   "metadata": {},
   "outputs": [],
   "source": [
    "with open('data.train.txt', 'w+') as outfile:\n",
    "    for i in range(len(X_train)):\n",
    "        outfile.write('__label__' + y_train[i] + ' '+ X_train[i] + '\\n')\n",
    "    \n",
    "\n",
    "with open('test.txt', 'w+') as outfile:\n",
    "    for i in range(len(X_test)):\n",
    "        outfile.write('__label__' + y_test[i] + ' ' + X_test[i] + '\\n')"
   ]
  },
  {
   "cell_type": "code",
   "execution_count": 39,
   "metadata": {},
   "outputs": [
    {
     "name": "stdout",
     "output_type": "stream",
     "text": [
      "P@1: 0.9514884880481009\n",
      "R@1: 0.9514884880481009\n",
      "Number of examples: 68190\n"
     ]
    }
   ],
   "source": [
    "classifier = fasttext.train_supervised('data.train.txt')\n",
    "result = classifier.test('test.txt')\n",
    "\n",
    "print('P@1:', result[1])s\n",
    "print('R@1:', result[2])\n",
    "print('Number of examples:', result[0])"
   ]
  },
  {
   "cell_type": "code",
   "execution_count": null,
   "metadata": {},
   "outputs": [],
   "source": []
  },
  {
   "cell_type": "code",
   "execution_count": null,
   "metadata": {},
   "outputs": [],
   "source": []
  },
  {
   "cell_type": "code",
   "execution_count": null,
   "metadata": {},
   "outputs": [],
   "source": []
  },
  {
   "cell_type": "code",
   "execution_count": null,
   "metadata": {},
   "outputs": [],
   "source": []
  },
  {
   "cell_type": "code",
   "execution_count": null,
   "metadata": {},
   "outputs": [],
   "source": []
  },
  {
   "cell_type": "code",
   "execution_count": null,
   "metadata": {},
   "outputs": [],
   "source": []
  },
  {
   "cell_type": "code",
   "execution_count": null,
   "metadata": {},
   "outputs": [],
   "source": []
  },
  {
   "cell_type": "code",
   "execution_count": 7,
   "metadata": {
    "colab": {
     "base_uri": "https://localhost:8080/",
     "height": 204
    },
    "colab_type": "code",
    "id": "P2VNn0grldmS",
    "outputId": "badba887-aec3-4b89-b36d-23aff7363563"
   },
   "outputs": [
    {
     "data": {
      "text/html": [
       "<div>\n",
       "<style scoped>\n",
       "    .dataframe tbody tr th:only-of-type {\n",
       "        vertical-align: middle;\n",
       "    }\n",
       "\n",
       "    .dataframe tbody tr th {\n",
       "        vertical-align: top;\n",
       "    }\n",
       "\n",
       "    .dataframe thead th {\n",
       "        text-align: right;\n",
       "    }\n",
       "</style>\n",
       "<table border=\"1\" class=\"dataframe\">\n",
       "  <thead>\n",
       "    <tr style=\"text-align: right;\">\n",
       "      <th></th>\n",
       "      <th>title</th>\n",
       "      <th>text</th>\n",
       "      <th>label</th>\n",
       "    </tr>\n",
       "  </thead>\n",
       "  <tbody>\n",
       "    <tr>\n",
       "      <th>0</th>\n",
       "      <td>Сборная России выиграла чемпионат мира по футб...</td>\n",
       "      <td>В южноафриканском Кейптауне победой сборной Ро...</td>\n",
       "      <td>Экономика</td>\n",
       "    </tr>\n",
       "    <tr>\n",
       "      <th>1</th>\n",
       "      <td>Анна Курникова снова проиграла в первом раунде</td>\n",
       "      <td>Анна Курникова, проиграв испанке Кончите Марти...</td>\n",
       "      <td>Спорт</td>\n",
       "    </tr>\n",
       "    <tr>\n",
       "      <th>2</th>\n",
       "      <td>Новым главным тренером \"Спартака\" стал Станисл...</td>\n",
       "      <td>Новым главным тренером московского футбольного...</td>\n",
       "      <td>Спорт</td>\n",
       "    </tr>\n",
       "    <tr>\n",
       "      <th>3</th>\n",
       "      <td>Майкл Дуглас совершил неожиданный визит на Кубу</td>\n",
       "      <td>Известный голливудский актер Майкл Дуглас сове...</td>\n",
       "      <td>Экономика</td>\n",
       "    </tr>\n",
       "    <tr>\n",
       "      <th>4</th>\n",
       "      <td>Кадыров снялся в короткометражке «Волшебный гр...</td>\n",
       "      <td>Глава Чеченской Республики Рамзан Кадыров снял...</td>\n",
       "      <td>Культура</td>\n",
       "    </tr>\n",
       "  </tbody>\n",
       "</table>\n",
       "</div>"
      ],
      "text/plain": [
       "                                               title  \\\n",
       "0  Сборная России выиграла чемпионат мира по футб...   \n",
       "1     Анна Курникова снова проиграла в первом раунде   \n",
       "2  Новым главным тренером \"Спартака\" стал Станисл...   \n",
       "3    Майкл Дуглас совершил неожиданный визит на Кубу   \n",
       "4  Кадыров снялся в короткометражке «Волшебный гр...   \n",
       "\n",
       "                                                text      label  \n",
       "0  В южноафриканском Кейптауне победой сборной Ро...  Экономика  \n",
       "1  Анна Курникова, проиграв испанке Кончите Марти...      Спорт  \n",
       "2  Новым главным тренером московского футбольного...      Спорт  \n",
       "3  Известный голливудский актер Майкл Дуглас сове...  Экономика  \n",
       "4  Глава Чеченской Республики Рамзан Кадыров снял...   Культура  "
      ]
     },
     "execution_count": 7,
     "metadata": {},
     "output_type": "execute_result"
    }
   ],
   "source": [
    "test_data['label'] = [topics[randint(0,4)] for i in range(len(test_data)) ]\n",
    "test_data.head()"
   ]
  },
  {
   "cell_type": "code",
   "execution_count": 8,
   "metadata": {
    "colab": {
     "base_uri": "https://localhost:8080/",
     "height": 71
    },
    "colab_type": "code",
    "id": "b9d3CZdulsIS",
    "outputId": "e7e3a590-5f75-4963-b830-ebeeed69946b"
   },
   "outputs": [],
   "source": [
    "test_data['label'].to_csv('submission.csv', header = None)"
   ]
  },
  {
   "cell_type": "code",
   "execution_count": null,
   "metadata": {},
   "outputs": [],
   "source": []
  }
 ],
 "metadata": {
  "colab": {
   "name": "NLP_Kaggle.ipynb",
   "provenance": []
  },
  "kernelspec": {
   "display_name": "Python 3",
   "language": "python",
   "name": "python3"
  },
  "language_info": {
   "codemirror_mode": {
    "name": "ipython",
    "version": 3
   },
   "file_extension": ".py",
   "mimetype": "text/x-python",
   "name": "python",
   "nbconvert_exporter": "python",
   "pygments_lexer": "ipython3",
   "version": "3.7.3"
  }
 },
 "nbformat": 4,
 "nbformat_minor": 1
}
