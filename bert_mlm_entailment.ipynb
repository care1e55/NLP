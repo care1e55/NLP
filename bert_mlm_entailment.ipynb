{
 "cells": [
  {
   "cell_type": "markdown",
   "id": "8fc80ce0",
   "metadata": {},
   "source": [
    "## HW3"
   ]
  },
  {
   "cell_type": "code",
   "execution_count": 1,
   "id": "9981b7af",
   "metadata": {},
   "outputs": [],
   "source": [
    "%load_ext autoreload\n",
    "%autoreload 2"
   ]
  },
  {
   "cell_type": "code",
   "execution_count": 2,
   "id": "65d44c75",
   "metadata": {},
   "outputs": [],
   "source": [
    "import jsonlines\n",
    "from typing import Dict, List\n",
    "from pprint import pprint\n",
    "from tqdm import tqdm\n",
    "import torch\n",
    "import os\n",
    "import numpy as np\n",
    "import pandas as pd\n",
    "from torch import Tensor\n",
    "from collections import defaultdict\n",
    "import transformers\n",
    "from torch.utils.data import DataLoader, Dataset\n",
    "import torch.nn as nn\n",
    "from transformers import BertTokenizer, BertModel, BertForSequenceClassification\n",
    "import matplotlib.pyplot as plt\n",
    "from torch.utils.data import DataLoader, RandomSampler\n",
    "from torch.optim.lr_scheduler import StepLR\n",
    "from sklearn.metrics import fbeta_score\n",
    "from collections import namedtuple"
   ]
  },
  {
   "cell_type": "code",
   "execution_count": 3,
   "id": "644a1b93",
   "metadata": {},
   "outputs": [],
   "source": [
    "# Опеределяем device на котором будет производиться обуение\n",
    "os.environ[\"CUDA_VISIBLE_DEVICES\"] = \"1\"\n",
    "device = torch.device('cuda')"
   ]
  },
  {
   "cell_type": "code",
   "execution_count": 4,
   "id": "740e6a89",
   "metadata": {},
   "outputs": [],
   "source": [
    "# Оперделяем torch.Dataset для получения токенизированых данных \n",
    "# с масками для классификации в формате который ожидает transfromers BertModel\n",
    "BertDatasetResult = namedtuple(\n",
    "    'BertDatasetResult',\n",
    "    [\n",
    "        'text',\n",
    "        'label'\n",
    "    ]\n",
    ")\n",
    "\n",
    "\n",
    "class BertDataset(Dataset):\n",
    "    def __init__(\n",
    "            self,\n",
    "            data: List[Dict[str, str]],\n",
    "            pretrained_name: str = \"DeepPavlov/rubert-base-cased-sentence\",\n",
    "            tensor_labels=False,\n",
    "            label_flag=True\n",
    "    ):\n",
    "        self.label_flag = label_flag\n",
    "        self.tokenizer = BertTokenizer.from_pretrained(pretrained_name)\n",
    "        self.original_data = data\n",
    "        self.data = list(map(self.prepare_row, data))\n",
    "        self.device = 'cuda'\n",
    "        self.tensor_labels = tensor_labels\n",
    "\n",
    "    def prepare_row(self, row):\n",
    "        return {\n",
    "            'text': self.tokenizer.encode_plus(\n",
    "                # row['premise'] + self.tokenizer.sep_token + row['hypothesis'],\n",
    "                row['premise'], row['hypothesis'],\n",
    "                padding='max_length',\n",
    "                truncation=True,\n",
    "                max_length=256\n",
    "            ),\n",
    "            'label': row['label'] if self.label_flag else 0,\n",
    "        }\n",
    "\n",
    "    def __getitem__(self, idx):\n",
    "        current = self.data[idx]\n",
    "        return BertDatasetResult(\n",
    "            text={\n",
    "                'input_ids': torch.LongTensor(current['text']['input_ids']).to(self.device),\n",
    "                'attention_mask': torch.LongTensor(current['text']['attention_mask']).to(self.device),\n",
    "                'token_type_ids': torch.LongTensor(current['text']['token_type_ids']).to(self.device)\n",
    "            },\n",
    "            label=torch.LongTensor(\n",
    "                [current['label']]\n",
    "            ).squeeze(0).to(self.device) if self.tensor_labels else current['label']\n",
    "        )\n",
    "\n",
    "    def __len__(self):\n",
    "        return len(self.data)\n"
   ]
  },
  {
   "cell_type": "code",
   "execution_count": 5,
   "id": "dbeedc9e",
   "metadata": {},
   "outputs": [],
   "source": [
    "# Вспомагительыне функции\n",
    "def read_data(data_path: str) -> List[Dict[str, str]]:\n",
    "    with jsonlines.open(data_path) as reader:\n",
    "        return [line for line in reader]\n",
    "\n",
    "\n",
    "def get_embeddings(model: BertModel, dataloader):\n",
    "    labels = []\n",
    "    for i, batch in tqdm(enumerate(dataloader), total=len(dataloader)):\n",
    "        embedded_batch = model(**batch.text).pooler_output.cpu().detach().numpy()\n",
    "        if i == 0:\n",
    "            embedded = embedded_batch.copy()\n",
    "        else:\n",
    "            embedded = np.vstack((embedded, embedded_batch))\n",
    "        labels += batch.label\n",
    "    return embedded, labels\n",
    "\n",
    "\n",
    "def get_predictions(model: BertModel, dataloader):\n",
    "    for batch in dataloader:\n",
    "        pass"
   ]
  },
  {
   "cell_type": "markdown",
   "id": "242cf703",
   "metadata": {},
   "source": [
    "**Part 0. [1 point] Get embeddings**\n",
    "\n",
    "Take any BERT model (for example any from DeepPavlov Ruberts) and get BERT embeddings from the train dataset (or train + dev)."
   ]
  },
  {
   "cell_type": "code",
   "execution_count": 6,
   "id": "f3a5906e",
   "metadata": {},
   "outputs": [
    {
     "name": "stdout",
     "output_type": "stream",
     "text": [
      "total 4464\n",
      "drwxr-xr-x 3 s.filimonov s.filimonov    4096 Apr 15 16:23 .\n",
      "drwxrwxr-x 8 s.filimonov s.filimonov    4096 Apr 25 19:38 ..\n",
      "drwxrwxr-x 2 s.filimonov s.filimonov    4096 Apr 15 16:23 .ipynb_checkpoints\n",
      "-rw-r--r-- 1 s.filimonov s.filimonov  980211 Apr 14 20:29 mipt-nlp-hw3-2021.zip\n",
      "-rw-r--r-- 1 s.filimonov s.filimonov 1810454 Apr 14 20:29 test.jsonl\n",
      "-rw-r--r-- 1 s.filimonov s.filimonov 1553715 Apr 14 20:29 train.jsonl\n",
      "-rw-r--r-- 1 s.filimonov s.filimonov  178095 Apr 14 20:29 val.jsonl\n"
     ]
    }
   ],
   "source": [
    "!ls -la data"
   ]
  },
  {
   "cell_type": "code",
   "execution_count": 7,
   "id": "39c16dff",
   "metadata": {},
   "outputs": [],
   "source": [
    "train_data = read_data('data/train.jsonl')\n",
    "valid_data = read_data('data/val.jsonl')\n",
    "test_data = read_data('data/test.jsonl')"
   ]
  },
  {
   "cell_type": "code",
   "execution_count": 8,
   "id": "90726d31",
   "metadata": {},
   "outputs": [],
   "source": [
    "train_dataset = BertDataset(train_data)\n",
    "valid_dataset = BertDataset(valid_data)\n",
    "train_loader = DataLoader(train_dataset, batch_size = 4, shuffle = False)\n",
    "valid_loader = DataLoader(valid_dataset, batch_size = 4, shuffle = False)"
   ]
  },
  {
   "cell_type": "code",
   "execution_count": 9,
   "id": "ab192822",
   "metadata": {},
   "outputs": [
    {
     "data": {
      "text/plain": [
       "{'premise': '\"\"\"Решение носит символический характер, так как взыскать компенсацию практически невозможно\"\", - отмечается в сообщении.\"',\n",
       " 'hypothesis': 'Взыскать компенсацию не получится.',\n",
       " 'label': 'entailment',\n",
       " 'idx': 0}"
      ]
     },
     "execution_count": 9,
     "metadata": {},
     "output_type": "execute_result"
    }
   ],
   "source": [
    "valid_data[0]"
   ]
  },
  {
   "cell_type": "code",
   "execution_count": 10,
   "id": "3ec6e251",
   "metadata": {},
   "outputs": [
    {
     "data": {
      "text/plain": [
       "BertModel(\n",
       "  (embeddings): BertEmbeddings(\n",
       "    (word_embeddings): Embedding(119547, 768, padding_idx=0)\n",
       "    (position_embeddings): Embedding(512, 768)\n",
       "    (token_type_embeddings): Embedding(2, 768)\n",
       "    (LayerNorm): LayerNorm((768,), eps=1e-12, elementwise_affine=True)\n",
       "    (dropout): Dropout(p=0.1, inplace=False)\n",
       "  )\n",
       "  (encoder): BertEncoder(\n",
       "    (layer): ModuleList(\n",
       "      (0): BertLayer(\n",
       "        (attention): BertAttention(\n",
       "          (self): BertSelfAttention(\n",
       "            (query): Linear(in_features=768, out_features=768, bias=True)\n",
       "            (key): Linear(in_features=768, out_features=768, bias=True)\n",
       "            (value): Linear(in_features=768, out_features=768, bias=True)\n",
       "            (dropout): Dropout(p=0.1, inplace=False)\n",
       "          )\n",
       "          (output): BertSelfOutput(\n",
       "            (dense): Linear(in_features=768, out_features=768, bias=True)\n",
       "            (LayerNorm): LayerNorm((768,), eps=1e-12, elementwise_affine=True)\n",
       "            (dropout): Dropout(p=0.1, inplace=False)\n",
       "          )\n",
       "        )\n",
       "        (intermediate): BertIntermediate(\n",
       "          (dense): Linear(in_features=768, out_features=3072, bias=True)\n",
       "        )\n",
       "        (output): BertOutput(\n",
       "          (dense): Linear(in_features=3072, out_features=768, bias=True)\n",
       "          (LayerNorm): LayerNorm((768,), eps=1e-12, elementwise_affine=True)\n",
       "          (dropout): Dropout(p=0.1, inplace=False)\n",
       "        )\n",
       "      )\n",
       "      (1): BertLayer(\n",
       "        (attention): BertAttention(\n",
       "          (self): BertSelfAttention(\n",
       "            (query): Linear(in_features=768, out_features=768, bias=True)\n",
       "            (key): Linear(in_features=768, out_features=768, bias=True)\n",
       "            (value): Linear(in_features=768, out_features=768, bias=True)\n",
       "            (dropout): Dropout(p=0.1, inplace=False)\n",
       "          )\n",
       "          (output): BertSelfOutput(\n",
       "            (dense): Linear(in_features=768, out_features=768, bias=True)\n",
       "            (LayerNorm): LayerNorm((768,), eps=1e-12, elementwise_affine=True)\n",
       "            (dropout): Dropout(p=0.1, inplace=False)\n",
       "          )\n",
       "        )\n",
       "        (intermediate): BertIntermediate(\n",
       "          (dense): Linear(in_features=768, out_features=3072, bias=True)\n",
       "        )\n",
       "        (output): BertOutput(\n",
       "          (dense): Linear(in_features=3072, out_features=768, bias=True)\n",
       "          (LayerNorm): LayerNorm((768,), eps=1e-12, elementwise_affine=True)\n",
       "          (dropout): Dropout(p=0.1, inplace=False)\n",
       "        )\n",
       "      )\n",
       "      (2): BertLayer(\n",
       "        (attention): BertAttention(\n",
       "          (self): BertSelfAttention(\n",
       "            (query): Linear(in_features=768, out_features=768, bias=True)\n",
       "            (key): Linear(in_features=768, out_features=768, bias=True)\n",
       "            (value): Linear(in_features=768, out_features=768, bias=True)\n",
       "            (dropout): Dropout(p=0.1, inplace=False)\n",
       "          )\n",
       "          (output): BertSelfOutput(\n",
       "            (dense): Linear(in_features=768, out_features=768, bias=True)\n",
       "            (LayerNorm): LayerNorm((768,), eps=1e-12, elementwise_affine=True)\n",
       "            (dropout): Dropout(p=0.1, inplace=False)\n",
       "          )\n",
       "        )\n",
       "        (intermediate): BertIntermediate(\n",
       "          (dense): Linear(in_features=768, out_features=3072, bias=True)\n",
       "        )\n",
       "        (output): BertOutput(\n",
       "          (dense): Linear(in_features=3072, out_features=768, bias=True)\n",
       "          (LayerNorm): LayerNorm((768,), eps=1e-12, elementwise_affine=True)\n",
       "          (dropout): Dropout(p=0.1, inplace=False)\n",
       "        )\n",
       "      )\n",
       "      (3): BertLayer(\n",
       "        (attention): BertAttention(\n",
       "          (self): BertSelfAttention(\n",
       "            (query): Linear(in_features=768, out_features=768, bias=True)\n",
       "            (key): Linear(in_features=768, out_features=768, bias=True)\n",
       "            (value): Linear(in_features=768, out_features=768, bias=True)\n",
       "            (dropout): Dropout(p=0.1, inplace=False)\n",
       "          )\n",
       "          (output): BertSelfOutput(\n",
       "            (dense): Linear(in_features=768, out_features=768, bias=True)\n",
       "            (LayerNorm): LayerNorm((768,), eps=1e-12, elementwise_affine=True)\n",
       "            (dropout): Dropout(p=0.1, inplace=False)\n",
       "          )\n",
       "        )\n",
       "        (intermediate): BertIntermediate(\n",
       "          (dense): Linear(in_features=768, out_features=3072, bias=True)\n",
       "        )\n",
       "        (output): BertOutput(\n",
       "          (dense): Linear(in_features=3072, out_features=768, bias=True)\n",
       "          (LayerNorm): LayerNorm((768,), eps=1e-12, elementwise_affine=True)\n",
       "          (dropout): Dropout(p=0.1, inplace=False)\n",
       "        )\n",
       "      )\n",
       "      (4): BertLayer(\n",
       "        (attention): BertAttention(\n",
       "          (self): BertSelfAttention(\n",
       "            (query): Linear(in_features=768, out_features=768, bias=True)\n",
       "            (key): Linear(in_features=768, out_features=768, bias=True)\n",
       "            (value): Linear(in_features=768, out_features=768, bias=True)\n",
       "            (dropout): Dropout(p=0.1, inplace=False)\n",
       "          )\n",
       "          (output): BertSelfOutput(\n",
       "            (dense): Linear(in_features=768, out_features=768, bias=True)\n",
       "            (LayerNorm): LayerNorm((768,), eps=1e-12, elementwise_affine=True)\n",
       "            (dropout): Dropout(p=0.1, inplace=False)\n",
       "          )\n",
       "        )\n",
       "        (intermediate): BertIntermediate(\n",
       "          (dense): Linear(in_features=768, out_features=3072, bias=True)\n",
       "        )\n",
       "        (output): BertOutput(\n",
       "          (dense): Linear(in_features=3072, out_features=768, bias=True)\n",
       "          (LayerNorm): LayerNorm((768,), eps=1e-12, elementwise_affine=True)\n",
       "          (dropout): Dropout(p=0.1, inplace=False)\n",
       "        )\n",
       "      )\n",
       "      (5): BertLayer(\n",
       "        (attention): BertAttention(\n",
       "          (self): BertSelfAttention(\n",
       "            (query): Linear(in_features=768, out_features=768, bias=True)\n",
       "            (key): Linear(in_features=768, out_features=768, bias=True)\n",
       "            (value): Linear(in_features=768, out_features=768, bias=True)\n",
       "            (dropout): Dropout(p=0.1, inplace=False)\n",
       "          )\n",
       "          (output): BertSelfOutput(\n",
       "            (dense): Linear(in_features=768, out_features=768, bias=True)\n",
       "            (LayerNorm): LayerNorm((768,), eps=1e-12, elementwise_affine=True)\n",
       "            (dropout): Dropout(p=0.1, inplace=False)\n",
       "          )\n",
       "        )\n",
       "        (intermediate): BertIntermediate(\n",
       "          (dense): Linear(in_features=768, out_features=3072, bias=True)\n",
       "        )\n",
       "        (output): BertOutput(\n",
       "          (dense): Linear(in_features=3072, out_features=768, bias=True)\n",
       "          (LayerNorm): LayerNorm((768,), eps=1e-12, elementwise_affine=True)\n",
       "          (dropout): Dropout(p=0.1, inplace=False)\n",
       "        )\n",
       "      )\n",
       "      (6): BertLayer(\n",
       "        (attention): BertAttention(\n",
       "          (self): BertSelfAttention(\n",
       "            (query): Linear(in_features=768, out_features=768, bias=True)\n",
       "            (key): Linear(in_features=768, out_features=768, bias=True)\n",
       "            (value): Linear(in_features=768, out_features=768, bias=True)\n",
       "            (dropout): Dropout(p=0.1, inplace=False)\n",
       "          )\n",
       "          (output): BertSelfOutput(\n",
       "            (dense): Linear(in_features=768, out_features=768, bias=True)\n",
       "            (LayerNorm): LayerNorm((768,), eps=1e-12, elementwise_affine=True)\n",
       "            (dropout): Dropout(p=0.1, inplace=False)\n",
       "          )\n",
       "        )\n",
       "        (intermediate): BertIntermediate(\n",
       "          (dense): Linear(in_features=768, out_features=3072, bias=True)\n",
       "        )\n",
       "        (output): BertOutput(\n",
       "          (dense): Linear(in_features=3072, out_features=768, bias=True)\n",
       "          (LayerNorm): LayerNorm((768,), eps=1e-12, elementwise_affine=True)\n",
       "          (dropout): Dropout(p=0.1, inplace=False)\n",
       "        )\n",
       "      )\n",
       "      (7): BertLayer(\n",
       "        (attention): BertAttention(\n",
       "          (self): BertSelfAttention(\n",
       "            (query): Linear(in_features=768, out_features=768, bias=True)\n",
       "            (key): Linear(in_features=768, out_features=768, bias=True)\n",
       "            (value): Linear(in_features=768, out_features=768, bias=True)\n",
       "            (dropout): Dropout(p=0.1, inplace=False)\n",
       "          )\n",
       "          (output): BertSelfOutput(\n",
       "            (dense): Linear(in_features=768, out_features=768, bias=True)\n",
       "            (LayerNorm): LayerNorm((768,), eps=1e-12, elementwise_affine=True)\n",
       "            (dropout): Dropout(p=0.1, inplace=False)\n",
       "          )\n",
       "        )\n",
       "        (intermediate): BertIntermediate(\n",
       "          (dense): Linear(in_features=768, out_features=3072, bias=True)\n",
       "        )\n",
       "        (output): BertOutput(\n",
       "          (dense): Linear(in_features=3072, out_features=768, bias=True)\n",
       "          (LayerNorm): LayerNorm((768,), eps=1e-12, elementwise_affine=True)\n",
       "          (dropout): Dropout(p=0.1, inplace=False)\n",
       "        )\n",
       "      )\n",
       "      (8): BertLayer(\n",
       "        (attention): BertAttention(\n",
       "          (self): BertSelfAttention(\n",
       "            (query): Linear(in_features=768, out_features=768, bias=True)\n",
       "            (key): Linear(in_features=768, out_features=768, bias=True)\n",
       "            (value): Linear(in_features=768, out_features=768, bias=True)\n",
       "            (dropout): Dropout(p=0.1, inplace=False)\n",
       "          )\n",
       "          (output): BertSelfOutput(\n",
       "            (dense): Linear(in_features=768, out_features=768, bias=True)\n",
       "            (LayerNorm): LayerNorm((768,), eps=1e-12, elementwise_affine=True)\n",
       "            (dropout): Dropout(p=0.1, inplace=False)\n",
       "          )\n",
       "        )\n",
       "        (intermediate): BertIntermediate(\n",
       "          (dense): Linear(in_features=768, out_features=3072, bias=True)\n",
       "        )\n",
       "        (output): BertOutput(\n",
       "          (dense): Linear(in_features=3072, out_features=768, bias=True)\n",
       "          (LayerNorm): LayerNorm((768,), eps=1e-12, elementwise_affine=True)\n",
       "          (dropout): Dropout(p=0.1, inplace=False)\n",
       "        )\n",
       "      )\n",
       "      (9): BertLayer(\n",
       "        (attention): BertAttention(\n",
       "          (self): BertSelfAttention(\n",
       "            (query): Linear(in_features=768, out_features=768, bias=True)\n",
       "            (key): Linear(in_features=768, out_features=768, bias=True)\n",
       "            (value): Linear(in_features=768, out_features=768, bias=True)\n",
       "            (dropout): Dropout(p=0.1, inplace=False)\n",
       "          )\n",
       "          (output): BertSelfOutput(\n",
       "            (dense): Linear(in_features=768, out_features=768, bias=True)\n",
       "            (LayerNorm): LayerNorm((768,), eps=1e-12, elementwise_affine=True)\n",
       "            (dropout): Dropout(p=0.1, inplace=False)\n",
       "          )\n",
       "        )\n",
       "        (intermediate): BertIntermediate(\n",
       "          (dense): Linear(in_features=768, out_features=3072, bias=True)\n",
       "        )\n",
       "        (output): BertOutput(\n",
       "          (dense): Linear(in_features=3072, out_features=768, bias=True)\n",
       "          (LayerNorm): LayerNorm((768,), eps=1e-12, elementwise_affine=True)\n",
       "          (dropout): Dropout(p=0.1, inplace=False)\n",
       "        )\n",
       "      )\n",
       "      (10): BertLayer(\n",
       "        (attention): BertAttention(\n",
       "          (self): BertSelfAttention(\n",
       "            (query): Linear(in_features=768, out_features=768, bias=True)\n",
       "            (key): Linear(in_features=768, out_features=768, bias=True)\n",
       "            (value): Linear(in_features=768, out_features=768, bias=True)\n",
       "            (dropout): Dropout(p=0.1, inplace=False)\n",
       "          )\n",
       "          (output): BertSelfOutput(\n",
       "            (dense): Linear(in_features=768, out_features=768, bias=True)\n",
       "            (LayerNorm): LayerNorm((768,), eps=1e-12, elementwise_affine=True)\n",
       "            (dropout): Dropout(p=0.1, inplace=False)\n",
       "          )\n",
       "        )\n",
       "        (intermediate): BertIntermediate(\n",
       "          (dense): Linear(in_features=768, out_features=3072, bias=True)\n",
       "        )\n",
       "        (output): BertOutput(\n",
       "          (dense): Linear(in_features=3072, out_features=768, bias=True)\n",
       "          (LayerNorm): LayerNorm((768,), eps=1e-12, elementwise_affine=True)\n",
       "          (dropout): Dropout(p=0.1, inplace=False)\n",
       "        )\n",
       "      )\n",
       "      (11): BertLayer(\n",
       "        (attention): BertAttention(\n",
       "          (self): BertSelfAttention(\n",
       "            (query): Linear(in_features=768, out_features=768, bias=True)\n",
       "            (key): Linear(in_features=768, out_features=768, bias=True)\n",
       "            (value): Linear(in_features=768, out_features=768, bias=True)\n",
       "            (dropout): Dropout(p=0.1, inplace=False)\n",
       "          )\n",
       "          (output): BertSelfOutput(\n",
       "            (dense): Linear(in_features=768, out_features=768, bias=True)\n",
       "            (LayerNorm): LayerNorm((768,), eps=1e-12, elementwise_affine=True)\n",
       "            (dropout): Dropout(p=0.1, inplace=False)\n",
       "          )\n",
       "        )\n",
       "        (intermediate): BertIntermediate(\n",
       "          (dense): Linear(in_features=768, out_features=3072, bias=True)\n",
       "        )\n",
       "        (output): BertOutput(\n",
       "          (dense): Linear(in_features=3072, out_features=768, bias=True)\n",
       "          (LayerNorm): LayerNorm((768,), eps=1e-12, elementwise_affine=True)\n",
       "          (dropout): Dropout(p=0.1, inplace=False)\n",
       "        )\n",
       "      )\n",
       "    )\n",
       "  )\n",
       "  (pooler): BertPooler(\n",
       "    (dense): Linear(in_features=768, out_features=768, bias=True)\n",
       "    (activation): Tanh()\n",
       "  )\n",
       ")"
      ]
     },
     "execution_count": 10,
     "metadata": {},
     "output_type": "execute_result"
    }
   ],
   "source": [
    "# Опеределим предобученный ruBERT и даталоадер\n",
    "pretrained_name = \"DeepPavlov/rubert-base-cased-sentence\"\n",
    "model = BertModel.from_pretrained(pretrained_name)\n",
    "model.to(device)"
   ]
  },
  {
   "cell_type": "code",
   "execution_count": 19,
   "id": "842473cb",
   "metadata": {},
   "outputs": [
    {
     "name": "stderr",
     "output_type": "stream",
     "text": [
      "100%|██████████| 654/654 [01:42<00:00,  6.38it/s]\n"
     ]
    }
   ],
   "source": [
    "# Получим эмбединги\n",
    "embedded, labels = get_embeddings(model, train_loader)"
   ]
  },
  {
   "cell_type": "code",
   "execution_count": null,
   "id": "2f0d46cd",
   "metadata": {},
   "outputs": [],
   "source": []
  },
  {
   "cell_type": "code",
   "execution_count": null,
   "id": "092ec829",
   "metadata": {},
   "outputs": [],
   "source": []
  },
  {
   "cell_type": "markdown",
   "id": "14e878e2",
   "metadata": {},
   "source": [
    "**Part 1. [2 point] Explore your data**\n",
    "Make a 2D reduction and draw plot for train labels.\n",
    "Analyze your results."
   ]
  },
  {
   "cell_type": "code",
   "execution_count": 21,
   "id": "5815a958",
   "metadata": {},
   "outputs": [],
   "source": [
    "from tsnecuda import TSNE\n",
    "import faiss\n",
    "from sklearn.preprocessing import StandardScaler"
   ]
  },
  {
   "cell_type": "code",
   "execution_count": null,
   "id": "e7afb014",
   "metadata": {},
   "outputs": [],
   "source": [
    "lables_for_visualization = []\n",
    "for row in labels:\n",
    "    if row == 'entailment':\n",
    "        lables_for_visualization.append(1)\n",
    "    else:\n",
    "        lables_for_visualization.append(0)"
   ]
  },
  {
   "cell_type": "code",
   "execution_count": 22,
   "id": "8454127b",
   "metadata": {},
   "outputs": [],
   "source": [
    "tsne = TSNE(n_components=2, verbose=5)\n",
    "word_vectors_tsne = tsne.fit_transform(np.array(embedded))"
   ]
  },
  {
   "cell_type": "code",
   "execution_count": 23,
   "id": "621d8b81",
   "metadata": {},
   "outputs": [],
   "source": [
    "ss = StandardScaler().fit(word_vectors_tsne)\n",
    "word_vectors_tsne = ss.transform(word_vectors_tsne)"
   ]
  },
  {
   "cell_type": "code",
   "execution_count": 24,
   "id": "7d796f3a",
   "metadata": {},
   "outputs": [
    {
     "data": {
      "image/png": "[encoded data removed]",
      "text/plain": [
       "<Figure size 432x288 with 1 Axes>"
      ]
     },
     "metadata": {
      "needs_background": "light"
     },
     "output_type": "display_data"
    }
   ],
   "source": [
    "plt.scatter(word_vectors_tsne[:, 0], word_vectors_tsne[:, 1], c = lables_for_visualization)\n",
    "plt.show()"
   ]
  },
  {
   "cell_type": "code",
   "execution_count": 25,
   "id": "c99982d2",
   "metadata": {},
   "outputs": [],
   "source": [
    "# Как видно, по получившимся эмбеддингам \n",
    "# невоозможно отделить кластеры по лейблам"
   ]
  },
  {
   "cell_type": "code",
   "execution_count": null,
   "id": "84d4e705",
   "metadata": {},
   "outputs": [],
   "source": []
  },
  {
   "cell_type": "code",
   "execution_count": null,
   "id": "a2334d64",
   "metadata": {},
   "outputs": [],
   "source": []
  },
  {
   "cell_type": "markdown",
   "id": "41ea8301",
   "metadata": {},
   "source": [
    "**Part 2. [3 points] Make first classifier**\n",
    "Use pretrained embeddings as features to classifier. You can use for example SVM or LinearRegression.\n",
    "Make crossvalidation and describe your results."
   ]
  },
  {
   "cell_type": "code",
   "execution_count": 28,
   "id": "fb8222d8",
   "metadata": {},
   "outputs": [],
   "source": [
    "# Для получения предсказаний возьмем BertForSequenceClassification из transformers\n",
    "# c линейным бинарным классификатором после слоя пулинга"
   ]
  },
  {
   "cell_type": "code",
   "execution_count": 40,
   "id": "162246ae",
   "metadata": {},
   "outputs": [
    {
     "name": "stderr",
     "output_type": "stream",
     "text": [
      "Some weights of BertForSequenceClassification were not initialized from the model checkpoint at DeepPavlov/rubert-base-cased-sentence and are newly initialized: ['classifier.weight', 'classifier.bias']\n",
      "You should probably TRAIN this model on a down-stream task to be able to use it for predictions and inference.\n"
     ]
    },
    {
     "name": "stdout",
     "output_type": "stream",
     "text": [
      "Ok\n"
     ]
    }
   ],
   "source": [
    "model = BertForSequenceClassification.from_pretrained(pretrained_name)\n",
    "model.to(device)\n",
    "print('Ok')"
   ]
  },
  {
   "cell_type": "code",
   "execution_count": 9,
   "id": "6ff254b8",
   "metadata": {},
   "outputs": [],
   "source": [
    "# Перевод текстовых лейблов к целочисленным\n",
    "for row in train_data:\n",
    "    if row['label'] == 'entailment':\n",
    "        row['label'] = 1\n",
    "    else:\n",
    "        row['label'] = 0\n",
    "for row in valid_data:\n",
    "    if row['label'] == 'entailment':\n",
    "        row['label'] = 1\n",
    "    else:\n",
    "        row['label'] = 0"
   ]
  },
  {
   "cell_type": "code",
   "execution_count": 57,
   "id": "7aaeaa7c",
   "metadata": {},
   "outputs": [
    {
     "name": "stderr",
     "output_type": "stream",
     "text": [
      "100%|██████████| 77/77 [00:12<00:00,  6.33it/s]\n"
     ]
    }
   ],
   "source": [
    "predictions = []\n",
    "model.eval()\n",
    "for batch in tqdm(valid_loader):\n",
    "    current_preds = torch.argmax(model(**batch.text).logits, dim=1).tolist()\n",
    "    predictions += current_preds"
   ]
  },
  {
   "cell_type": "code",
   "execution_count": 58,
   "id": "f80d8f0b",
   "metadata": {},
   "outputs": [],
   "source": [
    "labels_for_metric = [i['label'] for i in valid_data]"
   ]
  },
  {
   "cell_type": "code",
   "execution_count": 8,
   "id": "37c7e5ae",
   "metadata": {},
   "outputs": [],
   "source": [
    "from sklearn.metrics import accuracy_score, fbeta_score, f1_score"
   ]
  },
  {
   "cell_type": "code",
   "execution_count": 60,
   "id": "e37b1c45",
   "metadata": {},
   "outputs": [
    {
     "name": "stdout",
     "output_type": "stream",
     "text": [
      "Acc: 0.4560260586319218, f1: 0.3855069337072861, f05: 0.38551597858337766, f2: 0.41734581936095627\n"
     ]
    }
   ],
   "source": [
    "acc_score = accuracy_score(labels_for_metric, predictions)\n",
    "f1_macro_score = fbeta_score(labels_for_metric, predictions, beta=1.0, average='macro')\n",
    "f05_macro_score = fbeta_score(labels_for_metric, predictions, beta=0.5, average='macro')\n",
    "f2_macro_score = fbeta_score(labels_for_metric, predictions, beta=2.0, average='macro')\n",
    "print(f'Acc: {acc_score}, f1: {f1_macro_score}, f05: {f05_macro_score}, f2: {f2_macro_score}')"
   ]
  },
  {
   "cell_type": "code",
   "execution_count": 62,
   "id": "39b93a06",
   "metadata": {},
   "outputs": [
    {
     "name": "stdout",
     "output_type": "stream",
     "text": [
      "Acc: 0.8371335504885994, f1: 0.45567375886524825, f05: 0.48127340823970044, f2: 0.43265993265993274\n"
     ]
    },
    {
     "name": "stderr",
     "output_type": "stream",
     "text": [
      "/home/care1e55/.local/lib/python3.8/site-packages/sklearn/metrics/classification.py:1438: UndefinedMetricWarning: F-score is ill-defined and being set to 0.0 in labels with no true samples.\n",
      "  recall = _prf_divide(tp_sum, true_sum,\n"
     ]
    }
   ],
   "source": [
    "all_not_entailment = [0 for _ in valid_data]\n",
    "acc_score = accuracy_score(all_not_entailment, predictions)\n",
    "f1_macro_score = fbeta_score(all_not_entailment, predictions, beta=1.0, average='macro')\n",
    "f05_macro_score = fbeta_score(all_not_entailment, predictions, beta=0.5, average='macro')\n",
    "f2_macro_score = fbeta_score(all_not_entailment, predictions, beta=2.0, average='macro')\n",
    "print(f'Acc: {acc_score}, f1: {f1_macro_score}, f05: {f05_macro_score}, f2: {f2_macro_score}')"
   ]
  },
  {
   "cell_type": "code",
   "execution_count": 54,
   "id": "851d3cbc",
   "metadata": {},
   "outputs": [],
   "source": [
    "# Видим качество предсказания хуже чем предсказывать все 0"
   ]
  },
  {
   "cell_type": "code",
   "execution_count": null,
   "id": "7f7dc8ae",
   "metadata": {},
   "outputs": [],
   "source": []
  },
  {
   "cell_type": "code",
   "execution_count": null,
   "id": "706eed11",
   "metadata": {},
   "outputs": [],
   "source": []
  },
  {
   "cell_type": "markdown",
   "id": "218b089e",
   "metadata": {},
   "source": [
    "**Part 3. [4 points] Finetune on Classification task**\n",
    "Finetune on a classification task with BERT-based model you chose in the 0 part (Example of code see here)\n",
    "Submit your results and get scores for your models. https://www.kaggle.com/c/mipt-nlp-hw3-2021"
   ]
  },
  {
   "cell_type": "code",
   "execution_count": 11,
   "id": "365d4acc",
   "metadata": {},
   "outputs": [],
   "source": [
    "train_dataset = BertDataset(train_data)\n",
    "valid_dataset = BertDataset(valid_data)"
   ]
  },
  {
   "cell_type": "code",
   "execution_count": 12,
   "id": "ee8e3639",
   "metadata": {},
   "outputs": [],
   "source": [
    "# # Перед текстовых лейблов к целочисленным\n",
    "for row in train_data:\n",
    "    if row['label'] == 'entailment':\n",
    "        row['label'] = 1\n",
    "    else:\n",
    "        row['label'] = 0\n",
    "for row in valid_data:\n",
    "    if row['label'] == 'entailment':\n",
    "        row['label'] = 1\n",
    "    else:\n",
    "        row['label'] = 0"
   ]
  },
  {
   "cell_type": "code",
   "execution_count": 13,
   "id": "c494a12e",
   "metadata": {},
   "outputs": [],
   "source": [
    "train_loader = DataLoader(train_dataset, batch_size = 4, shuffle = True)\n",
    "valid_loader = DataLoader(valid_dataset, batch_size = 4, shuffle = True)"
   ]
  },
  {
   "cell_type": "code",
   "execution_count": 14,
   "id": "d3a70be9",
   "metadata": {},
   "outputs": [],
   "source": [
    "# Оперделим свою мадель на основе той что есть в transformers с небольшими отличиями"
   ]
  },
  {
   "cell_type": "code",
   "execution_count": 15,
   "id": "5fc41970",
   "metadata": {},
   "outputs": [],
   "source": [
    "import torch.nn as nn\n",
    "from transformers import AutoConfig, AutoModel\n",
    "\n",
    "\n",
    "class BertForSequenceClassification(nn.Module):\n",
    "    \"\"\"\n",
    "    Simplified version of the same class by HuggingFace.\n",
    "    See transformers/modeling_distilbert.py in the transformers repository.\n",
    "    \"\"\"\n",
    "    def __init__(\n",
    "        self, pretrained_model_name: str, num_classes: int = None, dropout: float = 0.3\n",
    "    ):\n",
    "        \"\"\"\n",
    "        Args:\n",
    "            pretrained_model_name (str): HuggingFace model name.\n",
    "                See transformers/modeling_auto.py\n",
    "            num_classes (int): the number of class labels\n",
    "                in the classification task\n",
    "        \"\"\"\n",
    "        super().__init__()\n",
    "        config = AutoConfig.from_pretrained(\n",
    "            pretrained_model_name, num_labels=num_classes\n",
    "        )\n",
    "        self.model = AutoModel.from_pretrained(pretrained_model_name, config=config)\n",
    "        self.classifier = nn.Linear(config.hidden_size, num_classes)\n",
    "        self.dropout = nn.Dropout(dropout)\n",
    "\n",
    "    def forward(self, input_ids, attention_mask=None, token_type_ids = None, head_mask=None):\n",
    "        \"\"\"Compute class probabilities for the input sequence.\n",
    "        Args:\n",
    "            features (torch.Tensor): ids of each token,\n",
    "                size ([bs, seq_length]\n",
    "            attention_mask (torch.Tensor): binary tensor, used to select\n",
    "                tokens which are used to compute attention scores\n",
    "                in the self-attention heads, size [bs, seq_length]\n",
    "            head_mask (torch.Tensor): 1.0 in head_mask indicates that\n",
    "                we keep the head, size: [num_heads]\n",
    "                or [num_hidden_layers x num_heads]\n",
    "        Returns:\n",
    "            PyTorch Tensor with predicted class scores\n",
    "        \"\"\"\n",
    "        assert attention_mask is not None, \"attention mask is none\"\n",
    "        bert_output = self.model(\n",
    "            input_ids=input_ids,\n",
    "            attention_mask=attention_mask,\n",
    "            token_type_ids=token_type_ids,\n",
    "            head_mask=head_mask\n",
    "        )\n",
    "        seq_output = bert_output[0]  # (bs, seq_len, dim)\n",
    "        pooled_output = seq_output.mean(axis=1)  # (bs, dim)\n",
    "        pooled_output = self.dropout(pooled_output)  # (bs, dim)\n",
    "        scores = self.classifier(pooled_output)  # (bs, num_classes)\n",
    "        return scores\n"
   ]
  },
  {
   "cell_type": "code",
   "execution_count": 16,
   "id": "4323690e",
   "metadata": {},
   "outputs": [],
   "source": [
    "# Оперделим класс для обучения\n",
    "from torch.optim.lr_scheduler import StepLR\n",
    "from sklearn.metrics import fbeta_score\n",
    "import warnings\n",
    "\n",
    "warnings.filterwarnings(\"ignore\")\n",
    "\n",
    "class ClassTrainer():\n",
    "    def __init__(self):\n",
    "        self.params = {\n",
    "            'lr': 0.00002,\n",
    "            'epochs': 10,\n",
    "            'pretrained_name': \"DeepPavlov/rubert-base-cased-sentence\"\n",
    "        }\n",
    "\n",
    "        self.dataloaders = self.initialize_dataloaders(4)\n",
    "        self.model = BertForSequenceClassification(self.params['pretrained_name'], num_classes=2)\n",
    "        self.model.to(device)\n",
    "        self.optimizer = torch.optim.Adam(self.model.parameters(), self.params['lr'])\n",
    "        self.scheduler = StepLR(self.optimizer, step_size=2, gamma=0.5)\n",
    "        self.criterion = nn.CrossEntropyLoss().to(device)\n",
    "\n",
    "    def label_to_class(self, data):\n",
    "        for row in data:\n",
    "            if row['label'] == 'entailment':\n",
    "                row['label'] = 1\n",
    "            else:\n",
    "                row['label'] = 0\n",
    "\n",
    "    def make_test_submission(self, model):\n",
    "        test_predictions = []\n",
    "        test_dataloader = self.dataloaders['test']\n",
    "        for batch in tqdm(test_dataloader, total=len(test_dataloader)):\n",
    "            predictions = model(**batch.text)\n",
    "            test_predictions += [pred[0] for pred in predictions.argmax(1, keepdim=True).detach().cpu().tolist()]\n",
    "\n",
    "    def initialize_dataloaders(self, batch_size=4):\n",
    "        train_data = read_data('data/train.jsonl')\n",
    "        valid_data = read_data('data/val.jsonl')\n",
    "        test_data = read_data('data/test.jsonl')\n",
    "        self.label_to_class(train_data)\n",
    "        self.label_to_class(valid_data)\n",
    "        return {\n",
    "            'train': DataLoader(\n",
    "                BertDataset(train_data, tensor_labels=True),\n",
    "                batch_size,\n",
    "                shuffle=True\n",
    "            ),\n",
    "            'valid': DataLoader(\n",
    "                BertDataset(valid_data, tensor_labels=True),\n",
    "                batch_size,\n",
    "                shuffle=True\n",
    "            ),\n",
    "            'test': DataLoader(\n",
    "                BertDataset(test_data, tensor_labels=False, label_flag=False),\n",
    "                batch_size,\n",
    "                shuffle=False\n",
    "            ),\n",
    "\n",
    "        }\n",
    "\n",
    "    def train(self):\n",
    "        params = self.params\n",
    "        print('Current prams', params)\n",
    "        best_eval_metric = 0\n",
    "        for epoch in range(params['epochs']):\n",
    "            self.train_epoch(epoch)\n",
    "            curr_eval_metric = self.eval_epoch(epoch)\n",
    "            if curr_eval_metric > best_eval_metric:\n",
    "                best_eval_metric = curr_eval_metric\n",
    "                torch.save(self.model.state_dict(), 'best.model')\n",
    "            self.scheduler.step()\n",
    "        return best_eval_metric\n",
    "\n",
    "    def train_epoch(self, epoch):\n",
    "        self.model.train()\n",
    "        epoch_loss = 0\n",
    "        epoch_acc = 0\n",
    "        epoch_f1 = 0\n",
    "        epoch_f05 = 0\n",
    "        length = len(self.dataloaders['train'])\n",
    "        for batch in tqdm(self.dataloaders['train']):\n",
    "            self.optimizer.zero_grad()\n",
    "            predictions = self.model(**batch.text)\n",
    "            loss = self.criterion(predictions, batch.label)\n",
    "            loss.backward()\n",
    "            self.optimizer.step()\n",
    "            epoch_loss += loss\n",
    "            epoch_acc += self.categorical_accuracy(predictions, batch.label)\n",
    "            y_pred = [pred[0] for pred in predictions.argmax(1, keepdim=True).detach().cpu().tolist()]\n",
    "            y_true = batch.label.detach().cpu().tolist()\n",
    "            epoch_f1 += fbeta_score(y_true, y_pred, 1, average='macro')\n",
    "            epoch_f05 += fbeta_score(y_true, y_pred, 0.5, average='macro')\n",
    "        print(f'''\n",
    "            Train Epoch: {epoch}, \n",
    "            loss: {epoch_loss / length}, \n",
    "            Acc: {epoch_acc / length},\n",
    "            F1: {epoch_f1 / length},\n",
    "            F0.5: {epoch_f05 / length},\n",
    "        ''')\n",
    "\n",
    "    def eval_epoch(self, epoch):\n",
    "        self.model.eval()\n",
    "        eval_epoch_loss = 0\n",
    "        eval_epoch_acc = 0\n",
    "        eval_epoch_f1 = 0\n",
    "        eval_epoch_f05 = 0\n",
    "        length = len(self.dataloaders['valid'])\n",
    "        for batch in tqdm(self.dataloaders['valid']):\n",
    "            predictions = self.model(**batch.text).detach()\n",
    "            loss = self.criterion(predictions, batch.label.detach()).detach()\n",
    "            eval_epoch_loss += loss.cpu()\n",
    "            eval_epoch_acc += self.categorical_accuracy(predictions, batch.label.detach()).detach().cpu()\n",
    "            y_pred = [pred[0] for pred in predictions.argmax(1, keepdim=True).detach().cpu().tolist()]\n",
    "            y_true = batch.label.detach().cpu().tolist()\n",
    "            eval_epoch_f1 += fbeta_score(y_true, y_pred, 1, average='macro')\n",
    "            eval_epoch_f05 += fbeta_score(y_true, y_pred, 0.5, average='macro')\n",
    "        print(f'''\n",
    "            Eval Epoch: {epoch}, \n",
    "            loss: {eval_epoch_loss / length}, \n",
    "            Acc: {eval_epoch_acc / length},\n",
    "            F1: {eval_epoch_f1 / length},\n",
    "            F0.5: {eval_epoch_f05 / length},\n",
    "        ''')\n",
    "        return eval_epoch_f1 / length\n",
    "\n",
    "    def categorical_accuracy(self, preds, y):\n",
    "        top_pred = preds.argmax(1, keepdim=True)\n",
    "        correct = top_pred.eq(y.view_as(top_pred)).sum()\n",
    "        acc = correct.float() / y.shape[0]\n",
    "        return acc"
   ]
  },
  {
   "cell_type": "code",
   "execution_count": 16,
   "id": "c75c3268",
   "metadata": {},
   "outputs": [
    {
     "name": "stderr",
     "output_type": "stream",
     "text": [
      "  0%|          | 1/654 [00:00<01:45,  6.21it/s]"
     ]
    },
    {
     "name": "stdout",
     "output_type": "stream",
     "text": [
      "Current prams {'lr': 2e-05, 'epochs': 10, 'pretrained_name': 'DeepPavlov/rubert-base-cased-sentence'}\n"
     ]
    },
    {
     "name": "stderr",
     "output_type": "stream",
     "text": [
      "100%|██████████| 654/654 [01:01<00:00, 10.68it/s]\n",
      "  6%|▋         | 5/77 [00:00<00:01, 43.56it/s]"
     ]
    },
    {
     "name": "stdout",
     "output_type": "stream",
     "text": [
      "\n",
      "            Train Epoch: 0, \n",
      "            loss: 0.7158905863761902, \n",
      "            Acc: 0.5252293944358826,\n",
      "            F1: 0.4261103829911152,\n",
      "            F0.5: 0.42088817601011397,\n",
      "        \n"
     ]
    },
    {
     "name": "stderr",
     "output_type": "stream",
     "text": [
      "100%|██████████| 77/77 [00:01<00:00, 42.44it/s]\n"
     ]
    },
    {
     "name": "stdout",
     "output_type": "stream",
     "text": [
      "\n",
      "            Eval Epoch: 0, \n",
      "            loss: 0.6360751986503601, \n",
      "            Acc: 0.6450216770172119,\n",
      "            F1: 0.5666048237476813,\n",
      "            F0.5: 0.5704289642938069,\n",
      "        \n"
     ]
    },
    {
     "name": "stderr",
     "output_type": "stream",
     "text": [
      "100%|██████████| 654/654 [01:00<00:00, 10.76it/s]\n",
      "  6%|▋         | 5/77 [00:00<00:01, 42.97it/s]"
     ]
    },
    {
     "name": "stdout",
     "output_type": "stream",
     "text": [
      "\n",
      "            Train Epoch: 1, \n",
      "            loss: 0.6169688701629639, \n",
      "            Acc: 0.6655198931694031,\n",
      "            F1: 0.5858380661132943,\n",
      "            F0.5: 0.5917006464371851,\n",
      "        \n"
     ]
    },
    {
     "name": "stderr",
     "output_type": "stream",
     "text": [
      "100%|██████████| 77/77 [00:01<00:00, 43.05it/s]\n"
     ]
    },
    {
     "name": "stdout",
     "output_type": "stream",
     "text": [
      "\n",
      "            Eval Epoch: 1, \n",
      "            loss: 0.6382334232330322, \n",
      "            Acc: 0.6558441519737244,\n",
      "            F1: 0.5988249845392706,\n",
      "            F0.5: 0.614141764545347,\n",
      "        \n"
     ]
    },
    {
     "name": "stderr",
     "output_type": "stream",
     "text": [
      "100%|██████████| 654/654 [01:00<00:00, 10.78it/s]\n",
      "  6%|▋         | 5/77 [00:00<00:01, 41.98it/s]"
     ]
    },
    {
     "name": "stdout",
     "output_type": "stream",
     "text": [
      "\n",
      "            Train Epoch: 2, \n",
      "            loss: 0.32751837372779846, \n",
      "            Acc: 0.863914430141449,\n",
      "            F1: 0.8217707878258351,\n",
      "            F0.5: 0.8298414449561579,\n",
      "        \n"
     ]
    },
    {
     "name": "stderr",
     "output_type": "stream",
     "text": [
      "100%|██████████| 77/77 [00:01<00:00, 43.26it/s]\n"
     ]
    },
    {
     "name": "stdout",
     "output_type": "stream",
     "text": [
      "\n",
      "            Eval Epoch: 2, \n",
      "            loss: 0.9045296311378479, \n",
      "            Acc: 0.6580086946487427,\n",
      "            F1: 0.6000618429189861,\n",
      "            F0.5: 0.6143881679382366,\n",
      "        \n"
     ]
    },
    {
     "name": "stderr",
     "output_type": "stream",
     "text": [
      "100%|██████████| 654/654 [01:00<00:00, 10.76it/s]\n",
      "  6%|▋         | 5/77 [00:00<00:01, 43.43it/s]"
     ]
    },
    {
     "name": "stdout",
     "output_type": "stream",
     "text": [
      "\n",
      "            Train Epoch: 3, \n",
      "            loss: 0.13857802748680115, \n",
      "            Acc: 0.947629988193512,\n",
      "            F1: 0.9319207805446351,\n",
      "            F0.5: 0.9343530949865438,\n",
      "        \n"
     ]
    },
    {
     "name": "stderr",
     "output_type": "stream",
     "text": [
      "100%|██████████| 77/77 [00:01<00:00, 43.41it/s]\n"
     ]
    },
    {
     "name": "stdout",
     "output_type": "stream",
     "text": [
      "\n",
      "            Eval Epoch: 3, \n",
      "            loss: 1.0980257987976074, \n",
      "            Acc: 0.6601731181144714,\n",
      "            F1: 0.5907544836116266,\n",
      "            F0.5: 0.5968513258517179,\n",
      "        \n"
     ]
    },
    {
     "name": "stderr",
     "output_type": "stream",
     "text": [
      "100%|██████████| 654/654 [01:00<00:00, 10.81it/s]\n",
      "  6%|▋         | 5/77 [00:00<00:01, 43.17it/s]"
     ]
    },
    {
     "name": "stdout",
     "output_type": "stream",
     "text": [
      "\n",
      "            Train Epoch: 4, \n",
      "            loss: 0.052953656762838364, \n",
      "            Acc: 0.9827982187271118,\n",
      "            F1: 0.9751274209989813,\n",
      "            F0.5: 0.9759857940537559,\n",
      "        \n"
     ]
    },
    {
     "name": "stderr",
     "output_type": "stream",
     "text": [
      "100%|██████████| 77/77 [00:01<00:00, 43.36it/s]\n"
     ]
    },
    {
     "name": "stdout",
     "output_type": "stream",
     "text": [
      "\n",
      "            Eval Epoch: 4, \n",
      "            loss: 1.4147247076034546, \n",
      "            Acc: 0.6580086946487427,\n",
      "            F1: 0.5996907854050714,\n",
      "            F0.5: 0.6121082238284503,\n",
      "        \n"
     ]
    },
    {
     "name": "stderr",
     "output_type": "stream",
     "text": [
      "100%|██████████| 654/654 [01:00<00:00, 10.78it/s]\n",
      "  6%|▋         | 5/77 [00:00<00:01, 43.47it/s]"
     ]
    },
    {
     "name": "stdout",
     "output_type": "stream",
     "text": [
      "\n",
      "            Train Epoch: 5, \n",
      "            loss: 0.028719265013933182, \n",
      "            Acc: 0.9912079572677612,\n",
      "            F1: 0.9882918304936658,\n",
      "            F0.5: 0.9889294769334601,\n",
      "        \n"
     ]
    },
    {
     "name": "stderr",
     "output_type": "stream",
     "text": [
      "100%|██████████| 77/77 [00:01<00:00, 43.43it/s]\n"
     ]
    },
    {
     "name": "stdout",
     "output_type": "stream",
     "text": [
      "\n",
      "            Eval Epoch: 5, \n",
      "            loss: 1.5836536884307861, \n",
      "            Acc: 0.6341991424560547,\n",
      "            F1: 0.5553803339517626,\n",
      "            F0.5: 0.5653359527525224,\n",
      "        \n"
     ]
    },
    {
     "name": "stderr",
     "output_type": "stream",
     "text": [
      "100%|██████████| 654/654 [01:00<00:00, 10.81it/s]\n",
      "  6%|▋         | 5/77 [00:00<00:01, 42.19it/s]"
     ]
    },
    {
     "name": "stdout",
     "output_type": "stream",
     "text": [
      "\n",
      "            Train Epoch: 6, \n",
      "            loss: 0.012668526731431484, \n",
      "            Acc: 0.9946483373641968,\n",
      "            F1: 0.9919615552643077,\n",
      "            F0.5: 0.9922822292676832,\n",
      "        \n"
     ]
    },
    {
     "name": "stderr",
     "output_type": "stream",
     "text": [
      "100%|██████████| 77/77 [00:01<00:00, 43.38it/s]\n"
     ]
    },
    {
     "name": "stdout",
     "output_type": "stream",
     "text": [
      "\n",
      "            Eval Epoch: 6, \n",
      "            loss: 1.8714373111724854, \n",
      "            Acc: 0.6417748928070068,\n",
      "            F1: 0.5529375386518246,\n",
      "            F0.5: 0.5578891454698116,\n",
      "        \n"
     ]
    },
    {
     "name": "stderr",
     "output_type": "stream",
     "text": [
      "100%|██████████| 654/654 [01:00<00:00, 10.83it/s]\n",
      "  6%|▋         | 5/77 [00:00<00:01, 43.02it/s]"
     ]
    },
    {
     "name": "stdout",
     "output_type": "stream",
     "text": [
      "\n",
      "            Train Epoch: 7, \n",
      "            loss: 0.009448322467505932, \n",
      "            Acc: 0.9969419240951538,\n",
      "            F1: 0.9967889908256882,\n",
      "            F0.5: 0.9969822056978018,\n",
      "        \n"
     ]
    },
    {
     "name": "stderr",
     "output_type": "stream",
     "text": [
      "100%|██████████| 77/77 [00:01<00:00, 43.54it/s]\n"
     ]
    },
    {
     "name": "stdout",
     "output_type": "stream",
     "text": [
      "\n",
      "            Eval Epoch: 7, \n",
      "            loss: 1.9405759572982788, \n",
      "            Acc: 0.6547619104385376,\n",
      "            F1: 0.5580705009276438,\n",
      "            F0.5: 0.5653813832277204,\n",
      "        \n"
     ]
    },
    {
     "name": "stderr",
     "output_type": "stream",
     "text": [
      "100%|██████████| 654/654 [01:00<00:00, 10.86it/s]\n",
      "  6%|▋         | 5/77 [00:00<00:01, 42.40it/s]"
     ]
    },
    {
     "name": "stdout",
     "output_type": "stream",
     "text": [
      "\n",
      "            Train Epoch: 8, \n",
      "            loss: 0.006864136550575495, \n",
      "            Acc: 0.9984709620475769,\n",
      "            F1: 0.9969710208242317,\n",
      "            F0.5: 0.9969908764648624,\n",
      "        \n"
     ]
    },
    {
     "name": "stderr",
     "output_type": "stream",
     "text": [
      "100%|██████████| 77/77 [00:01<00:00, 43.26it/s]\n"
     ]
    },
    {
     "name": "stdout",
     "output_type": "stream",
     "text": [
      "\n",
      "            Eval Epoch: 8, \n",
      "            loss: 2.032217502593994, \n",
      "            Acc: 0.649350643157959,\n",
      "            F1: 0.5751391465677184,\n",
      "            F0.5: 0.594764794141076,\n",
      "        \n"
     ]
    },
    {
     "name": "stderr",
     "output_type": "stream",
     "text": [
      "100%|██████████| 654/654 [01:00<00:00, 10.89it/s]\n",
      "  6%|▋         | 5/77 [00:00<00:01, 43.43it/s]"
     ]
    },
    {
     "name": "stdout",
     "output_type": "stream",
     "text": [
      "\n",
      "            Train Epoch: 9, \n",
      "            loss: 0.002970658941194415, \n",
      "            Acc: 0.9992355108261108,\n",
      "            F1: 0.999184505606524,\n",
      "            F0.5: 0.9992448513090715,\n",
      "        \n"
     ]
    },
    {
     "name": "stderr",
     "output_type": "stream",
     "text": [
      "100%|██████████| 77/77 [00:01<00:00, 43.80it/s]\n"
     ]
    },
    {
     "name": "stdout",
     "output_type": "stream",
     "text": [
      "\n",
      "            Eval Epoch: 9, \n",
      "            loss: 2.1433792114257812, \n",
      "            Acc: 0.6461039185523987,\n",
      "            F1: 0.577736549165121,\n",
      "            F0.5: 0.5911639079573119,\n",
      "        \n"
     ]
    },
    {
     "data": {
      "text/plain": [
       "0"
      ]
     },
     "execution_count": 16,
     "metadata": {},
     "output_type": "execute_result"
    }
   ],
   "source": [
    "# Запустим обученeе\n",
    "trainer = ClassTrainer()\n",
    "trainer.train()"
   ]
  },
  {
   "cell_type": "code",
   "execution_count": 17,
   "id": "8b425780",
   "metadata": {},
   "outputs": [
    {
     "name": "stderr",
     "output_type": "stream",
     "text": [
      "100%|██████████| 400/400 [00:16<00:00, 24.36it/s]\n"
     ]
    }
   ],
   "source": [
    "# сделаем сабмит лучшей модели (0.62839 на лидерборде)\n",
    "trainer.model.load_state_dict(torch.load('best.model'), strict=False)\n",
    "test_dataloader = DataLoader(\n",
    "    BertDataset(\n",
    "        test_data, \n",
    "        tensor_labels=True, \n",
    "        label_flag = False\n",
    "    ), \n",
    "    batch_size = 8, \n",
    "    shuffle = False)\n",
    "test_predictions = []\n",
    "for batch in tqdm(test_dataloader, total = len(test_dataloader)):\n",
    "#     predictions = trainer.model(batch.text['input_ids'], batch.text['attention_mask'])\n",
    "    predictions = trainer.model(**batch.text)\n",
    "    test_predictions += [pred[0] for pred in predictions.argmax(1, keepdim = True).detach().cpu().tolist()]\n",
    "test_predictions = list(\n",
    "    map(lambda x: 'entailment' if x== 1 else 'not_entailment', test_predictions)\n",
    ")"
   ]
  },
  {
   "cell_type": "code",
   "execution_count": 22,
   "id": "0000a6ee",
   "metadata": {},
   "outputs": [],
   "source": [
    "test_pd = pd.DataFrame(test_predictions, columns = ['Category']).reset_index()\n",
    "test_pd['id'] = test_pd['index']\n",
    "test_pd = test_pd[['id', 'Category']]\n",
    "test_pd.to_csv('submission.csv', index=None)"
   ]
  },
  {
   "cell_type": "code",
   "execution_count": null,
   "id": "2a923909",
   "metadata": {},
   "outputs": [],
   "source": []
  },
  {
   "cell_type": "code",
   "execution_count": null,
   "id": "49a092b2",
   "metadata": {},
   "outputs": [],
   "source": []
  },
  {
   "cell_type": "markdown",
   "id": "5cd47040",
   "metadata": {},
   "source": [
    "**Part 4. [4 points] Finetune LM**\n",
    "Finetune language model with BERT-based model you chose in the 0 part (Example of code see here).\n",
    "Draw a plot (like you did in part 0 and 1)\n",
    "Submit your results and get scores for your models. https://www.kaggle.com/c/mipt-nlp-hw3-2021"
   ]
  },
  {
   "cell_type": "code",
   "execution_count": 17,
   "id": "f0343b76",
   "metadata": {},
   "outputs": [],
   "source": [
    "# Опеределяем device на котором будет производиться обуение\n",
    "os.environ[\"CUDA_VISIBLE_DEVICES\"] = \"1\"\n",
    "device = torch.device('cuda')"
   ]
  },
  {
   "cell_type": "code",
   "execution_count": 18,
   "id": "5bde2abd",
   "metadata": {},
   "outputs": [],
   "source": [
    "train_dataset = BertDataset(train_data)\n",
    "valid_dataset = BertDataset(valid_data)\n",
    "train_loader = DataLoader(train_dataset, batch_size = 32, shuffle = True)\n",
    "valid_loader = DataLoader(valid_dataset, batch_size = 32, shuffle = True)"
   ]
  },
  {
   "cell_type": "code",
   "execution_count": 19,
   "id": "b9d381d0",
   "metadata": {},
   "outputs": [],
   "source": [
    "# Оперделяем torch.Dataset для обучения LM\n",
    "\n",
    "class BertLMDataset(Dataset):\n",
    "    def __init__(\n",
    "            self,\n",
    "            data: List[Dict[str, str]],\n",
    "            pretrained_name: str = \"DeepPavlov/rubert-base-cased-sentence\",\n",
    "            tensor_labels=False,\n",
    "            label_flag=True\n",
    "    ):\n",
    "        self.label_flag = label_flag\n",
    "        self.tokenizer = BertTokenizer.from_pretrained(pretrained_name)\n",
    "        self.original_data = data\n",
    "        self.data = list(map(self.prepare_row, data))\n",
    "        self.device = device\n",
    "#         self.device = 'cpu'\n",
    "        self.tensor_labels = tensor_labels\n",
    "\n",
    "    def prepare_row(self, row):\n",
    "        return {\n",
    "            'text': self.tokenizer.encode_plus(\n",
    "                # row['premise'] + self.tokenizer.sep_token + row['hypothesis'],\n",
    "                row['premise'], \n",
    "#                 row['hypothesis'],\n",
    "#                 padding='max_length',\n",
    "                add_special_tokens=True,\n",
    "                truncation=True,\n",
    "                max_length=256\n",
    "            ),\n",
    "            'label': row['label'] if self.label_flag else 0,\n",
    "        }\n",
    "\n",
    "    def __getitem__(self, idx):\n",
    "        current = self.data[idx]\n",
    "        return torch.LongTensor(current['text']['input_ids']).to(self.device)\n",
    "\n",
    "    def __len__(self):\n",
    "        return len(self.data)\n"
   ]
  },
  {
   "cell_type": "code",
   "execution_count": 20,
   "id": "21f8c62c",
   "metadata": {},
   "outputs": [],
   "source": [
    "# добавим to(device) в collate_fn чтобы работать на GPU"
   ]
  },
  {
   "cell_type": "code",
   "execution_count": 21,
   "id": "3191f114",
   "metadata": {},
   "outputs": [],
   "source": [
    "import random\n",
    "import warnings\n",
    "from dataclasses import dataclass\n",
    "from typing import Any, Callable, Dict, List, NewType, Optional, Tuple, Union\n",
    "\n",
    "from transformers.file_utils import PaddingStrategy\n",
    "from transformers.modeling_utils import PreTrainedModel\n",
    "from transformers.tokenization_utils_base import BatchEncoding, PreTrainedTokenizerBase\n",
    "\n",
    "import torch\n",
    "from torch.nn.utils.rnn import pad_sequence\n",
    "\n",
    "@dataclass\n",
    "class DataCollatorForLanguageModeling:\n",
    "    \"\"\"\n",
    "    Data collator used for language modeling. Inputs are dynamically padded to the maximum length of a batch if they\n",
    "    are not all of the same length.\n",
    "    Args:\n",
    "        tokenizer (:class:`~transformers.PreTrainedTokenizer` or :class:`~transformers.PreTrainedTokenizerFast`):\n",
    "            The tokenizer used for encoding the data.\n",
    "        mlm (:obj:`bool`, `optional`, defaults to :obj:`True`):\n",
    "            Whether or not to use masked language modeling. If set to :obj:`False`, the labels are the same as the\n",
    "            inputs with the padding tokens ignored (by setting them to -100). Otherwise, the labels are -100 for\n",
    "            non-masked tokens and the value to predict for the masked token.\n",
    "        mlm_probability (:obj:`float`, `optional`, defaults to 0.15):\n",
    "            The probability with which to (randomly) mask tokens in the input, when :obj:`mlm` is set to :obj:`True`.\n",
    "        pad_to_multiple_of (:obj:`int`, `optional`):\n",
    "            If set will pad the sequence to a multiple of the provided value.\n",
    "    .. note::\n",
    "        For best performance, this data collator should be used with a dataset having items that are dictionaries or\n",
    "        BatchEncoding, with the :obj:`\"special_tokens_mask\"` key, as returned by a\n",
    "        :class:`~transformers.PreTrainedTokenizer` or a :class:`~transformers.PreTrainedTokenizerFast` with the\n",
    "        argument :obj:`return_special_tokens_mask=True`.\n",
    "    \"\"\"\n",
    "\n",
    "    tokenizer: PreTrainedTokenizerBase\n",
    "    mlm: bool = True\n",
    "    mlm_probability: float = 0.15\n",
    "    pad_to_multiple_of: Optional[int] = None\n",
    "\n",
    "    def __post_init__(self):\n",
    "        if self.mlm and self.tokenizer.mask_token is None:\n",
    "            raise ValueError(\n",
    "                \"This tokenizer does not have a mask token which is necessary for masked language modeling. \"\n",
    "                \"You should pass `mlm=False` to train on causal language modeling instead.\"\n",
    "            )\n",
    "\n",
    "    def __call__(\n",
    "        self, examples: List[Union[List[int], torch.Tensor, Dict[str, torch.Tensor]]]\n",
    "    ) -> Dict[str, torch.Tensor]:\n",
    "        # Handle dict or lists with proper padding and conversion to tensor.\n",
    "        if isinstance(examples[0], (dict, BatchEncoding)):\n",
    "            batch = self.tokenizer.pad(examples, return_tensors=\"pt\", pad_to_multiple_of=self.pad_to_multiple_of).to(device)\n",
    "        else:\n",
    "            batch = {\"input_ids\": _collate_batch(examples, self.tokenizer, pad_to_multiple_of=self.pad_to_multiple_of)}\n",
    "\n",
    "        # If special token mask has been preprocessed, pop it from the dict.\n",
    "        special_tokens_mask = batch.pop(\"special_tokens_mask\", None)\n",
    "        if self.mlm:\n",
    "            batch[\"input_ids\"], batch[\"labels\"] = self.mask_tokens(\n",
    "                batch[\"input_ids\"].to(device), special_tokens_mask=special_tokens_mask\n",
    "            )\n",
    "        else:\n",
    "            labels = batch[\"input_ids\"].clone()\n",
    "            if self.tokenizer.pad_token_id is not None:\n",
    "                labels[labels == self.tokenizer.pad_token_id] = -100\n",
    "            batch[\"labels\"] = labels\n",
    "        return batch\n",
    "\n",
    "    def mask_tokens(\n",
    "        self, inputs: torch.Tensor, special_tokens_mask: Optional[torch.Tensor] = None\n",
    "    ) -> Tuple[torch.Tensor, torch.Tensor]:\n",
    "        \"\"\"\n",
    "        Prepare masked tokens inputs/labels for masked language modeling: 80% MASK, 10% random, 10% original.\n",
    "        \"\"\"\n",
    "        labels = inputs.clone()\n",
    "        # We sample a few tokens in each sequence for MLM training (with probability `self.mlm_probability`)\n",
    "        probability_matrix = torch.full(labels.shape, self.mlm_probability).to(device)\n",
    "        if special_tokens_mask is None:\n",
    "            special_tokens_mask = [\n",
    "                self.tokenizer.get_special_tokens_mask(val, already_has_special_tokens=True) for val in labels.tolist()\n",
    "            ]\n",
    "            special_tokens_mask = torch.tensor(special_tokens_mask, dtype=torch.bool).to(device)\n",
    "        else:\n",
    "            special_tokens_mask = special_tokens_mask.bool().to(device)\n",
    "\n",
    "        probability_matrix.masked_fill_(special_tokens_mask, value=0.0)\n",
    "        masked_indices = torch.bernoulli(probability_matrix).bool().to(device)\n",
    "        labels[~masked_indices] = -100  # We only compute loss on masked tokens\n",
    "\n",
    "        # 80% of the time, we replace masked input tokens with tokenizer.mask_token ([MASK])\n",
    "        indices_replaced = torch.bernoulli(torch.full(labels.shape, 0.8)).bool().to(device) & masked_indices\n",
    "        inputs[indices_replaced] = self.tokenizer.convert_tokens_to_ids(self.tokenizer.mask_token)\n",
    "\n",
    "        # 10% of the time, we replace masked input tokens with random word\n",
    "        indices_random = torch.bernoulli(torch.full(labels.shape, 0.5)).bool().to(device) & masked_indices & ~indices_replaced\n",
    "        random_words = torch.randint(len(self.tokenizer), labels.shape, dtype=torch.long).to(device)\n",
    "        inputs[indices_random] = random_words[indices_random]\n",
    "\n",
    "        # The rest of the time (10% of the time) we keep the masked input tokens unchanged\n",
    "        return inputs, labels\n",
    "    \n",
    "def _collate_batch(examples, tokenizer, pad_to_multiple_of: Optional[int] = None):\n",
    "    \"\"\"Collate `examples` into a batch, using the information in `tokenizer` for padding if necessary.\"\"\"\n",
    "    # Tensorize if necessary.\n",
    "    if isinstance(examples[0], (list, tuple)):\n",
    "        examples = [torch.tensor(e, dtype=torch.long).to(device) for e in examples]\n",
    "\n",
    "    # Check if padding is necessary.\n",
    "    length_of_first = examples[0].size(0)\n",
    "    are_tensors_same_length = all(x.size(0) == length_of_first for x in examples)\n",
    "    if are_tensors_same_length and (pad_to_multiple_of is None or length_of_first % pad_to_multiple_of == 0):\n",
    "        return torch.stack(examples, dim=0)\n",
    "\n",
    "    # If yes, check if we have a `pad_token`.\n",
    "    if tokenizer._pad_token is None:\n",
    "        raise ValueError(\n",
    "            \"You are attempting to pad samples but the tokenizer you are using\"\n",
    "            f\" ({tokenizer.__class__.__name__}) does not have a pad token.\"\n",
    "        )\n",
    "\n",
    "    # Creating the full tensor and filling it with our data.\n",
    "    max_length = max(x.size(0) for x in examples)\n",
    "    if pad_to_multiple_of is not None and (max_length % pad_to_multiple_of != 0):\n",
    "        max_length = ((max_length // pad_to_multiple_of) + 1) * pad_to_multiple_of\n",
    "    result = examples[0].new_full([len(examples), max_length], tokenizer.pad_token_id)\n",
    "    for i, example in enumerate(examples):\n",
    "        if tokenizer.padding_side == \"right\":\n",
    "            result[i, : example.shape[0]] = example\n",
    "        else:\n",
    "            result[i, -example.shape[0] :] = example\n",
    "    return result.to(device)"
   ]
  },
  {
   "cell_type": "code",
   "execution_count": 22,
   "id": "4001927f",
   "metadata": {},
   "outputs": [],
   "source": [
    "from transformers import BertForMaskedLM, TrainingArguments, Trainer, AdamW, AutoTokenizer, AutoTokenizer"
   ]
  },
  {
   "cell_type": "code",
   "execution_count": 23,
   "id": "125b9bd6",
   "metadata": {},
   "outputs": [
    {
     "name": "stderr",
     "output_type": "stream",
     "text": [
      "Some weights of BertForMaskedLM were not initialized from the model checkpoint at DeepPavlov/rubert-base-cased-sentence and are newly initialized: ['cls.predictions.decoder.weight', 'cls.predictions.transform.dense.weight', 'cls.predictions.transform.LayerNorm.bias', 'cls.predictions.bias', 'cls.predictions.transform.dense.bias', 'cls.predictions.transform.LayerNorm.weight']\n",
      "You should probably TRAIN this model on a down-stream task to be able to use it for predictions and inference.\n"
     ]
    },
    {
     "name": "stdout",
     "output_type": "stream",
     "text": [
      "Ok\n"
     ]
    }
   ],
   "source": [
    "pretrained_name = \"DeepPavlov/rubert-base-cased-sentence\"\n",
    "mlm_model = BertForMaskedLM.from_pretrained(pretrained_name)\n",
    "mlm_model.to(device)\n",
    "mlm_model.train()\n",
    "print(\"Ok\")"
   ]
  },
  {
   "cell_type": "code",
   "execution_count": 24,
   "id": "e4118844",
   "metadata": {},
   "outputs": [
    {
     "data": {
      "text/plain": [
       "DataCollatorForLanguageModeling(tokenizer=PreTrainedTokenizer(name_or_path='DeepPavlov/rubert-base-cased-sentence', vocab_size=119547, model_max_len=1000000000000000019884624838656, is_fast=False, padding_side='right', special_tokens={'unk_token': '[UNK]', 'sep_token': '[SEP]', 'pad_token': '[PAD]', 'cls_token': '[CLS]', 'mask_token': '[MASK]'}), mlm=True, mlm_probability=0.15, pad_to_multiple_of=None)"
      ]
     },
     "execution_count": 24,
     "metadata": {},
     "output_type": "execute_result"
    }
   ],
   "source": [
    "tokenizer = BertTokenizer.from_pretrained(pretrained_name)\n",
    "data_collater = DataCollatorForLanguageModeling(\n",
    "    tokenizer=tokenizer, mlm=True, mlm_probability=0.15\n",
    ")\n",
    "data_collater"
   ]
  },
  {
   "cell_type": "code",
   "execution_count": 25,
   "id": "c2104a9a",
   "metadata": {},
   "outputs": [],
   "source": [
    "train_loader = DataLoader(\n",
    "    BertLMDataset(train_data),\n",
    "    batch_size=32,\n",
    "    collate_fn=data_collater\n",
    ")"
   ]
  },
  {
   "cell_type": "code",
   "execution_count": 41,
   "id": "466de9b8",
   "metadata": {},
   "outputs": [],
   "source": [
    "# next(iter(train_loader))['labels']"
   ]
  },
  {
   "cell_type": "code",
   "execution_count": 42,
   "id": "99b1552b",
   "metadata": {},
   "outputs": [],
   "source": [
    "import pytorch_lightning as pl"
   ]
  },
  {
   "cell_type": "code",
   "execution_count": 43,
   "id": "e4abd3d9",
   "metadata": {},
   "outputs": [
    {
     "name": "stderr",
     "output_type": "stream",
     "text": [
      "Some weights of BertForMaskedLM were not initialized from the model checkpoint at DeepPavlov/rubert-base-cased-sentence and are newly initialized: ['cls.predictions.transform.LayerNorm.weight', 'cls.predictions.transform.LayerNorm.bias', 'cls.predictions.transform.dense.bias', 'cls.predictions.bias', 'cls.predictions.transform.dense.weight', 'cls.predictions.decoder.weight']\n",
      "You should probably TRAIN this model on a down-stream task to be able to use it for predictions and inference.\n"
     ]
    }
   ],
   "source": [
    "class Bert(pl.LightningModule):\n",
    "\n",
    "    def __init__(self):\n",
    "        super().__init__()\n",
    "        self.bert = BertForMaskedLM.from_pretrained(pretrained_name)\n",
    "        self.bert.to(device)\n",
    "        self.bert.train()\n",
    "\n",
    "    def forward(self, input_ids, labels):\n",
    "        return self.bert(input_ids=input_ids,labels=labels)\n",
    "\n",
    "    def training_step(self, batch, batch_idx):\n",
    "        input_ids = batch[\"input_ids\"]\n",
    "        labels = batch[\"labels\"]\n",
    "        outputs = self(input_ids=input_ids, labels=labels)\n",
    "        loss = outputs[0]\n",
    "        return {\"loss\": loss}\n",
    "\n",
    "    def configure_optimizers(self):\n",
    "        return AdamW(self.parameters(), lr=1e-5)\n",
    "\n",
    "model = Bert()"
   ]
  },
  {
   "cell_type": "code",
   "execution_count": 44,
   "id": "95d5fee2",
   "metadata": {},
   "outputs": [
    {
     "name": "stderr",
     "output_type": "stream",
     "text": [
      "GPU available: True, used: False\n",
      "TPU available: False, using: 0 TPU cores\n"
     ]
    }
   ],
   "source": [
    "trainer = pl.Trainer(max_epochs=1)"
   ]
  },
  {
   "cell_type": "code",
   "execution_count": null,
   "id": "ea4ef259",
   "metadata": {},
   "outputs": [
    {
     "name": "stderr",
     "output_type": "stream",
     "text": [
      "GPU available: True, used: True\n",
      "TPU available: False, using: 0 TPU cores\n",
      "LOCAL_RANK: 0 - CUDA_VISIBLE_DEVICES: [1]\n",
      "\n",
      "  | Name | Type            | Params\n",
      "-----------------------------------------\n",
      "0 | bert | BertForMaskedLM | 177 M \n",
      "-----------------------------------------\n",
      "177 M     Trainable params\n",
      "0         Non-trainable params\n",
      "177 M     Total params\n",
      "711.898   Total estimated model params size (MB)\n"
     ]
    },
    {
     "data": {
      "application/vnd.jupyter.widget-view+json": {
       "model_id": "68b9e50532ae46f6a2ee04c5a8a3deb9",
       "version_major": 2,
       "version_minor": 0
      },
      "text/plain": [
       "HBox(children=(FloatProgress(value=1.0, bar_style='info', description='Training', layout=Layout(flex='2'), max…"
      ]
     },
     "metadata": {},
     "output_type": "display_data"
    },
    {
     "name": "stderr",
     "output_type": "stream",
     "text": [
      "/mnt/data1/home/s.filimonov/.local/lib/python3.7/site-packages/pytorch_lightning/utilities/distributed.py:68: UserWarning: Detected KeyboardInterrupt, attempting graceful shutdown...\n",
      "  warnings.warn(*args, **kwargs)\n"
     ]
    }
   ],
   "source": [
    "# не дождался когда завершится, возможно где-то ошибка\n",
    "trainer = pl.Trainer(gpus=1)\n",
    "trainer.fit(model, train_loader)"
   ]
  },
  {
   "cell_type": "code",
   "execution_count": null,
   "id": "745a3309",
   "metadata": {},
   "outputs": [],
   "source": []
  },
  {
   "cell_type": "code",
   "execution_count": 26,
   "id": "de2879e3",
   "metadata": {},
   "outputs": [],
   "source": [
    "# попробуeм transformers train\n",
    "\n",
    "training_args = TrainingArguments(\n",
    "    output_dir='./results',          # output directory\n",
    "    num_train_epochs=20,              # total # of training epochs\n",
    "    per_device_train_batch_size=16,  # batch size per device during training\n",
    "    per_device_eval_batch_size=16,   # batch size for evaluation\n",
    "    warmup_steps=500,                # number of warmup steps for learning rate scheduler\n",
    "    weight_decay=0.01,               # strength of weight decay\n",
    "    logging_dir='./logs',            # directory for storing logs\n",
    "    dataloader_pin_memory = False,\n",
    ")\n",
    "\n",
    "tr_trainer = Trainer(\n",
    "    model=mlm_model,\n",
    "    args = training_args,\n",
    "    train_dataset=BertLMDataset(train_data),\n",
    "    eval_dataset=BertLMDataset(valid_data),\n",
    "    tokenizer=tokenizer,\n",
    "    data_collator=data_collater,\n",
    ")\n",
    "tr_trainer.device = device"
   ]
  },
  {
   "cell_type": "code",
   "execution_count": 27,
   "id": "58d0ced5",
   "metadata": {},
   "outputs": [
    {
     "data": {
      "text/html": [
       "\n",
       "    <div>\n",
       "        <style>\n",
       "            /* Turns off some styling */\n",
       "            progress {\n",
       "                /* gets rid of default border in Firefox and Opera. */\n",
       "                border: none;\n",
       "                /* Needs to be in here for Safari polyfill so background images work as expected. */\n",
       "                background-size: auto;\n",
       "            }\n",
       "        </style>\n",
       "      \n",
       "      <progress value='3280' max='3280' style='width:300px; height:20px; vertical-align: middle;'></progress>\n",
       "      [3280/3280 14:10, Epoch 20/20]\n",
       "    </div>\n",
       "    <table border=\"1\" class=\"dataframe\">\n",
       "  <thead>\n",
       "    <tr style=\"text-align: left;\">\n",
       "      <th>Step</th>\n",
       "      <th>Training Loss</th>\n",
       "    </tr>\n",
       "  </thead>\n",
       "  <tbody>\n",
       "    <tr>\n",
       "      <td>500</td>\n",
       "      <td>4.001100</td>\n",
       "    </tr>\n",
       "    <tr>\n",
       "      <td>1000</td>\n",
       "      <td>1.850300</td>\n",
       "    </tr>\n",
       "    <tr>\n",
       "      <td>1500</td>\n",
       "      <td>1.474200</td>\n",
       "    </tr>\n",
       "    <tr>\n",
       "      <td>2000</td>\n",
       "      <td>1.260300</td>\n",
       "    </tr>\n",
       "    <tr>\n",
       "      <td>2500</td>\n",
       "      <td>1.127600</td>\n",
       "    </tr>\n",
       "    <tr>\n",
       "      <td>3000</td>\n",
       "      <td>1.043200</td>\n",
       "    </tr>\n",
       "  </tbody>\n",
       "</table><p>"
      ],
      "text/plain": [
       "<IPython.core.display.HTML object>"
      ]
     },
     "metadata": {},
     "output_type": "display_data"
    },
    {
     "data": {
      "text/plain": [
       "TrainOutput(global_step=3280, training_loss=1.7261165060648105, metrics={'train_runtime': 852.7807, 'train_samples_per_second': 3.846, 'total_flos': 5796496377268704.0, 'epoch': 20.0, 'init_mem_cpu_alloc_delta': 7975950, 'init_mem_gpu_alloc_delta': 0, 'init_mem_cpu_peaked_delta': 18306, 'init_mem_gpu_peaked_delta': 0, 'train_mem_cpu_alloc_delta': 47578961, 'train_mem_gpu_alloc_delta': 2158646784, 'train_mem_cpu_peaked_delta': 736026405, 'train_mem_gpu_peaked_delta': 8228092416})"
      ]
     },
     "execution_count": 27,
     "metadata": {},
     "output_type": "execute_result"
    }
   ],
   "source": [
    "tr_trainer.train()"
   ]
  },
  {
   "cell_type": "code",
   "execution_count": 28,
   "id": "7a98bd3f",
   "metadata": {},
   "outputs": [
    {
     "data": {
      "text/html": [
       "\n",
       "    <div>\n",
       "        <style>\n",
       "            /* Turns off some styling */\n",
       "            progress {\n",
       "                /* gets rid of default border in Firefox and Opera. */\n",
       "                border: none;\n",
       "                /* Needs to be in here for Safari polyfill so background images work as expected. */\n",
       "                background-size: auto;\n",
       "            }\n",
       "        </style>\n",
       "      \n",
       "      <progress value='60' max='20' style='width:300px; height:20px; vertical-align: middle;'></progress>\n",
       "      [20/20 28:44]\n",
       "    </div>\n",
       "    "
      ],
      "text/plain": [
       "<IPython.core.display.HTML object>"
      ]
     },
     "metadata": {},
     "output_type": "display_data"
    },
    {
     "data": {
      "text/plain": [
       "{'eval_loss': 1.3709205389022827,\n",
       " 'eval_runtime': 1.3961,\n",
       " 'eval_samples_per_second': 219.9,\n",
       " 'epoch': 20.0,\n",
       " 'eval_mem_cpu_alloc_delta': 75184,\n",
       " 'eval_mem_gpu_alloc_delta': 0,\n",
       " 'eval_mem_cpu_peaked_delta': 18274,\n",
       " 'eval_mem_gpu_peaked_delta': 2379474432}"
      ]
     },
     "execution_count": 28,
     "metadata": {},
     "output_type": "execute_result"
    }
   ],
   "source": [
    "tr_trainer.evaluate()"
   ]
  },
  {
   "cell_type": "code",
   "execution_count": 29,
   "id": "deae2965",
   "metadata": {},
   "outputs": [
    {
     "data": {
      "text/html": [
       "\n",
       "    <div>\n",
       "        <style>\n",
       "            /* Turns off some styling */\n",
       "            progress {\n",
       "                /* gets rid of default border in Firefox and Opera. */\n",
       "                border: none;\n",
       "                /* Needs to be in here for Safari polyfill so background images work as expected. */\n",
       "                background-size: auto;\n",
       "            }\n",
       "        </style>\n",
       "      \n",
       "      <progress value='3280' max='3280' style='width:300px; height:20px; vertical-align: middle;'></progress>\n",
       "      [3280/3280 14:19, Epoch 20/20]\n",
       "    </div>\n",
       "    <table border=\"1\" class=\"dataframe\">\n",
       "  <thead>\n",
       "    <tr style=\"text-align: left;\">\n",
       "      <th>Step</th>\n",
       "      <th>Training Loss</th>\n",
       "    </tr>\n",
       "  </thead>\n",
       "  <tbody>\n",
       "    <tr>\n",
       "      <td>500</td>\n",
       "      <td>0.995700</td>\n",
       "    </tr>\n",
       "    <tr>\n",
       "      <td>1000</td>\n",
       "      <td>0.999400</td>\n",
       "    </tr>\n",
       "    <tr>\n",
       "      <td>1500</td>\n",
       "      <td>1.016500</td>\n",
       "    </tr>\n",
       "    <tr>\n",
       "      <td>2000</td>\n",
       "      <td>1.012100</td>\n",
       "    </tr>\n",
       "    <tr>\n",
       "      <td>2500</td>\n",
       "      <td>1.003800</td>\n",
       "    </tr>\n",
       "    <tr>\n",
       "      <td>3000</td>\n",
       "      <td>1.004400</td>\n",
       "    </tr>\n",
       "  </tbody>\n",
       "</table><p>"
      ],
      "text/plain": [
       "<IPython.core.display.HTML object>"
      ]
     },
     "metadata": {},
     "output_type": "display_data"
    },
    {
     "data": {
      "text/plain": [
       "TrainOutput(global_step=3280, training_loss=1.0068660643042588, metrics={'train_runtime': 859.5679, 'train_samples_per_second': 3.816, 'total_flos': 5806756252570608.0, 'epoch': 20.0, 'train_mem_cpu_alloc_delta': 125857, 'train_mem_gpu_alloc_delta': 11776, 'train_mem_cpu_peaked_delta': 736026078, 'train_mem_gpu_peaked_delta': 8228471296})"
      ]
     },
     "execution_count": 29,
     "metadata": {},
     "output_type": "execute_result"
    }
   ],
   "source": [
    "tr_trainer.train()"
   ]
  },
  {
   "cell_type": "code",
   "execution_count": 30,
   "id": "82c42d80",
   "metadata": {},
   "outputs": [
    {
     "data": {
      "text/plain": [
       "{'eval_loss': 1.3725683689117432,\n",
       " 'eval_runtime': 1.3814,\n",
       " 'eval_samples_per_second': 222.238,\n",
       " 'epoch': 20.0,\n",
       " 'eval_mem_cpu_alloc_delta': 57569,\n",
       " 'eval_mem_gpu_alloc_delta': 0,\n",
       " 'eval_mem_cpu_peaked_delta': 25884,\n",
       " 'eval_mem_gpu_peaked_delta': 2379474432}"
      ]
     },
     "execution_count": 30,
     "metadata": {},
     "output_type": "execute_result"
    }
   ],
   "source": [
    "tr_trainer.evaluate()"
   ]
  },
  {
   "cell_type": "code",
   "execution_count": 31,
   "id": "ddeee4ff",
   "metadata": {},
   "outputs": [
    {
     "data": {
      "text/html": [
       "\n",
       "    <div>\n",
       "        <style>\n",
       "            /* Turns off some styling */\n",
       "            progress {\n",
       "                /* gets rid of default border in Firefox and Opera. */\n",
       "                border: none;\n",
       "                /* Needs to be in here for Safari polyfill so background images work as expected. */\n",
       "                background-size: auto;\n",
       "            }\n",
       "        </style>\n",
       "      \n",
       "      <progress value='3280' max='3280' style='width:300px; height:20px; vertical-align: middle;'></progress>\n",
       "      [3280/3280 14:16, Epoch 20/20]\n",
       "    </div>\n",
       "    <table border=\"1\" class=\"dataframe\">\n",
       "  <thead>\n",
       "    <tr style=\"text-align: left;\">\n",
       "      <th>Step</th>\n",
       "      <th>Training Loss</th>\n",
       "    </tr>\n",
       "  </thead>\n",
       "  <tbody>\n",
       "    <tr>\n",
       "      <td>500</td>\n",
       "      <td>1.007700</td>\n",
       "    </tr>\n",
       "    <tr>\n",
       "      <td>1000</td>\n",
       "      <td>1.002400</td>\n",
       "    </tr>\n",
       "    <tr>\n",
       "      <td>1500</td>\n",
       "      <td>1.003300</td>\n",
       "    </tr>\n",
       "    <tr>\n",
       "      <td>2000</td>\n",
       "      <td>0.991900</td>\n",
       "    </tr>\n",
       "    <tr>\n",
       "      <td>2500</td>\n",
       "      <td>1.010200</td>\n",
       "    </tr>\n",
       "    <tr>\n",
       "      <td>3000</td>\n",
       "      <td>1.010900</td>\n",
       "    </tr>\n",
       "  </tbody>\n",
       "</table><p>"
      ],
      "text/plain": [
       "<IPython.core.display.HTML object>"
      ]
     },
     "metadata": {},
     "output_type": "display_data"
    },
    {
     "data": {
      "text/plain": [
       "TrainOutput(global_step=3280, training_loss=1.005545564977134, metrics={'train_runtime': 857.238, 'train_samples_per_second': 3.826, 'total_flos': 5799221523164880.0, 'epoch': 20.0, 'train_mem_cpu_alloc_delta': 421688, 'train_mem_gpu_alloc_delta': 9728, 'train_mem_cpu_peaked_delta': 735731009, 'train_mem_gpu_peaked_delta': 8228882944})"
      ]
     },
     "execution_count": 31,
     "metadata": {},
     "output_type": "execute_result"
    }
   ],
   "source": [
    "tr_trainer.train()"
   ]
  },
  {
   "cell_type": "code",
   "execution_count": 32,
   "id": "2217283d",
   "metadata": {},
   "outputs": [
    {
     "data": {
      "text/plain": [
       "{'eval_loss': 1.3046634197235107,\n",
       " 'eval_runtime': 1.3155,\n",
       " 'eval_samples_per_second': 233.377,\n",
       " 'epoch': 20.0,\n",
       " 'eval_mem_cpu_alloc_delta': 56477,\n",
       " 'eval_mem_gpu_alloc_delta': 0,\n",
       " 'eval_mem_cpu_peaked_delta': 26440,\n",
       " 'eval_mem_gpu_peaked_delta': 2379474432}"
      ]
     },
     "execution_count": 32,
     "metadata": {},
     "output_type": "execute_result"
    }
   ],
   "source": [
    "tr_trainer.evaluate()"
   ]
  },
  {
   "cell_type": "code",
   "execution_count": null,
   "id": "b348506f",
   "metadata": {},
   "outputs": [],
   "source": []
  },
  {
   "cell_type": "code",
   "execution_count": 39,
   "id": "1f2de5a5",
   "metadata": {},
   "outputs": [
    {
     "data": {
      "text/plain": [
       "'DeepPavlov/rubert-base-cased-sentence'"
      ]
     },
     "execution_count": 39,
     "metadata": {},
     "output_type": "execute_result"
    }
   ],
   "source": [
    "pretrained_name"
   ]
  },
  {
   "cell_type": "code",
   "execution_count": 44,
   "id": "7fcc608b",
   "metadata": {},
   "outputs": [],
   "source": [
    "# BertForSequenceClassification.from_pretrained(pretrained_name).bert = mlm_model.bert"
   ]
  },
  {
   "cell_type": "code",
   "execution_count": 45,
   "id": "b409db1b",
   "metadata": {},
   "outputs": [],
   "source": [
    "# mlm_model"
   ]
  },
  {
   "cell_type": "markdown",
   "id": "10e906db",
   "metadata": {},
   "source": [
    "**Part 5. [4 points] Finetune on classification task your new LM model**\n",
    "Finetune on a classification task with BERT-based model you've done in part 4 Example of code see here\n",
    "Submit your results and get scores for your models. https://www.kaggle.com/c/mipt-nlp-hw3-2021\n"
   ]
  },
  {
   "cell_type": "code",
   "execution_count": 33,
   "id": "74ec6969",
   "metadata": {},
   "outputs": [
    {
     "name": "stderr",
     "output_type": "stream",
     "text": [
      "  0%|          | 1/654 [00:00<01:48,  6.01it/s]"
     ]
    },
    {
     "name": "stdout",
     "output_type": "stream",
     "text": [
      "Current prams {'lr': 2e-05, 'epochs': 10, 'pretrained_name': 'DeepPavlov/rubert-base-cased-sentence'}\n"
     ]
    },
    {
     "name": "stderr",
     "output_type": "stream",
     "text": [
      "100%|██████████| 654/654 [01:01<00:00, 10.58it/s]\n",
      "  0%|          | 0/77 [00:00<?, ?it/s]"
     ]
    },
    {
     "name": "stdout",
     "output_type": "stream",
     "text": [
      "\n",
      "            Train Epoch: 0, \n",
      "            loss: 0.7166303396224976, \n",
      "            Acc: 0.5175840854644775,\n",
      "            F1: 0.42167613222658923,\n",
      "            F0.5: 0.41702950550134593,\n",
      "        \n"
     ]
    },
    {
     "name": "stderr",
     "output_type": "stream",
     "text": [
      "100%|██████████| 77/77 [00:01<00:00, 41.20it/s]\n"
     ]
    },
    {
     "name": "stdout",
     "output_type": "stream",
     "text": [
      "\n",
      "            Eval Epoch: 0, \n",
      "            loss: 0.6790532469749451, \n",
      "            Acc: 0.5768398642539978,\n",
      "            F1: 0.48194186765615354,\n",
      "            F0.5: 0.48172174174094096,\n",
      "        \n"
     ]
    },
    {
     "name": "stderr",
     "output_type": "stream",
     "text": [
      "100%|██████████| 654/654 [01:01<00:00, 10.68it/s]\n",
      "  0%|          | 0/77 [00:00<?, ?it/s]"
     ]
    },
    {
     "name": "stdout",
     "output_type": "stream",
     "text": [
      "\n",
      "            Train Epoch: 1, \n",
      "            loss: 0.6552241444587708, \n",
      "            Acc: 0.6292049288749695,\n",
      "            F1: 0.5491408184068721,\n",
      "            F0.5: 0.5550510109608783,\n",
      "        \n"
     ]
    },
    {
     "name": "stderr",
     "output_type": "stream",
     "text": [
      "100%|██████████| 77/77 [00:01<00:00, 42.01it/s]\n"
     ]
    },
    {
     "name": "stdout",
     "output_type": "stream",
     "text": [
      "\n",
      "            Eval Epoch: 1, \n",
      "            loss: 0.642403781414032, \n",
      "            Acc: 0.612554132938385,\n",
      "            F1: 0.509152752009895,\n",
      "            F0.5: 0.5087438141069881,\n",
      "        \n"
     ]
    },
    {
     "name": "stderr",
     "output_type": "stream",
     "text": [
      "100%|██████████| 654/654 [01:01<00:00, 10.63it/s]\n",
      "  0%|          | 0/77 [00:00<?, ?it/s]"
     ]
    },
    {
     "name": "stdout",
     "output_type": "stream",
     "text": [
      "\n",
      "            Train Epoch: 2, \n",
      "            loss: 0.42076733708381653, \n",
      "            Acc: 0.8153669834136963,\n",
      "            F1: 0.7670962574632307,\n",
      "            F0.5: 0.7763193982469427,\n",
      "        \n"
     ]
    },
    {
     "name": "stderr",
     "output_type": "stream",
     "text": [
      "100%|██████████| 77/77 [00:01<00:00, 41.47it/s]\n"
     ]
    },
    {
     "name": "stdout",
     "output_type": "stream",
     "text": [
      "\n",
      "            Eval Epoch: 2, \n",
      "            loss: 0.7191131114959717, \n",
      "            Acc: 0.6341991424560547,\n",
      "            F1: 0.5681818181818185,\n",
      "            F0.5: 0.5768053635725823,\n",
      "        \n"
     ]
    },
    {
     "name": "stderr",
     "output_type": "stream",
     "text": [
      "100%|██████████| 654/654 [01:01<00:00, 10.58it/s]\n",
      "  0%|          | 0/77 [00:00<?, ?it/s]"
     ]
    },
    {
     "name": "stdout",
     "output_type": "stream",
     "text": [
      "\n",
      "            Train Epoch: 3, \n",
      "            loss: 0.2164061963558197, \n",
      "            Acc: 0.9178134799003601,\n",
      "            F1: 0.8923838648609308,\n",
      "            F0.5: 0.8959115218168805,\n",
      "        \n"
     ]
    },
    {
     "name": "stderr",
     "output_type": "stream",
     "text": [
      "100%|██████████| 77/77 [00:01<00:00, 42.19it/s]\n"
     ]
    },
    {
     "name": "stdout",
     "output_type": "stream",
     "text": [
      "\n",
      "            Eval Epoch: 3, \n",
      "            loss: 1.0433546304702759, \n",
      "            Acc: 0.6580086946487427,\n",
      "            F1: 0.5944341372912803,\n",
      "            F0.5: 0.6096266055468036,\n",
      "        \n"
     ]
    },
    {
     "name": "stderr",
     "output_type": "stream",
     "text": [
      "100%|██████████| 654/654 [01:01<00:00, 10.57it/s]\n",
      "  0%|          | 0/77 [00:00<?, ?it/s]"
     ]
    },
    {
     "name": "stdout",
     "output_type": "stream",
     "text": [
      "\n",
      "            Train Epoch: 4, \n",
      "            loss: 0.09115779399871826, \n",
      "            Acc: 0.969419002532959,\n",
      "            F1: 0.9599315567205481,\n",
      "            F0.5: 0.962117424854327,\n",
      "        \n"
     ]
    },
    {
     "name": "stderr",
     "output_type": "stream",
     "text": [
      "100%|██████████| 77/77 [00:01<00:00, 41.67it/s]\n",
      "  0%|          | 2/654 [00:00<01:00, 10.80it/s]"
     ]
    },
    {
     "name": "stdout",
     "output_type": "stream",
     "text": [
      "\n",
      "            Eval Epoch: 4, \n",
      "            loss: 1.2169421911239624, \n",
      "            Acc: 0.6525974273681641,\n",
      "            F1: 0.5737786023500312,\n",
      "            F0.5: 0.5828583061580325,\n",
      "        \n"
     ]
    },
    {
     "name": "stderr",
     "output_type": "stream",
     "text": [
      "  6%|▌         | 38/654 [00:03<01:00, 10.12it/s]\n"
     ]
    },
    {
     "ename": "KeyboardInterrupt",
     "evalue": "",
     "output_type": "error",
     "traceback": [
      "\u001b[0;31m---------------------------------------------------------------------------\u001b[0m",
      "\u001b[0;31mKeyboardInterrupt\u001b[0m                         Traceback (most recent call last)",
      "\u001b[0;32m<ipython-input-33-dc742d82ea58>\u001b[0m in \u001b[0;36m<module>\u001b[0;34m\u001b[0m\n\u001b[1;32m      4\u001b[0m \u001b[0mmlm_model\u001b[0m\u001b[0;34m.\u001b[0m\u001b[0mtrain\u001b[0m\u001b[0;34m(\u001b[0m\u001b[0;34m)\u001b[0m\u001b[0;34m\u001b[0m\u001b[0;34m\u001b[0m\u001b[0m\n\u001b[1;32m      5\u001b[0m \u001b[0mtrainer\u001b[0m\u001b[0;34m.\u001b[0m\u001b[0mmodel\u001b[0m\u001b[0;34m.\u001b[0m\u001b[0mbert\u001b[0m \u001b[0;34m=\u001b[0m \u001b[0mdeepcopy\u001b[0m\u001b[0;34m(\u001b[0m\u001b[0mmlm_model\u001b[0m\u001b[0;34m.\u001b[0m\u001b[0mbert\u001b[0m\u001b[0;34m)\u001b[0m\u001b[0;34m\u001b[0m\u001b[0;34m\u001b[0m\u001b[0m\n\u001b[0;32m----> 6\u001b[0;31m \u001b[0mtrainer\u001b[0m\u001b[0;34m.\u001b[0m\u001b[0mtrain\u001b[0m\u001b[0;34m(\u001b[0m\u001b[0;34m)\u001b[0m\u001b[0;34m\u001b[0m\u001b[0;34m\u001b[0m\u001b[0m\n\u001b[0m",
      "\u001b[0;32m<ipython-input-16-26b4b1caf6e1>\u001b[0m in \u001b[0;36mtrain\u001b[0;34m(self)\u001b[0m\n\u001b[1;32m     65\u001b[0m         \u001b[0mbest_eval_metric\u001b[0m \u001b[0;34m=\u001b[0m \u001b[0;36m0\u001b[0m\u001b[0;34m\u001b[0m\u001b[0;34m\u001b[0m\u001b[0m\n\u001b[1;32m     66\u001b[0m         \u001b[0;32mfor\u001b[0m \u001b[0mepoch\u001b[0m \u001b[0;32min\u001b[0m \u001b[0mrange\u001b[0m\u001b[0;34m(\u001b[0m\u001b[0mparams\u001b[0m\u001b[0;34m[\u001b[0m\u001b[0;34m'epochs'\u001b[0m\u001b[0;34m]\u001b[0m\u001b[0;34m)\u001b[0m\u001b[0;34m:\u001b[0m\u001b[0;34m\u001b[0m\u001b[0;34m\u001b[0m\u001b[0m\n\u001b[0;32m---> 67\u001b[0;31m             \u001b[0mself\u001b[0m\u001b[0;34m.\u001b[0m\u001b[0mtrain_epoch\u001b[0m\u001b[0;34m(\u001b[0m\u001b[0mepoch\u001b[0m\u001b[0;34m)\u001b[0m\u001b[0;34m\u001b[0m\u001b[0;34m\u001b[0m\u001b[0m\n\u001b[0m\u001b[1;32m     68\u001b[0m             \u001b[0mcurr_eval_metric\u001b[0m \u001b[0;34m=\u001b[0m \u001b[0mself\u001b[0m\u001b[0;34m.\u001b[0m\u001b[0meval_epoch\u001b[0m\u001b[0;34m(\u001b[0m\u001b[0mepoch\u001b[0m\u001b[0;34m)\u001b[0m\u001b[0;34m\u001b[0m\u001b[0;34m\u001b[0m\u001b[0m\n\u001b[1;32m     69\u001b[0m             \u001b[0;32mif\u001b[0m \u001b[0mcurr_eval_metric\u001b[0m \u001b[0;34m>\u001b[0m \u001b[0mbest_eval_metric\u001b[0m\u001b[0;34m:\u001b[0m\u001b[0;34m\u001b[0m\u001b[0;34m\u001b[0m\u001b[0m\n",
      "\u001b[0;32m<ipython-input-16-26b4b1caf6e1>\u001b[0m in \u001b[0;36mtrain_epoch\u001b[0;34m(self, epoch)\u001b[0m\n\u001b[1;32m     85\u001b[0m             \u001b[0mloss\u001b[0m \u001b[0;34m=\u001b[0m \u001b[0mself\u001b[0m\u001b[0;34m.\u001b[0m\u001b[0mcriterion\u001b[0m\u001b[0;34m(\u001b[0m\u001b[0mpredictions\u001b[0m\u001b[0;34m,\u001b[0m \u001b[0mbatch\u001b[0m\u001b[0;34m.\u001b[0m\u001b[0mlabel\u001b[0m\u001b[0;34m)\u001b[0m\u001b[0;34m\u001b[0m\u001b[0;34m\u001b[0m\u001b[0m\n\u001b[1;32m     86\u001b[0m             \u001b[0mloss\u001b[0m\u001b[0;34m.\u001b[0m\u001b[0mbackward\u001b[0m\u001b[0;34m(\u001b[0m\u001b[0;34m)\u001b[0m\u001b[0;34m\u001b[0m\u001b[0;34m\u001b[0m\u001b[0m\n\u001b[0;32m---> 87\u001b[0;31m             \u001b[0mself\u001b[0m\u001b[0;34m.\u001b[0m\u001b[0moptimizer\u001b[0m\u001b[0;34m.\u001b[0m\u001b[0mstep\u001b[0m\u001b[0;34m(\u001b[0m\u001b[0;34m)\u001b[0m\u001b[0;34m\u001b[0m\u001b[0;34m\u001b[0m\u001b[0m\n\u001b[0m\u001b[1;32m     88\u001b[0m             \u001b[0mepoch_loss\u001b[0m \u001b[0;34m+=\u001b[0m \u001b[0mloss\u001b[0m\u001b[0;34m\u001b[0m\u001b[0;34m\u001b[0m\u001b[0m\n\u001b[1;32m     89\u001b[0m             \u001b[0mepoch_acc\u001b[0m \u001b[0;34m+=\u001b[0m \u001b[0mself\u001b[0m\u001b[0;34m.\u001b[0m\u001b[0mcategorical_accuracy\u001b[0m\u001b[0;34m(\u001b[0m\u001b[0mpredictions\u001b[0m\u001b[0;34m,\u001b[0m \u001b[0mbatch\u001b[0m\u001b[0;34m.\u001b[0m\u001b[0mlabel\u001b[0m\u001b[0;34m)\u001b[0m\u001b[0;34m\u001b[0m\u001b[0;34m\u001b[0m\u001b[0m\n",
      "\u001b[0;32m~/.local/lib/python3.7/site-packages/torch/optim/lr_scheduler.py\u001b[0m in \u001b[0;36mwrapper\u001b[0;34m(*args, **kwargs)\u001b[0m\n\u001b[1;32m     65\u001b[0m                 \u001b[0minstance\u001b[0m\u001b[0;34m.\u001b[0m\u001b[0m_step_count\u001b[0m \u001b[0;34m+=\u001b[0m \u001b[0;36m1\u001b[0m\u001b[0;34m\u001b[0m\u001b[0;34m\u001b[0m\u001b[0m\n\u001b[1;32m     66\u001b[0m                 \u001b[0mwrapped\u001b[0m \u001b[0;34m=\u001b[0m \u001b[0mfunc\u001b[0m\u001b[0;34m.\u001b[0m\u001b[0m__get__\u001b[0m\u001b[0;34m(\u001b[0m\u001b[0minstance\u001b[0m\u001b[0;34m,\u001b[0m \u001b[0mcls\u001b[0m\u001b[0;34m)\u001b[0m\u001b[0;34m\u001b[0m\u001b[0;34m\u001b[0m\u001b[0m\n\u001b[0;32m---> 67\u001b[0;31m                 \u001b[0;32mreturn\u001b[0m \u001b[0mwrapped\u001b[0m\u001b[0;34m(\u001b[0m\u001b[0;34m*\u001b[0m\u001b[0margs\u001b[0m\u001b[0;34m,\u001b[0m \u001b[0;34m**\u001b[0m\u001b[0mkwargs\u001b[0m\u001b[0;34m)\u001b[0m\u001b[0;34m\u001b[0m\u001b[0;34m\u001b[0m\u001b[0m\n\u001b[0m\u001b[1;32m     68\u001b[0m \u001b[0;34m\u001b[0m\u001b[0m\n\u001b[1;32m     69\u001b[0m             \u001b[0;31m# Note that the returned function here is no longer a bound method,\u001b[0m\u001b[0;34m\u001b[0m\u001b[0;34m\u001b[0m\u001b[0;34m\u001b[0m\u001b[0m\n",
      "\u001b[0;32m~/.local/lib/python3.7/site-packages/torch/autograd/grad_mode.py\u001b[0m in \u001b[0;36mdecorate_context\u001b[0;34m(*args, **kwargs)\u001b[0m\n\u001b[1;32m     24\u001b[0m         \u001b[0;32mdef\u001b[0m \u001b[0mdecorate_context\u001b[0m\u001b[0;34m(\u001b[0m\u001b[0;34m*\u001b[0m\u001b[0margs\u001b[0m\u001b[0;34m,\u001b[0m \u001b[0;34m**\u001b[0m\u001b[0mkwargs\u001b[0m\u001b[0;34m)\u001b[0m\u001b[0;34m:\u001b[0m\u001b[0;34m\u001b[0m\u001b[0;34m\u001b[0m\u001b[0m\n\u001b[1;32m     25\u001b[0m             \u001b[0;32mwith\u001b[0m \u001b[0mself\u001b[0m\u001b[0;34m.\u001b[0m\u001b[0m__class__\u001b[0m\u001b[0;34m(\u001b[0m\u001b[0;34m)\u001b[0m\u001b[0;34m:\u001b[0m\u001b[0;34m\u001b[0m\u001b[0;34m\u001b[0m\u001b[0m\n\u001b[0;32m---> 26\u001b[0;31m                 \u001b[0;32mreturn\u001b[0m \u001b[0mfunc\u001b[0m\u001b[0;34m(\u001b[0m\u001b[0;34m*\u001b[0m\u001b[0margs\u001b[0m\u001b[0;34m,\u001b[0m \u001b[0;34m**\u001b[0m\u001b[0mkwargs\u001b[0m\u001b[0;34m)\u001b[0m\u001b[0;34m\u001b[0m\u001b[0;34m\u001b[0m\u001b[0m\n\u001b[0m\u001b[1;32m     27\u001b[0m         \u001b[0;32mreturn\u001b[0m \u001b[0mcast\u001b[0m\u001b[0;34m(\u001b[0m\u001b[0mF\u001b[0m\u001b[0;34m,\u001b[0m \u001b[0mdecorate_context\u001b[0m\u001b[0;34m)\u001b[0m\u001b[0;34m\u001b[0m\u001b[0;34m\u001b[0m\u001b[0m\n\u001b[1;32m     28\u001b[0m \u001b[0;34m\u001b[0m\u001b[0m\n",
      "\u001b[0;32m~/.local/lib/python3.7/site-packages/torch/optim/adam.py\u001b[0m in \u001b[0;36mstep\u001b[0;34m(self, closure)\u001b[0m\n\u001b[1;32m    117\u001b[0m                    \u001b[0mgroup\u001b[0m\u001b[0;34m[\u001b[0m\u001b[0;34m'lr'\u001b[0m\u001b[0;34m]\u001b[0m\u001b[0;34m,\u001b[0m\u001b[0;34m\u001b[0m\u001b[0;34m\u001b[0m\u001b[0m\n\u001b[1;32m    118\u001b[0m                    \u001b[0mgroup\u001b[0m\u001b[0;34m[\u001b[0m\u001b[0;34m'weight_decay'\u001b[0m\u001b[0;34m]\u001b[0m\u001b[0;34m,\u001b[0m\u001b[0;34m\u001b[0m\u001b[0;34m\u001b[0m\u001b[0m\n\u001b[0;32m--> 119\u001b[0;31m                    \u001b[0mgroup\u001b[0m\u001b[0;34m[\u001b[0m\u001b[0;34m'eps'\u001b[0m\u001b[0;34m]\u001b[0m\u001b[0;34m\u001b[0m\u001b[0;34m\u001b[0m\u001b[0m\n\u001b[0m\u001b[1;32m    120\u001b[0m                    )\n\u001b[1;32m    121\u001b[0m         \u001b[0;32mreturn\u001b[0m \u001b[0mloss\u001b[0m\u001b[0;34m\u001b[0m\u001b[0;34m\u001b[0m\u001b[0m\n",
      "\u001b[0;32m~/.local/lib/python3.7/site-packages/torch/optim/functional.py\u001b[0m in \u001b[0;36madam\u001b[0;34m(params, grads, exp_avgs, exp_avg_sqs, max_exp_avg_sqs, state_steps, amsgrad, beta1, beta2, lr, weight_decay, eps)\u001b[0m\n\u001b[1;32m     85\u001b[0m         \u001b[0;31m# Decay the first and second moment running average coefficient\u001b[0m\u001b[0;34m\u001b[0m\u001b[0;34m\u001b[0m\u001b[0;34m\u001b[0m\u001b[0m\n\u001b[1;32m     86\u001b[0m         \u001b[0mexp_avg\u001b[0m\u001b[0;34m.\u001b[0m\u001b[0mmul_\u001b[0m\u001b[0;34m(\u001b[0m\u001b[0mbeta1\u001b[0m\u001b[0;34m)\u001b[0m\u001b[0;34m.\u001b[0m\u001b[0madd_\u001b[0m\u001b[0;34m(\u001b[0m\u001b[0mgrad\u001b[0m\u001b[0;34m,\u001b[0m \u001b[0malpha\u001b[0m\u001b[0;34m=\u001b[0m\u001b[0;36m1\u001b[0m \u001b[0;34m-\u001b[0m \u001b[0mbeta1\u001b[0m\u001b[0;34m)\u001b[0m\u001b[0;34m\u001b[0m\u001b[0;34m\u001b[0m\u001b[0m\n\u001b[0;32m---> 87\u001b[0;31m         \u001b[0mexp_avg_sq\u001b[0m\u001b[0;34m.\u001b[0m\u001b[0mmul_\u001b[0m\u001b[0;34m(\u001b[0m\u001b[0mbeta2\u001b[0m\u001b[0;34m)\u001b[0m\u001b[0;34m.\u001b[0m\u001b[0maddcmul_\u001b[0m\u001b[0;34m(\u001b[0m\u001b[0mgrad\u001b[0m\u001b[0;34m,\u001b[0m \u001b[0mgrad\u001b[0m\u001b[0;34m,\u001b[0m \u001b[0mvalue\u001b[0m\u001b[0;34m=\u001b[0m\u001b[0;36m1\u001b[0m \u001b[0;34m-\u001b[0m \u001b[0mbeta2\u001b[0m\u001b[0;34m)\u001b[0m\u001b[0;34m\u001b[0m\u001b[0;34m\u001b[0m\u001b[0m\n\u001b[0m\u001b[1;32m     88\u001b[0m         \u001b[0;32mif\u001b[0m \u001b[0mamsgrad\u001b[0m\u001b[0;34m:\u001b[0m\u001b[0;34m\u001b[0m\u001b[0;34m\u001b[0m\u001b[0m\n\u001b[1;32m     89\u001b[0m             \u001b[0;31m# Maintains the maximum of all 2nd moment running avg. till now\u001b[0m\u001b[0;34m\u001b[0m\u001b[0;34m\u001b[0m\u001b[0;34m\u001b[0m\u001b[0m\n",
      "\u001b[0;31mKeyboardInterrupt\u001b[0m: "
     ]
    }
   ],
   "source": [
    "# finetune получившейся модели\n",
    "from copy import deepcopy \n",
    "trainer = ClassTrainer()\n",
    "mlm_model.train()\n",
    "trainer.model.bert = deepcopy(mlm_model.bert)\n",
    "trainer.train()"
   ]
  },
  {
   "cell_type": "code",
   "execution_count": 34,
   "id": "080ff101",
   "metadata": {},
   "outputs": [
    {
     "name": "stderr",
     "output_type": "stream",
     "text": [
      "100%|██████████| 400/400 [00:17<00:00, 23.01it/s]\n"
     ]
    }
   ],
   "source": [
    "# сделаем сабмит лучшей модели\n",
    "trainer.model.load_state_dict(torch.load('best.model'), strict=False)\n",
    "test_dataloader = DataLoader(\n",
    "    BertDataset(\n",
    "        test_data, \n",
    "        tensor_labels=True, \n",
    "        label_flag = False\n",
    "    ), \n",
    "    batch_size = 8, \n",
    "    shuffle = False)\n",
    "test_predictions = []\n",
    "for batch in tqdm(test_dataloader, total = len(test_dataloader)):\n",
    "#     predictions = trainer.model(batch.text['input_ids'], batch.text['attention_mask'])\n",
    "    predictions = trainer.model(**batch.text)\n",
    "    test_predictions += [pred[0] for pred in predictions.argmax(1, keepdim = True).detach().cpu().tolist()]\n",
    "test_predictions = list(\n",
    "    map(lambda x: 'entailment' if x== 1 else 'not_entailment', test_predictions)\n",
    ")"
   ]
  },
  {
   "cell_type": "code",
   "execution_count": 35,
   "id": "4ecc5f73",
   "metadata": {},
   "outputs": [],
   "source": [
    "test_pd = pd.DataFrame(test_predictions, columns = ['Category']).reset_index()\n",
    "test_pd['id'] = test_pd['index']\n",
    "test_pd = test_pd[['id', 'Category']]\n",
    "test_pd.to_csv('submission.csv', index=None)"
   ]
  },
  {
   "cell_type": "code",
   "execution_count": null,
   "id": "1b52d831",
   "metadata": {},
   "outputs": [],
   "source": []
  },
  {
   "cell_type": "markdown",
   "id": "e19519b6",
   "metadata": {},
   "source": [
    "**Part 6. [2 point] Results**\n",
    "Describe your results and experiments. Compare results from tree classifiers."
   ]
  },
  {
   "cell_type": "markdown",
   "id": "28aa3392",
   "metadata": {},
   "source": [
    "Получены и визуализированы BERT эмбединги и метрики - без finetune качество не лучше случайного. После дообучения на задачи классификации качество на тесте возрастает до 0.62. На датасете была дообучена языковая модель, но при ее использовании качество не улучшилось, возможно обучение проводилось с недочетами."
   ]
  },
  {
   "cell_type": "code",
   "execution_count": null,
   "id": "ca742c0d",
   "metadata": {},
   "outputs": [],
   "source": []
  },
  {
   "cell_type": "code",
   "execution_count": null,
   "id": "a35e3a6d",
   "metadata": {},
   "outputs": [],
   "source": []
  },
  {
   "cell_type": "code",
   "execution_count": null,
   "id": "4941ac3f",
   "metadata": {},
   "outputs": [],
   "source": []
  }
 ],
 "metadata": {
  "kernelspec": {
   "display_name": "Python 3",
   "language": "python",
   "name": "python3"
  },
  "language_info": {
   "codemirror_mode": {
    "name": "ipython",
    "version": 3
   },
   "file_extension": ".py",
   "mimetype": "text/x-python",
   "name": "python",
   "nbconvert_exporter": "python",
   "pygments_lexer": "ipython3",
   "version": "3.7.10+"
  }
 },
 "nbformat": 4,
 "nbformat_minor": 5
}
